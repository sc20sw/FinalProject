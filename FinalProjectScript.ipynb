{
 "cells": [
  {
   "attachments": {},
   "cell_type": "markdown",
   "metadata": {},
   "source": [
    "All libraries imported for use through out the project"
   ]
  },
  {
   "cell_type": "code",
   "execution_count": 56,
   "metadata": {},
   "outputs": [],
   "source": [
    "import os\n",
    "import glob\n",
    "import pandas as pd\n",
    "import numpy as np\n",
    "import cv2 \n",
    "import math\n",
    "import xml.etree.ElementTree as ET\n",
    "from skimage.io import imread, imsave\n",
    "from skimage.transform import resize\n",
    "from skimage.feature import hog\n",
    "import matplotlib.pyplot  as plt\n",
    "from sklearn.ensemble import RandomForestRegressor\n",
    "from sklearn.preprocessing import StandardScaler\n",
    "from sklearn.metrics import mean_squared_error\n",
    "from sklearn.preprocessing import OneHotEncoder\n",
    "from sklearn.model_selection import train_test_split\n",
    "from sklearn.metrics import confusion_matrix\n",
    "from sklearn.metrics import classification_report\n",
    "from sklearn.model_selection import GridSearchCV\n",
    "import random \n",
    "from PIL import Image\n",
    "import warnings\n",
    "warnings.simplefilter(action='ignore', category=FutureWarning)\n"
   ]
  },
  {
   "attachments": {},
   "cell_type": "markdown",
   "metadata": {},
   "source": [
    "All file paths are created and assigned to variables for ease of use"
   ]
  },
  {
   "cell_type": "code",
   "execution_count": 57,
   "metadata": {},
   "outputs": [],
   "source": [
    "pro_folder = r\"C:\\Users\\scott\\OneDrive\\Desktop\\m2cai16-tool-locations\\ProcessedImages\"\n",
    "pro_folder = os.path.realpath(pro_folder)\n",
    "raw_folder = r\"C:\\Users\\scott\\OneDrive\\Desktop\\m2cai16-tool-locations\\RawImages\"\n",
    "raw_folder = os.path.realpath(raw_folder)\n",
    "cropped_folder = r\"C:\\Users\\scott\\OneDrive\\Desktop\\m2cai16-tool-locations\\CroppedImages\"\n",
    "cropped_folder = os.path.realpath(cropped_folder)\n",
    "rootdir_folder = r\"C:\\Users\\scott\\OneDrive\\Desktop\\m2cai16-tool-locations\"\n",
    "rootdir_folder = os.path.realpath(rootdir_folder)\n",
    "annotations_folder = r\"C:\\Users\\scott\\OneDrive\\Desktop\\m2cai16-tool-locations\\Annotations\"\n",
    "annotations_folder = os.path.realpath(annotations_folder)\n",
    "images_folder = r\"C:\\Users\\scott\\OneDrive\\Desktop\\m2cai16-tool-locations\\JPEGImages\"\n",
    "images_folder = os.path.realpath(images_folder)\n",
    "neg_folder = r\"C:\\Users\\scott\\OneDrive\\Desktop\\m2cai16-tool-locations\\NegativeImages\"\n",
    "neg_folder = os.path.realpath(neg_folder)\n",
    "original_folder = r\"C:\\Users\\scott\\OneDrive\\Desktop\\m2cai16-tool-locations\\OriginalData\"\n",
    "original_folder = os.path.realpath(original_folder)\n",
    "model_folder = r\"C:\\Users\\scott\\OneDrive\\Desktop\\m2cai16-tool-locations\\Models\"\n",
    "model_folder = os.path.realpath(model_folder)\n",
    "hnm_folder = r\"C:\\Users\\scott\\OneDrive\\Desktop\\m2cai16-tool-locations\\HardNegativeMining\"\n",
    "hnm_folder = os.path.realpath(hnm_folder)\n"
   ]
  },
  {
   "attachments": {},
   "cell_type": "markdown",
   "metadata": {},
   "source": [
    "Initialises dataframe. All required data is taken from the annotations provided in original data set."
   ]
  },
  {
   "cell_type": "code",
   "execution_count": 58,
   "metadata": {},
   "outputs": [
    {
     "data": {
      "text/html": [
       "<div>\n",
       "<style scoped>\n",
       "    .dataframe tbody tr th:only-of-type {\n",
       "        vertical-align: middle;\n",
       "    }\n",
       "\n",
       "    .dataframe tbody tr th {\n",
       "        vertical-align: top;\n",
       "    }\n",
       "\n",
       "    .dataframe thead th {\n",
       "        text-align: right;\n",
       "    }\n",
       "</style>\n",
       "<table border=\"1\" class=\"dataframe\">\n",
       "  <thead>\n",
       "    <tr style=\"text-align: right;\">\n",
       "      <th></th>\n",
       "      <th>filename</th>\n",
       "      <th>img_width</th>\n",
       "      <th>img_height</th>\n",
       "      <th>class</th>\n",
       "      <th>xmin</th>\n",
       "      <th>ymin</th>\n",
       "      <th>xmax</th>\n",
       "      <th>ymax</th>\n",
       "    </tr>\n",
       "  </thead>\n",
       "  <tbody>\n",
       "    <tr>\n",
       "      <th>0</th>\n",
       "      <td>v01_002075.jpg</td>\n",
       "      <td>596</td>\n",
       "      <td>334</td>\n",
       "      <td>Grasper</td>\n",
       "      <td>201</td>\n",
       "      <td>171</td>\n",
       "      <td>256</td>\n",
       "      <td>191</td>\n",
       "    </tr>\n",
       "    <tr>\n",
       "      <th>1</th>\n",
       "      <td>v01_002250.jpg</td>\n",
       "      <td>596</td>\n",
       "      <td>334</td>\n",
       "      <td>Grasper</td>\n",
       "      <td>155</td>\n",
       "      <td>151</td>\n",
       "      <td>210</td>\n",
       "      <td>174</td>\n",
       "    </tr>\n",
       "    <tr>\n",
       "      <th>2</th>\n",
       "      <td>v01_002250.jpg</td>\n",
       "      <td>596</td>\n",
       "      <td>334</td>\n",
       "      <td>Grasper</td>\n",
       "      <td>423</td>\n",
       "      <td>154</td>\n",
       "      <td>487</td>\n",
       "      <td>287</td>\n",
       "    </tr>\n",
       "    <tr>\n",
       "      <th>3</th>\n",
       "      <td>v01_002425.jpg</td>\n",
       "      <td>596</td>\n",
       "      <td>334</td>\n",
       "      <td>Grasper</td>\n",
       "      <td>178</td>\n",
       "      <td>151</td>\n",
       "      <td>227</td>\n",
       "      <td>174</td>\n",
       "    </tr>\n",
       "    <tr>\n",
       "      <th>4</th>\n",
       "      <td>v01_004050.jpg</td>\n",
       "      <td>596</td>\n",
       "      <td>334</td>\n",
       "      <td>Grasper</td>\n",
       "      <td>240</td>\n",
       "      <td>79</td>\n",
       "      <td>315</td>\n",
       "      <td>142</td>\n",
       "    </tr>\n",
       "    <tr>\n",
       "      <th>...</th>\n",
       "      <td>...</td>\n",
       "      <td>...</td>\n",
       "      <td>...</td>\n",
       "      <td>...</td>\n",
       "      <td>...</td>\n",
       "      <td>...</td>\n",
       "      <td>...</td>\n",
       "      <td>...</td>\n",
       "    </tr>\n",
       "    <tr>\n",
       "      <th>3924</th>\n",
       "      <td>v10_065125.jpg</td>\n",
       "      <td>578</td>\n",
       "      <td>324</td>\n",
       "      <td>SpecimenBag</td>\n",
       "      <td>327</td>\n",
       "      <td>197</td>\n",
       "      <td>444</td>\n",
       "      <td>294</td>\n",
       "    </tr>\n",
       "    <tr>\n",
       "      <th>3925</th>\n",
       "      <td>v10_065150.jpg</td>\n",
       "      <td>578</td>\n",
       "      <td>324</td>\n",
       "      <td>SpecimenBag</td>\n",
       "      <td>125</td>\n",
       "      <td>134</td>\n",
       "      <td>348</td>\n",
       "      <td>303</td>\n",
       "    </tr>\n",
       "    <tr>\n",
       "      <th>3926</th>\n",
       "      <td>v10_066100.jpg</td>\n",
       "      <td>578</td>\n",
       "      <td>324</td>\n",
       "      <td>SpecimenBag</td>\n",
       "      <td>106</td>\n",
       "      <td>111</td>\n",
       "      <td>341</td>\n",
       "      <td>216</td>\n",
       "    </tr>\n",
       "    <tr>\n",
       "      <th>3927</th>\n",
       "      <td>v10_066100.jpg</td>\n",
       "      <td>578</td>\n",
       "      <td>324</td>\n",
       "      <td>Grasper</td>\n",
       "      <td>163</td>\n",
       "      <td>7</td>\n",
       "      <td>338</td>\n",
       "      <td>69</td>\n",
       "    </tr>\n",
       "    <tr>\n",
       "      <th>3928</th>\n",
       "      <td>v10_066125.jpg</td>\n",
       "      <td>578</td>\n",
       "      <td>324</td>\n",
       "      <td>SpecimenBag</td>\n",
       "      <td>126</td>\n",
       "      <td>176</td>\n",
       "      <td>387</td>\n",
       "      <td>285</td>\n",
       "    </tr>\n",
       "  </tbody>\n",
       "</table>\n",
       "<p>3929 rows × 8 columns</p>\n",
       "</div>"
      ],
      "text/plain": [
       "            filename  img_width  img_height        class  xmin  ymin  xmax  \\\n",
       "0     v01_002075.jpg        596         334      Grasper   201   171   256   \n",
       "1     v01_002250.jpg        596         334      Grasper   155   151   210   \n",
       "2     v01_002250.jpg        596         334      Grasper   423   154   487   \n",
       "3     v01_002425.jpg        596         334      Grasper   178   151   227   \n",
       "4     v01_004050.jpg        596         334      Grasper   240    79   315   \n",
       "...              ...        ...         ...          ...   ...   ...   ...   \n",
       "3924  v10_065125.jpg        578         324  SpecimenBag   327   197   444   \n",
       "3925  v10_065150.jpg        578         324  SpecimenBag   125   134   348   \n",
       "3926  v10_066100.jpg        578         324  SpecimenBag   106   111   341   \n",
       "3927  v10_066100.jpg        578         324      Grasper   163     7   338   \n",
       "3928  v10_066125.jpg        578         324  SpecimenBag   126   176   387   \n",
       "\n",
       "      ymax  \n",
       "0      191  \n",
       "1      174  \n",
       "2      287  \n",
       "3      174  \n",
       "4      142  \n",
       "...    ...  \n",
       "3924   294  \n",
       "3925   303  \n",
       "3926   216  \n",
       "3927    69  \n",
       "3928   285  \n",
       "\n",
       "[3929 rows x 8 columns]"
      ]
     },
     "execution_count": 58,
     "metadata": {},
     "output_type": "execute_result"
    }
   ],
   "source": [
    "os.chdir(annotations_folder)\n",
    "anno_list = []\n",
    "for xml_file in glob.glob(annotations_folder + '/*.xml'):\n",
    "    tree = ET.parse(xml_file)\n",
    "    root = tree.getroot()\n",
    "    for tool in root.findall('object'):\n",
    "        value = (root.find('filename').text,#filename\n",
    "                    int(root.find('size')[0].text),#image dimensions\n",
    "                    int(root.find('size')[1].text),\n",
    "                    tool[0].text,#class\n",
    "                    int(tool[4][0].text),#box coordinates\n",
    "                    int(tool[4][1].text),\n",
    "                    int(tool[4][2].text),\n",
    "                    int(tool[4][3].text)#box coordinates\n",
    "                    )\n",
    "        anno_list.append(value)\n",
    "\n",
    "\n",
    "column_name = ['filename', 'img_width', 'img_height', \n",
    "                'class', 'xmin', 'ymin', 'xmax', 'ymax']\n",
    "\n",
    "\n",
    "class_df = pd.DataFrame(anno_list, columns=column_name)\n",
    "class_df"
   ]
  },
  {
   "attachments": {},
   "cell_type": "markdown",
   "metadata": {},
   "source": [
    "Class instances are counted and source images are varified to match expected number."
   ]
  },
  {
   "cell_type": "code",
   "execution_count": 59,
   "metadata": {},
   "outputs": [
    {
     "name": "stdout",
     "output_type": "stream",
     "text": [
      "Grasper        1422\n",
      "Irrigator       485\n",
      "SpecimenBag     476\n",
      "Bipolar         450\n",
      "Clipper         400\n",
      "Scissors        388\n",
      "Hook            308\n",
      "Name: class, dtype: int64\n",
      "\n",
      "Unique source images: 2811\n"
     ]
    }
   ],
   "source": [
    "print(class_df[\"class\"].value_counts())\n",
    "print(\"\\nUnique source images: \" + str(class_df[\"filename\"].nunique()))"
   ]
  },
  {
   "attachments": {},
   "cell_type": "markdown",
   "metadata": {},
   "source": [
    "Showing the range of tool instances between all images. "
   ]
  },
  {
   "cell_type": "code",
   "execution_count": 60,
   "metadata": {},
   "outputs": [
    {
     "name": "stdout",
     "output_type": "stream",
     "text": [
      "filename\n",
      "v01_002075.jpg    1\n",
      "v08_002025.jpg    1\n",
      "v08_001850.jpg    1\n",
      "v08_001150.jpg    1\n",
      "v08_000975.jpg    1\n",
      "                 ..\n",
      "v03_109000.jpg    4\n",
      "v05_060025.jpg    4\n",
      "v05_060150.jpg    4\n",
      "v09_045200.jpg    4\n",
      "v03_108875.jpg    4\n",
      "Length: 2811, dtype: int64\n"
     ]
    }
   ],
   "source": [
    "df2 = class_df.pivot_table(columns=['filename'], aggfunc='size').copy()\n",
    "print(df2.sort_values())"
   ]
  },
  {
   "attachments": {},
   "cell_type": "markdown",
   "metadata": {},
   "source": [
    "Augmented images provided by original data set are removed. Remaining images were later moved to: m2cai16-tool-locations\\RawImages "
   ]
  },
  {
   "cell_type": "code",
   "execution_count": 61,
   "metadata": {},
   "outputs": [
    {
     "name": "stdout",
     "output_type": "stream",
     "text": [
      "0\n"
     ]
    }
   ],
   "source": [
    "total_flip = 0\n",
    "for image in glob.glob(original_folder + '/*flip.jpg'):\n",
    "    total_flip = total_flip + 1\n",
    "    #os.remove(image)\n",
    "\n",
    "print(total_flip)#Gives total number of flipped images."
   ]
  },
  {
   "attachments": {},
   "cell_type": "markdown",
   "metadata": {},
   "source": [
    "Applies OneHotEncoder() to all class labels are creates new column in class_df."
   ]
  },
  {
   "cell_type": "code",
   "execution_count": 62,
   "metadata": {},
   "outputs": [
    {
     "data": {
      "text/html": [
       "<div>\n",
       "<style scoped>\n",
       "    .dataframe tbody tr th:only-of-type {\n",
       "        vertical-align: middle;\n",
       "    }\n",
       "\n",
       "    .dataframe tbody tr th {\n",
       "        vertical-align: top;\n",
       "    }\n",
       "\n",
       "    .dataframe thead th {\n",
       "        text-align: right;\n",
       "    }\n",
       "</style>\n",
       "<table border=\"1\" class=\"dataframe\">\n",
       "  <thead>\n",
       "    <tr style=\"text-align: right;\">\n",
       "      <th></th>\n",
       "      <th>filename</th>\n",
       "      <th>img_width</th>\n",
       "      <th>img_height</th>\n",
       "      <th>class</th>\n",
       "      <th>xmin</th>\n",
       "      <th>ymin</th>\n",
       "      <th>xmax</th>\n",
       "      <th>ymax</th>\n",
       "      <th>Enc. Values</th>\n",
       "    </tr>\n",
       "  </thead>\n",
       "  <tbody>\n",
       "    <tr>\n",
       "      <th>0</th>\n",
       "      <td>v01_002075.jpg</td>\n",
       "      <td>596</td>\n",
       "      <td>334</td>\n",
       "      <td>Grasper</td>\n",
       "      <td>201</td>\n",
       "      <td>171</td>\n",
       "      <td>256</td>\n",
       "      <td>191</td>\n",
       "      <td>[0.0, 0.0, 1.0, 0.0, 0.0, 0.0, 0.0]</td>\n",
       "    </tr>\n",
       "    <tr>\n",
       "      <th>1</th>\n",
       "      <td>v01_002250.jpg</td>\n",
       "      <td>596</td>\n",
       "      <td>334</td>\n",
       "      <td>Grasper</td>\n",
       "      <td>155</td>\n",
       "      <td>151</td>\n",
       "      <td>210</td>\n",
       "      <td>174</td>\n",
       "      <td>[0.0, 0.0, 1.0, 0.0, 0.0, 0.0, 0.0]</td>\n",
       "    </tr>\n",
       "    <tr>\n",
       "      <th>2</th>\n",
       "      <td>v01_002250.jpg</td>\n",
       "      <td>596</td>\n",
       "      <td>334</td>\n",
       "      <td>Grasper</td>\n",
       "      <td>423</td>\n",
       "      <td>154</td>\n",
       "      <td>487</td>\n",
       "      <td>287</td>\n",
       "      <td>[0.0, 0.0, 1.0, 0.0, 0.0, 0.0, 0.0]</td>\n",
       "    </tr>\n",
       "    <tr>\n",
       "      <th>3</th>\n",
       "      <td>v01_002425.jpg</td>\n",
       "      <td>596</td>\n",
       "      <td>334</td>\n",
       "      <td>Grasper</td>\n",
       "      <td>178</td>\n",
       "      <td>151</td>\n",
       "      <td>227</td>\n",
       "      <td>174</td>\n",
       "      <td>[0.0, 0.0, 1.0, 0.0, 0.0, 0.0, 0.0]</td>\n",
       "    </tr>\n",
       "    <tr>\n",
       "      <th>4</th>\n",
       "      <td>v01_004050.jpg</td>\n",
       "      <td>596</td>\n",
       "      <td>334</td>\n",
       "      <td>Grasper</td>\n",
       "      <td>240</td>\n",
       "      <td>79</td>\n",
       "      <td>315</td>\n",
       "      <td>142</td>\n",
       "      <td>[0.0, 0.0, 1.0, 0.0, 0.0, 0.0, 0.0]</td>\n",
       "    </tr>\n",
       "    <tr>\n",
       "      <th>...</th>\n",
       "      <td>...</td>\n",
       "      <td>...</td>\n",
       "      <td>...</td>\n",
       "      <td>...</td>\n",
       "      <td>...</td>\n",
       "      <td>...</td>\n",
       "      <td>...</td>\n",
       "      <td>...</td>\n",
       "      <td>...</td>\n",
       "    </tr>\n",
       "    <tr>\n",
       "      <th>3924</th>\n",
       "      <td>v10_065125.jpg</td>\n",
       "      <td>578</td>\n",
       "      <td>324</td>\n",
       "      <td>SpecimenBag</td>\n",
       "      <td>327</td>\n",
       "      <td>197</td>\n",
       "      <td>444</td>\n",
       "      <td>294</td>\n",
       "      <td>[0.0, 0.0, 0.0, 0.0, 0.0, 0.0, 1.0]</td>\n",
       "    </tr>\n",
       "    <tr>\n",
       "      <th>3925</th>\n",
       "      <td>v10_065150.jpg</td>\n",
       "      <td>578</td>\n",
       "      <td>324</td>\n",
       "      <td>SpecimenBag</td>\n",
       "      <td>125</td>\n",
       "      <td>134</td>\n",
       "      <td>348</td>\n",
       "      <td>303</td>\n",
       "      <td>[0.0, 0.0, 0.0, 0.0, 0.0, 0.0, 1.0]</td>\n",
       "    </tr>\n",
       "    <tr>\n",
       "      <th>3926</th>\n",
       "      <td>v10_066100.jpg</td>\n",
       "      <td>578</td>\n",
       "      <td>324</td>\n",
       "      <td>SpecimenBag</td>\n",
       "      <td>106</td>\n",
       "      <td>111</td>\n",
       "      <td>341</td>\n",
       "      <td>216</td>\n",
       "      <td>[0.0, 0.0, 0.0, 0.0, 0.0, 0.0, 1.0]</td>\n",
       "    </tr>\n",
       "    <tr>\n",
       "      <th>3927</th>\n",
       "      <td>v10_066100.jpg</td>\n",
       "      <td>578</td>\n",
       "      <td>324</td>\n",
       "      <td>Grasper</td>\n",
       "      <td>163</td>\n",
       "      <td>7</td>\n",
       "      <td>338</td>\n",
       "      <td>69</td>\n",
       "      <td>[0.0, 0.0, 1.0, 0.0, 0.0, 0.0, 0.0]</td>\n",
       "    </tr>\n",
       "    <tr>\n",
       "      <th>3928</th>\n",
       "      <td>v10_066125.jpg</td>\n",
       "      <td>578</td>\n",
       "      <td>324</td>\n",
       "      <td>SpecimenBag</td>\n",
       "      <td>126</td>\n",
       "      <td>176</td>\n",
       "      <td>387</td>\n",
       "      <td>285</td>\n",
       "      <td>[0.0, 0.0, 0.0, 0.0, 0.0, 0.0, 1.0]</td>\n",
       "    </tr>\n",
       "  </tbody>\n",
       "</table>\n",
       "<p>3929 rows × 9 columns</p>\n",
       "</div>"
      ],
      "text/plain": [
       "            filename  img_width  img_height        class  xmin  ymin  xmax  \\\n",
       "0     v01_002075.jpg        596         334      Grasper   201   171   256   \n",
       "1     v01_002250.jpg        596         334      Grasper   155   151   210   \n",
       "2     v01_002250.jpg        596         334      Grasper   423   154   487   \n",
       "3     v01_002425.jpg        596         334      Grasper   178   151   227   \n",
       "4     v01_004050.jpg        596         334      Grasper   240    79   315   \n",
       "...              ...        ...         ...          ...   ...   ...   ...   \n",
       "3924  v10_065125.jpg        578         324  SpecimenBag   327   197   444   \n",
       "3925  v10_065150.jpg        578         324  SpecimenBag   125   134   348   \n",
       "3926  v10_066100.jpg        578         324  SpecimenBag   106   111   341   \n",
       "3927  v10_066100.jpg        578         324      Grasper   163     7   338   \n",
       "3928  v10_066125.jpg        578         324  SpecimenBag   126   176   387   \n",
       "\n",
       "      ymax                          Enc. Values  \n",
       "0      191  [0.0, 0.0, 1.0, 0.0, 0.0, 0.0, 0.0]  \n",
       "1      174  [0.0, 0.0, 1.0, 0.0, 0.0, 0.0, 0.0]  \n",
       "2      287  [0.0, 0.0, 1.0, 0.0, 0.0, 0.0, 0.0]  \n",
       "3      174  [0.0, 0.0, 1.0, 0.0, 0.0, 0.0, 0.0]  \n",
       "4      142  [0.0, 0.0, 1.0, 0.0, 0.0, 0.0, 0.0]  \n",
       "...    ...                                  ...  \n",
       "3924   294  [0.0, 0.0, 0.0, 0.0, 0.0, 0.0, 1.0]  \n",
       "3925   303  [0.0, 0.0, 0.0, 0.0, 0.0, 0.0, 1.0]  \n",
       "3926   216  [0.0, 0.0, 0.0, 0.0, 0.0, 0.0, 1.0]  \n",
       "3927    69  [0.0, 0.0, 1.0, 0.0, 0.0, 0.0, 0.0]  \n",
       "3928   285  [0.0, 0.0, 0.0, 0.0, 0.0, 0.0, 1.0]  \n",
       "\n",
       "[3929 rows x 9 columns]"
      ]
     },
     "execution_count": 62,
     "metadata": {},
     "output_type": "execute_result"
    }
   ],
   "source": [
    "enc = OneHotEncoder()\n",
    "\n",
    "enc.fit(class_df['class'].values.reshape(-1,1))\n",
    "encoded_classes = np.asarray(enc.transform(class_df['class'].values.reshape(-1,1)).toarray())\n",
    "encoded_classes = encoded_classes.tolist()\n",
    "\n",
    "class_df['Enc. Values'] = encoded_classes\n",
    "class_df"
   ]
  },
  {
   "attachments": {},
   "cell_type": "markdown",
   "metadata": {},
   "source": [
    "Multi-labels created through elementwise addition on Enc. Values for rows that share the same filename in class_df."
   ]
  },
  {
   "cell_type": "code",
   "execution_count": 63,
   "metadata": {},
   "outputs": [
    {
     "data": {
      "text/html": [
       "<div>\n",
       "<style scoped>\n",
       "    .dataframe tbody tr th:only-of-type {\n",
       "        vertical-align: middle;\n",
       "    }\n",
       "\n",
       "    .dataframe tbody tr th {\n",
       "        vertical-align: top;\n",
       "    }\n",
       "\n",
       "    .dataframe thead th {\n",
       "        text-align: right;\n",
       "    }\n",
       "</style>\n",
       "<table border=\"1\" class=\"dataframe\">\n",
       "  <thead>\n",
       "    <tr style=\"text-align: right;\">\n",
       "      <th></th>\n",
       "      <th>Filename</th>\n",
       "      <th>Multi_label</th>\n",
       "    </tr>\n",
       "  </thead>\n",
       "  <tbody>\n",
       "    <tr>\n",
       "      <th>0</th>\n",
       "      <td>v01_002075.jpg</td>\n",
       "      <td>[0.0, 0.0, 1.0, 0.0, 0.0, 0.0, 0.0]</td>\n",
       "    </tr>\n",
       "    <tr>\n",
       "      <th>1</th>\n",
       "      <td>v01_002250.jpg</td>\n",
       "      <td>[0.0, 0.0, 2.0, 0.0, 0.0, 0.0, 0.0]</td>\n",
       "    </tr>\n",
       "    <tr>\n",
       "      <th>2</th>\n",
       "      <td>v01_002425.jpg</td>\n",
       "      <td>[0.0, 0.0, 1.0, 0.0, 0.0, 0.0, 0.0]</td>\n",
       "    </tr>\n",
       "    <tr>\n",
       "      <th>3</th>\n",
       "      <td>v01_004050.jpg</td>\n",
       "      <td>[0.0, 0.0, 1.0, 0.0, 0.0, 0.0, 0.0]</td>\n",
       "    </tr>\n",
       "    <tr>\n",
       "      <th>4</th>\n",
       "      <td>v01_004225.jpg</td>\n",
       "      <td>[0.0, 0.0, 1.0, 0.0, 0.0, 0.0, 0.0]</td>\n",
       "    </tr>\n",
       "    <tr>\n",
       "      <th>...</th>\n",
       "      <td>...</td>\n",
       "      <td>...</td>\n",
       "    </tr>\n",
       "    <tr>\n",
       "      <th>2806</th>\n",
       "      <td>v10_065025.jpg</td>\n",
       "      <td>[0.0, 0.0, 1.0, 0.0, 0.0, 0.0, 1.0]</td>\n",
       "    </tr>\n",
       "    <tr>\n",
       "      <th>2807</th>\n",
       "      <td>v10_065125.jpg</td>\n",
       "      <td>[0.0, 0.0, 0.0, 0.0, 0.0, 0.0, 1.0]</td>\n",
       "    </tr>\n",
       "    <tr>\n",
       "      <th>2808</th>\n",
       "      <td>v10_065150.jpg</td>\n",
       "      <td>[0.0, 0.0, 0.0, 0.0, 0.0, 0.0, 1.0]</td>\n",
       "    </tr>\n",
       "    <tr>\n",
       "      <th>2809</th>\n",
       "      <td>v10_066100.jpg</td>\n",
       "      <td>[0.0, 0.0, 1.0, 0.0, 0.0, 0.0, 1.0]</td>\n",
       "    </tr>\n",
       "    <tr>\n",
       "      <th>2810</th>\n",
       "      <td>v10_066125.jpg</td>\n",
       "      <td>[0.0, 0.0, 0.0, 0.0, 0.0, 0.0, 1.0]</td>\n",
       "    </tr>\n",
       "  </tbody>\n",
       "</table>\n",
       "<p>2811 rows × 2 columns</p>\n",
       "</div>"
      ],
      "text/plain": [
       "            Filename                          Multi_label\n",
       "0     v01_002075.jpg  [0.0, 0.0, 1.0, 0.0, 0.0, 0.0, 0.0]\n",
       "1     v01_002250.jpg  [0.0, 0.0, 2.0, 0.0, 0.0, 0.0, 0.0]\n",
       "2     v01_002425.jpg  [0.0, 0.0, 1.0, 0.0, 0.0, 0.0, 0.0]\n",
       "3     v01_004050.jpg  [0.0, 0.0, 1.0, 0.0, 0.0, 0.0, 0.0]\n",
       "4     v01_004225.jpg  [0.0, 0.0, 1.0, 0.0, 0.0, 0.0, 0.0]\n",
       "...              ...                                  ...\n",
       "2806  v10_065025.jpg  [0.0, 0.0, 1.0, 0.0, 0.0, 0.0, 1.0]\n",
       "2807  v10_065125.jpg  [0.0, 0.0, 0.0, 0.0, 0.0, 0.0, 1.0]\n",
       "2808  v10_065150.jpg  [0.0, 0.0, 0.0, 0.0, 0.0, 0.0, 1.0]\n",
       "2809  v10_066100.jpg  [0.0, 0.0, 1.0, 0.0, 0.0, 0.0, 1.0]\n",
       "2810  v10_066125.jpg  [0.0, 0.0, 0.0, 0.0, 0.0, 0.0, 1.0]\n",
       "\n",
       "[2811 rows x 2 columns]"
      ]
     },
     "execution_count": 63,
     "metadata": {},
     "output_type": "execute_result"
    }
   ],
   "source": [
    "original_df = pd.DataFrame(columns = ['Filename', 'Multi_label'])\n",
    "filename = \"\"\n",
    "multilabel = []\n",
    "label_list = []\n",
    "filename_list = []\n",
    "for index,row in class_df.iterrows():\n",
    "    if filename == row[\"filename\"] or index == 0:\n",
    "        if len(multilabel):\n",
    "            multilabel = [multilabel[0] + row['Enc. Values'][0], multilabel[1] + row['Enc. Values'][1], multilabel[2] + row['Enc. Values'][2],\n",
    "                          multilabel[3] + row['Enc. Values'][3], multilabel[4] + row['Enc. Values'][4], multilabel[5] + row['Enc. Values'][5],\n",
    "                          multilabel[6] + row['Enc. Values'][6]]\n",
    "        else:\n",
    "            multilabel = row['Enc. Values']\n",
    "    else:\n",
    "        filename_list.append(filename)\n",
    "        label_list.append(multilabel)\n",
    "        multilabel = row['Enc. Values']\n",
    "    filename = row[\"filename\"]\n",
    "filename_list.append(filename)\n",
    "label_list.append(multilabel)\n",
    "original_df['Filename'] = filename_list\n",
    "original_df['Multi_label'] = label_list\n",
    "original_df"
   ]
  },
  {
   "cell_type": "code",
   "execution_count": 64,
   "metadata": {},
   "outputs": [
    {
     "data": {
      "text/html": [
       "<div>\n",
       "<style scoped>\n",
       "    .dataframe tbody tr th:only-of-type {\n",
       "        vertical-align: middle;\n",
       "    }\n",
       "\n",
       "    .dataframe tbody tr th {\n",
       "        vertical-align: top;\n",
       "    }\n",
       "\n",
       "    .dataframe thead th {\n",
       "        text-align: right;\n",
       "    }\n",
       "</style>\n",
       "<table border=\"1\" class=\"dataframe\">\n",
       "  <thead>\n",
       "    <tr style=\"text-align: right;\">\n",
       "      <th></th>\n",
       "      <th>filename</th>\n",
       "      <th>img_width</th>\n",
       "      <th>img_height</th>\n",
       "      <th>class</th>\n",
       "      <th>xmin</th>\n",
       "      <th>ymin</th>\n",
       "      <th>xmax</th>\n",
       "      <th>ymax</th>\n",
       "      <th>Enc. Values</th>\n",
       "      <th>Cropped File</th>\n",
       "    </tr>\n",
       "  </thead>\n",
       "  <tbody>\n",
       "    <tr>\n",
       "      <th>0</th>\n",
       "      <td>v01_002075.jpg</td>\n",
       "      <td>596</td>\n",
       "      <td>334</td>\n",
       "      <td>Grasper</td>\n",
       "      <td>201</td>\n",
       "      <td>171</td>\n",
       "      <td>256</td>\n",
       "      <td>191</td>\n",
       "      <td>[0.0, 0.0, 1.0, 0.0, 0.0, 0.0, 0.0]</td>\n",
       "      <td>v01_0020750.jpg</td>\n",
       "    </tr>\n",
       "    <tr>\n",
       "      <th>1</th>\n",
       "      <td>v01_002250.jpg</td>\n",
       "      <td>596</td>\n",
       "      <td>334</td>\n",
       "      <td>Grasper</td>\n",
       "      <td>155</td>\n",
       "      <td>151</td>\n",
       "      <td>210</td>\n",
       "      <td>174</td>\n",
       "      <td>[0.0, 0.0, 1.0, 0.0, 0.0, 0.0, 0.0]</td>\n",
       "      <td>v01_0022500.jpg</td>\n",
       "    </tr>\n",
       "    <tr>\n",
       "      <th>2</th>\n",
       "      <td>v01_002250.jpg</td>\n",
       "      <td>596</td>\n",
       "      <td>334</td>\n",
       "      <td>Grasper</td>\n",
       "      <td>423</td>\n",
       "      <td>154</td>\n",
       "      <td>487</td>\n",
       "      <td>287</td>\n",
       "      <td>[0.0, 0.0, 1.0, 0.0, 0.0, 0.0, 0.0]</td>\n",
       "      <td>v01_0022501.jpg</td>\n",
       "    </tr>\n",
       "    <tr>\n",
       "      <th>3</th>\n",
       "      <td>v01_002425.jpg</td>\n",
       "      <td>596</td>\n",
       "      <td>334</td>\n",
       "      <td>Grasper</td>\n",
       "      <td>178</td>\n",
       "      <td>151</td>\n",
       "      <td>227</td>\n",
       "      <td>174</td>\n",
       "      <td>[0.0, 0.0, 1.0, 0.0, 0.0, 0.0, 0.0]</td>\n",
       "      <td>v01_0024250.jpg</td>\n",
       "    </tr>\n",
       "    <tr>\n",
       "      <th>4</th>\n",
       "      <td>v01_004050.jpg</td>\n",
       "      <td>596</td>\n",
       "      <td>334</td>\n",
       "      <td>Grasper</td>\n",
       "      <td>240</td>\n",
       "      <td>79</td>\n",
       "      <td>315</td>\n",
       "      <td>142</td>\n",
       "      <td>[0.0, 0.0, 1.0, 0.0, 0.0, 0.0, 0.0]</td>\n",
       "      <td>v01_0040500.jpg</td>\n",
       "    </tr>\n",
       "    <tr>\n",
       "      <th>...</th>\n",
       "      <td>...</td>\n",
       "      <td>...</td>\n",
       "      <td>...</td>\n",
       "      <td>...</td>\n",
       "      <td>...</td>\n",
       "      <td>...</td>\n",
       "      <td>...</td>\n",
       "      <td>...</td>\n",
       "      <td>...</td>\n",
       "      <td>...</td>\n",
       "    </tr>\n",
       "    <tr>\n",
       "      <th>3924</th>\n",
       "      <td>v10_065125.jpg</td>\n",
       "      <td>578</td>\n",
       "      <td>324</td>\n",
       "      <td>SpecimenBag</td>\n",
       "      <td>327</td>\n",
       "      <td>197</td>\n",
       "      <td>444</td>\n",
       "      <td>294</td>\n",
       "      <td>[0.0, 0.0, 0.0, 0.0, 0.0, 0.0, 1.0]</td>\n",
       "      <td>v10_0651250.jpg</td>\n",
       "    </tr>\n",
       "    <tr>\n",
       "      <th>3925</th>\n",
       "      <td>v10_065150.jpg</td>\n",
       "      <td>578</td>\n",
       "      <td>324</td>\n",
       "      <td>SpecimenBag</td>\n",
       "      <td>125</td>\n",
       "      <td>134</td>\n",
       "      <td>348</td>\n",
       "      <td>303</td>\n",
       "      <td>[0.0, 0.0, 0.0, 0.0, 0.0, 0.0, 1.0]</td>\n",
       "      <td>v10_0651500.jpg</td>\n",
       "    </tr>\n",
       "    <tr>\n",
       "      <th>3926</th>\n",
       "      <td>v10_066100.jpg</td>\n",
       "      <td>578</td>\n",
       "      <td>324</td>\n",
       "      <td>SpecimenBag</td>\n",
       "      <td>106</td>\n",
       "      <td>111</td>\n",
       "      <td>341</td>\n",
       "      <td>216</td>\n",
       "      <td>[0.0, 0.0, 0.0, 0.0, 0.0, 0.0, 1.0]</td>\n",
       "      <td>v10_0661000.jpg</td>\n",
       "    </tr>\n",
       "    <tr>\n",
       "      <th>3927</th>\n",
       "      <td>v10_066100.jpg</td>\n",
       "      <td>578</td>\n",
       "      <td>324</td>\n",
       "      <td>Grasper</td>\n",
       "      <td>163</td>\n",
       "      <td>7</td>\n",
       "      <td>338</td>\n",
       "      <td>69</td>\n",
       "      <td>[0.0, 0.0, 1.0, 0.0, 0.0, 0.0, 0.0]</td>\n",
       "      <td>v10_0661001.jpg</td>\n",
       "    </tr>\n",
       "    <tr>\n",
       "      <th>3928</th>\n",
       "      <td>v10_066125.jpg</td>\n",
       "      <td>578</td>\n",
       "      <td>324</td>\n",
       "      <td>SpecimenBag</td>\n",
       "      <td>126</td>\n",
       "      <td>176</td>\n",
       "      <td>387</td>\n",
       "      <td>285</td>\n",
       "      <td>[0.0, 0.0, 0.0, 0.0, 0.0, 0.0, 1.0]</td>\n",
       "      <td>v10_0661250.jpg</td>\n",
       "    </tr>\n",
       "  </tbody>\n",
       "</table>\n",
       "<p>3929 rows × 10 columns</p>\n",
       "</div>"
      ],
      "text/plain": [
       "            filename  img_width  img_height        class  xmin  ymin  xmax  \\\n",
       "0     v01_002075.jpg        596         334      Grasper   201   171   256   \n",
       "1     v01_002250.jpg        596         334      Grasper   155   151   210   \n",
       "2     v01_002250.jpg        596         334      Grasper   423   154   487   \n",
       "3     v01_002425.jpg        596         334      Grasper   178   151   227   \n",
       "4     v01_004050.jpg        596         334      Grasper   240    79   315   \n",
       "...              ...        ...         ...          ...   ...   ...   ...   \n",
       "3924  v10_065125.jpg        578         324  SpecimenBag   327   197   444   \n",
       "3925  v10_065150.jpg        578         324  SpecimenBag   125   134   348   \n",
       "3926  v10_066100.jpg        578         324  SpecimenBag   106   111   341   \n",
       "3927  v10_066100.jpg        578         324      Grasper   163     7   338   \n",
       "3928  v10_066125.jpg        578         324  SpecimenBag   126   176   387   \n",
       "\n",
       "      ymax                          Enc. Values     Cropped File  \n",
       "0      191  [0.0, 0.0, 1.0, 0.0, 0.0, 0.0, 0.0]  v01_0020750.jpg  \n",
       "1      174  [0.0, 0.0, 1.0, 0.0, 0.0, 0.0, 0.0]  v01_0022500.jpg  \n",
       "2      287  [0.0, 0.0, 1.0, 0.0, 0.0, 0.0, 0.0]  v01_0022501.jpg  \n",
       "3      174  [0.0, 0.0, 1.0, 0.0, 0.0, 0.0, 0.0]  v01_0024250.jpg  \n",
       "4      142  [0.0, 0.0, 1.0, 0.0, 0.0, 0.0, 0.0]  v01_0040500.jpg  \n",
       "...    ...                                  ...              ...  \n",
       "3924   294  [0.0, 0.0, 0.0, 0.0, 0.0, 0.0, 1.0]  v10_0651250.jpg  \n",
       "3925   303  [0.0, 0.0, 0.0, 0.0, 0.0, 0.0, 1.0]  v10_0651500.jpg  \n",
       "3926   216  [0.0, 0.0, 0.0, 0.0, 0.0, 0.0, 1.0]  v10_0661000.jpg  \n",
       "3927    69  [0.0, 0.0, 1.0, 0.0, 0.0, 0.0, 0.0]  v10_0661001.jpg  \n",
       "3928   285  [0.0, 0.0, 0.0, 0.0, 0.0, 0.0, 1.0]  v10_0661250.jpg  \n",
       "\n",
       "[3929 rows x 10 columns]"
      ]
     },
     "execution_count": 64,
     "metadata": {},
     "output_type": "execute_result"
    }
   ],
   "source": [
    "#Collection of cropped image names for each class, later used for augmentation\n",
    "graspList = []\n",
    "spec_bag_list = []\n",
    "bipolar_list = []\n",
    "clipper_list = []\n",
    "scissors_list = []\n",
    "hook_list = []\n",
    "irrigator_list = []\n",
    "\n",
    "newFileList = []\n",
    "img_counter = 0\n",
    "filename = \"\"\n",
    "\n",
    "for index,row in class_df.iterrows():\n",
    "    os.chdir(raw_folder)\n",
    "    img = Image.open(row[\"filename\"])\n",
    "    img_crop = img.crop((row[\"xmin\"], row[\"ymin\"], row[\"xmax\"], row[\"ymax\"]))\n",
    "    if filename == row[\"filename\"]:\n",
    "        img_counter = img_counter + 1\n",
    "    else:\n",
    "        img_counter = 0\n",
    "    filename = row[\"filename\"]\n",
    "    newfilename = filename[:-4] + str(img_counter) + \".jpg\"\n",
    "    os.chdir(cropped_folder)\n",
    "    newFileList.append(newfilename)\n",
    "    #img_crop.save(newfilename)]\n",
    "\n",
    "    if (row[\"class\"] == \"Grasper\"):\n",
    "        graspList.append(newfilename)\n",
    "    elif (row[\"class\"] == \"SpecimenBag\"):\n",
    "        spec_bag_list.append(newfilename)\n",
    "    elif (row[\"class\"] == \"Bipolar\"):\n",
    "        bipolar_list.append(newfilename)\n",
    "    elif (row[\"class\"] == \"Clipper\"):\n",
    "        clipper_list.append(newfilename)\n",
    "    elif (row[\"class\"] == \"Scissors\"):\n",
    "        scissors_list.append(newfilename)\n",
    "    elif (row[\"class\"] == \"Hook\"):\n",
    "        hook_list.append(newfilename)\n",
    "    elif (row[\"class\"] == \"Irrigator\"):\n",
    "        irrigator_list.append(newfilename)\n",
    "\n",
    "class_df[\"Cropped File\"] = newFileList    \n",
    "class_df"
   ]
  },
  {
   "attachments": {},
   "cell_type": "markdown",
   "metadata": {},
   "source": [
    "Varifiying the contents of class lists"
   ]
  },
  {
   "cell_type": "code",
   "execution_count": 78,
   "metadata": {},
   "outputs": [],
   "source": [
    "# print(graspList)\n",
    "# print(spec_bag_list)\n",
    "# print(bipolar_list)\n",
    "# print(clipper_list)\n",
    "# print(scissors_list)\n",
    "# print(hook_list)\n",
    "# print(irrigator_list)"
   ]
  },
  {
   "attachments": {},
   "cell_type": "markdown",
   "metadata": {},
   "source": [
    "The outline for a for loop used to create the augmented images.\n",
    "Once the augmented images were created, the lines used to save images were emitted so that the process could remain consistent for future use."
   ]
  },
  {
   "cell_type": "code",
   "execution_count": 65,
   "metadata": {},
   "outputs": [
    {
     "name": "stdout",
     "output_type": "stream",
     "text": [
      "Grasper        1422\n",
      "Irrigator       485\n",
      "SpecimenBag     476\n",
      "Bipolar         450\n",
      "Clipper         400\n",
      "Scissors        388\n",
      "Hook            308\n",
      "Name: class, dtype: int64\n",
      "Grasper        1422\n",
      "Irrigator       970\n",
      "SpecimenBag     952\n",
      "Bipolar         900\n",
      "Clipper         800\n",
      "Scissors        776\n",
      "Hook            616\n",
      "Name: class, dtype: int64\n"
     ]
    }
   ],
   "source": [
    "'''Skip if reduced in use'''\n",
    "\n",
    "os.chdir(cropped_folder)\n",
    "print(class_df[\"class\"].value_counts())\n",
    "class_df_copy = class_df.copy()\n",
    "for index, row in class_df_copy.iterrows():\n",
    "    if row[\"class\"] != \"Grasper\":\n",
    "        cropped_img = cv2.imread(row[\"Cropped File\"])\n",
    "        flipHori = cv2.flip(cropped_img, 1)\n",
    "        flipHoriFile = row[\"Cropped File\"][:-4] + \"Hor.jpg\"\n",
    "        flipVert = cv2.flip(cropped_img, 0)\n",
    "        flipVertFile = row[\"Cropped File\"][:-4] + \"Ver.jpg\"\n",
    "        rotate = random.randint(0, 1)  \n",
    "        flip = random.randint(0, 1)  \n",
    "        if rotate == 0:\n",
    "            rotate_img = cv2.rotate(cropped_img, cv2.ROTATE_90_CLOCKWISE)\n",
    "        if rotate == 1:\n",
    "            rotate_img = cv2.rotate(cropped_img, cv2.ROTATE_90_COUNTERCLOCKWISE)\n",
    "        rotateFile = row[\"Cropped File\"][:-4] + \"Rot.jpg\"\n",
    "        if os.path.exists(flipHoriFile):\n",
    "            new_row = {'filename': row[\"filename\"], 'class':row[\"class\"],\n",
    "                'Cropped File':flipHoriFile}\n",
    "            class_df_copy = class_df_copy.append(new_row, ignore_index=True)\n",
    "\n",
    "        if (os.path.exists(flipVertFile)):\n",
    "            new_row = {'filename': row[\"filename\"],  'class':row[\"class\"],\n",
    "                'Cropped File':flipVertFile}\n",
    "            class_df_copy = class_df_copy.append(new_row, ignore_index=True)\n",
    "\n",
    "        if (os.path.exists(rotateFile)):\n",
    "            new_row = {'filename': row[\"filename\"], 'class':row[\"class\"],\n",
    "                'Cropped File':rotateFile}\n",
    "            class_df_copy = class_df_copy.append(new_row, ignore_index=True)\n",
    "\n",
    "\n",
    "class_df = class_df_copy\n",
    "class_df\n",
    "print(class_df[\"class\"].value_counts())"
   ]
  },
  {
   "attachments": {},
   "cell_type": "markdown",
   "metadata": {},
   "source": [
    "Function used to find negative samples within an image"
   ]
  },
  {
   "cell_type": "code",
   "execution_count": 66,
   "metadata": {},
   "outputs": [],
   "source": [
    "def findNeg(box_list, im_width, im_height):\n",
    "    found = False\n",
    "    while found == False:\n",
    "        inbox = False\n",
    "        randx = random.randint(0, im_width-50)   \n",
    "        randy = random.randint(0, im_height-50) \n",
    "        for box in box_list:\n",
    "            if ((randx >= box[0] and randx <= box[1] and randy >= box[2] and randy <= box[3]) \n",
    "            or (randx + 50 >= box[0] and randx + 50 <= box[1] and randy + 50 >= box[2] and randy + 50 <= box[3])):\n",
    "                inbox = True\n",
    "        if inbox == False:\n",
    "            box_list.append([randx, randx + 50, randy, randy + 50])\n",
    "            return(randx, randy, box_list)     "
   ]
  },
  {
   "attachments": {},
   "cell_type": "markdown",
   "metadata": {},
   "source": [
    "For loop used to create negative samples for all original images.\n",
    "NOTE: This will not run properly unless the correct directories are present"
   ]
  },
  {
   "cell_type": "code",
   "execution_count": null,
   "metadata": {},
   "outputs": [],
   "source": [
    "'''Creates two negative (no tool presence) images per original image'''\n",
    "'''DONT TOUCH'''\n",
    "\n",
    "NEG_PATH = os.path.join(rootdir_folder,'NegativeImages')\n",
    "if not os.path.exists(NEG_PATH):\n",
    "    os.mkdir(NEG_PATH)\n",
    "filename = \"\"\n",
    "box_list = []\n",
    "\n",
    "for index, row in class_df.iterrows():\n",
    "    if filename == row[\"filename\"] or index == 0:\n",
    "        box_list.append([row[\"xmin\"],row[\"xmax\"],row[\"ymin\"],row[\"ymax\"]])\n",
    "\n",
    "\n",
    "    else:\n",
    "        xneg1, yneg1, box_list = findNeg(box_list, row[\"img_width\"], row[\"img_height\"])\n",
    "        xneg2, yneg2, box_list = findNeg(box_list, row[\"img_width\"], row[\"img_height\"])\n",
    "        os.chdir(raw_folder)\n",
    "        img = Image.open(filename)\n",
    "        img_crop1 = img.crop((xneg1, yneg1, xneg1 + 50, yneg1 + 50))\n",
    "        img_crop2 = img.crop((xneg2, yneg2, xneg2 + 50, yneg2 + 50))\n",
    "        os.chdir(neg_folder)\n",
    "        newfile1 = filename[:-4] + \"neg1.jpg\"\n",
    "        newfile2 = filename[:-4] + \"neg2.jpg\"\n",
    "        # img_crop1.save(newfile1)\n",
    "        # img_crop2.save(newfile2)\n",
    "        box_list = [[row[\"xmin\"], row[\"xmax\"], row[\"ymin\"], row[\"ymax\"]]]    \n",
    "\n",
    "    filename = row[\"filename\"]\n",
    "    if index == 3928:\n",
    "        xneg1, yneg1, box_list = findNeg(box_list, row[\"img_width\"], row[\"img_height\"])\n",
    "        xneg2, yneg2, box_list = findNeg(box_list, row[\"img_width\"], row[\"img_height\"])\n",
    "        os.chdir(raw_folder)\n",
    "        img = Image.open(filename)\n",
    "        img_crop1 = img.crop((xneg1, yneg1, xneg1 + 50, yneg1 + 50))\n",
    "        img_crop2 = img.crop((xneg2, yneg2, xneg2 + 50, yneg2 + 50))\n",
    "        os.chdir(neg_folder)\n",
    "        newfile1 = filename[:-4] + \"neg1.jpg\"\n",
    "        newfile2 = filename[:-4] + \"neg2.jpg\"\n",
    "        # img_crop1.save(newfile1)\n",
    "        # img_crop2.save(newfile2)\n",
    "\n",
    "        "
   ]
  },
  {
   "attachments": {},
   "cell_type": "markdown",
   "metadata": {},
   "source": [
    "Function designed to randomly reduce the size of a list. NOTE: This function does not provide reproducability so was used exclusively for one time use or when reproducability is not a factor. "
   ]
  },
  {
   "cell_type": "code",
   "execution_count": 68,
   "metadata": {},
   "outputs": [],
   "source": [
    "def getReduced(full_list, value):\n",
    "    reduced_list = []\n",
    "    while len(reduced_list) < value:\n",
    "        randInt = random.randint(0,len(full_list)-1)\n",
    "        if(full_list[randInt] not in reduced_list):\n",
    "            reduced_list.append(full_list[randInt])\n",
    "    give_list = reduced_list.copy()\n",
    "    return give_list"
   ]
  },
  {
   "attachments": {},
   "cell_type": "markdown",
   "metadata": {},
   "source": [
    "getReduced applied to appropriate lists to solve class imbalance"
   ]
  },
  {
   "cell_type": "code",
   "execution_count": 77,
   "metadata": {},
   "outputs": [],
   "source": [
    "# red_spec = getReduced(spec_bag_list,9)\n",
    "# red_bipo = getReduced(bipolar_list,35)\n",
    "# red_clip = getReduced(clipper_list,85)\n",
    "# red_scis = getReduced(scissors_list,97)\n",
    "# red_hook = getReduced(hook_list,177)\n",
    "# graspList = getReduced(graspList, 485)\n",
    "# print(red_hook)\n",
    "\n",
    "\n"
   ]
  },
  {
   "attachments": {},
   "cell_type": "markdown",
   "metadata": {},
   "source": [
    "Varifies the instances of each class"
   ]
  },
  {
   "cell_type": "code",
   "execution_count": 70,
   "metadata": {},
   "outputs": [
    {
     "name": "stdout",
     "output_type": "stream",
     "text": [
      "476\n",
      "450\n",
      "400\n",
      "388\n",
      "308\n",
      "485\n"
     ]
    }
   ],
   "source": [
    "print(len(spec_bag_list))\n",
    "print(len(bipolar_list))\n",
    "print(len(clipper_list))\n",
    "print(len(scissors_list))\n",
    "print(len(hook_list))\n",
    "print(len(graspList))"
   ]
  },
  {
   "attachments": {},
   "cell_type": "markdown",
   "metadata": {},
   "source": [
    "Creates the reduced data frame, used for the majority of model creation"
   ]
  },
  {
   "cell_type": "code",
   "execution_count": null,
   "metadata": {},
   "outputs": [],
   "source": [
    "red_class_df = class_df.copy()\n",
    "reduced_df = pd.DataFrame()\n",
    "for index, row in red_class_df.iterrows():\n",
    "    if row[\"class\"] == \"Grasper\":\n",
    "        if row[\"Cropped File\"] in  graspList:\n",
    "            reduced_df = reduced_df.append(row, ignore_index=True)\n",
    "    if row[\"class\"] == \"SpecimenBag\":\n",
    "        if row[\"Cropped File\"] in  spec_bag_list:\n",
    "            reduced_df = reduced_df.append(row, ignore_index=True)\n",
    "    if row[\"class\"] == \"Bipolar\":\n",
    "        if row[\"Cropped File\"] in  bipolar_list:\n",
    "            reduced_df = reduced_df.append(row, ignore_index=True)\n",
    "    if row[\"class\"] == \"Clipper\":\n",
    "        if row[\"Cropped File\"] in  clipper_list:\n",
    "            reduced_df = reduced_df.append(row, ignore_index=True)\n",
    "    if row[\"class\"] == \"Scissors\":\n",
    "        if row[\"Cropped File\"] in  scissors_list:\n",
    "            reduced_df = reduced_df.append(row, ignore_index=True)\n",
    "    if row[\"class\"] == \"Hook\":\n",
    "        if row[\"Cropped File\"] in  hook_list:\n",
    "            reduced_df = reduced_df.append(row, ignore_index=True)\n",
    "    if row[\"class\"] == \"Irrigator\":\n",
    "        if row[\"Cropped File\"] in  irrigator_list:\n",
    "            reduced_df = reduced_df.append(row, ignore_index=True)\n",
    "\n",
    "print(reduced_df[\"class\"].value_counts())\n",
    "reduced_df"
   ]
  },
  {
   "attachments": {},
   "cell_type": "markdown",
   "metadata": {},
   "source": [
    "Adds negative samples to data frame"
   ]
  },
  {
   "cell_type": "code",
   "execution_count": 15,
   "metadata": {},
   "outputs": [],
   "source": [
    "negList = os.listdir(neg_folder)\n",
    "# negList = getReduced(negList,3000)\n",
    "for file in (negList):\n",
    "    new_row1 = {'filename': file[:-8] + \".jpg\", 'img_width':50, 'img_height':50, 'class':'Negative',\n",
    "                'Cropped File':file}\n",
    "    reduced_df = reduced_df.append(new_row1, ignore_index=True)\n",
    "    "
   ]
  },
  {
   "attachments": {},
   "cell_type": "markdown",
   "metadata": {},
   "source": [
    "Adds hard negatives to data frame"
   ]
  },
  {
   "cell_type": "code",
   "execution_count": null,
   "metadata": {},
   "outputs": [],
   "source": [
    "\n",
    "hnm_list = os.listdir(hnm_folder)\n",
    "hnm_list = getReduced(hnm_list, 4000)\n",
    "for file in (hnm_list):\n",
    "    new_row1 = {'filename': file[:-9] + \".jpg\", 'class':'Negative',\n",
    "                'Cropped File':file}\n",
    "    reduced_df = reduced_df.append(new_row1, ignore_index=True)"
   ]
  },
  {
   "attachments": {},
   "cell_type": "markdown",
   "metadata": {},
   "source": [
    "Varifies the class count for the data frame"
   ]
  },
  {
   "cell_type": "code",
   "execution_count": 73,
   "metadata": {},
   "outputs": [
    {
     "name": "stdout",
     "output_type": "stream",
     "text": [
      "Grasper        485\n",
      "Irrigator      485\n",
      "SpecimenBag    476\n",
      "Bipolar        450\n",
      "Clipper        400\n",
      "Scissors       388\n",
      "Hook           308\n",
      "Name: class, dtype: int64\n"
     ]
    },
    {
     "data": {
      "text/html": [
       "<div>\n",
       "<style scoped>\n",
       "    .dataframe tbody tr th:only-of-type {\n",
       "        vertical-align: middle;\n",
       "    }\n",
       "\n",
       "    .dataframe tbody tr th {\n",
       "        vertical-align: top;\n",
       "    }\n",
       "\n",
       "    .dataframe thead th {\n",
       "        text-align: right;\n",
       "    }\n",
       "</style>\n",
       "<table border=\"1\" class=\"dataframe\">\n",
       "  <thead>\n",
       "    <tr style=\"text-align: right;\">\n",
       "      <th></th>\n",
       "      <th>filename</th>\n",
       "      <th>img_width</th>\n",
       "      <th>img_height</th>\n",
       "      <th>class</th>\n",
       "      <th>xmin</th>\n",
       "      <th>ymin</th>\n",
       "      <th>xmax</th>\n",
       "      <th>ymax</th>\n",
       "      <th>Enc. Values</th>\n",
       "      <th>Cropped File</th>\n",
       "    </tr>\n",
       "  </thead>\n",
       "  <tbody>\n",
       "    <tr>\n",
       "      <th>0</th>\n",
       "      <td>v01_002075.jpg</td>\n",
       "      <td>596.0</td>\n",
       "      <td>334.0</td>\n",
       "      <td>Grasper</td>\n",
       "      <td>201.0</td>\n",
       "      <td>171.0</td>\n",
       "      <td>256.0</td>\n",
       "      <td>191.0</td>\n",
       "      <td>[0.0, 0.0, 1.0, 0.0, 0.0, 0.0, 0.0]</td>\n",
       "      <td>v01_0020750.jpg</td>\n",
       "    </tr>\n",
       "    <tr>\n",
       "      <th>1</th>\n",
       "      <td>v01_004225.jpg</td>\n",
       "      <td>596.0</td>\n",
       "      <td>334.0</td>\n",
       "      <td>Grasper</td>\n",
       "      <td>344.0</td>\n",
       "      <td>7.0</td>\n",
       "      <td>432.0</td>\n",
       "      <td>100.0</td>\n",
       "      <td>[0.0, 0.0, 1.0, 0.0, 0.0, 0.0, 0.0]</td>\n",
       "      <td>v01_0042250.jpg</td>\n",
       "    </tr>\n",
       "    <tr>\n",
       "      <th>2</th>\n",
       "      <td>v01_004800.jpg</td>\n",
       "      <td>596.0</td>\n",
       "      <td>334.0</td>\n",
       "      <td>Grasper</td>\n",
       "      <td>215.0</td>\n",
       "      <td>189.0</td>\n",
       "      <td>367.0</td>\n",
       "      <td>250.0</td>\n",
       "      <td>[0.0, 0.0, 1.0, 0.0, 0.0, 0.0, 0.0]</td>\n",
       "      <td>v01_0048000.jpg</td>\n",
       "    </tr>\n",
       "    <tr>\n",
       "      <th>3</th>\n",
       "      <td>v01_004800.jpg</td>\n",
       "      <td>596.0</td>\n",
       "      <td>334.0</td>\n",
       "      <td>Grasper</td>\n",
       "      <td>261.0</td>\n",
       "      <td>88.0</td>\n",
       "      <td>333.0</td>\n",
       "      <td>142.0</td>\n",
       "      <td>[0.0, 0.0, 1.0, 0.0, 0.0, 0.0, 0.0]</td>\n",
       "      <td>v01_0048001.jpg</td>\n",
       "    </tr>\n",
       "    <tr>\n",
       "      <th>4</th>\n",
       "      <td>v01_017125.jpg</td>\n",
       "      <td>596.0</td>\n",
       "      <td>334.0</td>\n",
       "      <td>Hook</td>\n",
       "      <td>190.0</td>\n",
       "      <td>129.0</td>\n",
       "      <td>258.0</td>\n",
       "      <td>187.0</td>\n",
       "      <td>[0.0, 0.0, 0.0, 1.0, 0.0, 0.0, 0.0]</td>\n",
       "      <td>v01_0171250.jpg</td>\n",
       "    </tr>\n",
       "    <tr>\n",
       "      <th>...</th>\n",
       "      <td>...</td>\n",
       "      <td>...</td>\n",
       "      <td>...</td>\n",
       "      <td>...</td>\n",
       "      <td>...</td>\n",
       "      <td>...</td>\n",
       "      <td>...</td>\n",
       "      <td>...</td>\n",
       "      <td>...</td>\n",
       "      <td>...</td>\n",
       "    </tr>\n",
       "    <tr>\n",
       "      <th>2987</th>\n",
       "      <td>v10_065025.jpg</td>\n",
       "      <td>578.0</td>\n",
       "      <td>324.0</td>\n",
       "      <td>Grasper</td>\n",
       "      <td>125.0</td>\n",
       "      <td>70.0</td>\n",
       "      <td>329.0</td>\n",
       "      <td>137.0</td>\n",
       "      <td>[0.0, 0.0, 1.0, 0.0, 0.0, 0.0, 0.0]</td>\n",
       "      <td>v10_0650251.jpg</td>\n",
       "    </tr>\n",
       "    <tr>\n",
       "      <th>2988</th>\n",
       "      <td>v10_065125.jpg</td>\n",
       "      <td>578.0</td>\n",
       "      <td>324.0</td>\n",
       "      <td>SpecimenBag</td>\n",
       "      <td>327.0</td>\n",
       "      <td>197.0</td>\n",
       "      <td>444.0</td>\n",
       "      <td>294.0</td>\n",
       "      <td>[0.0, 0.0, 0.0, 0.0, 0.0, 0.0, 1.0]</td>\n",
       "      <td>v10_0651250.jpg</td>\n",
       "    </tr>\n",
       "    <tr>\n",
       "      <th>2989</th>\n",
       "      <td>v10_065150.jpg</td>\n",
       "      <td>578.0</td>\n",
       "      <td>324.0</td>\n",
       "      <td>SpecimenBag</td>\n",
       "      <td>125.0</td>\n",
       "      <td>134.0</td>\n",
       "      <td>348.0</td>\n",
       "      <td>303.0</td>\n",
       "      <td>[0.0, 0.0, 0.0, 0.0, 0.0, 0.0, 1.0]</td>\n",
       "      <td>v10_0651500.jpg</td>\n",
       "    </tr>\n",
       "    <tr>\n",
       "      <th>2990</th>\n",
       "      <td>v10_066100.jpg</td>\n",
       "      <td>578.0</td>\n",
       "      <td>324.0</td>\n",
       "      <td>SpecimenBag</td>\n",
       "      <td>106.0</td>\n",
       "      <td>111.0</td>\n",
       "      <td>341.0</td>\n",
       "      <td>216.0</td>\n",
       "      <td>[0.0, 0.0, 0.0, 0.0, 0.0, 0.0, 1.0]</td>\n",
       "      <td>v10_0661000.jpg</td>\n",
       "    </tr>\n",
       "    <tr>\n",
       "      <th>2991</th>\n",
       "      <td>v10_066125.jpg</td>\n",
       "      <td>578.0</td>\n",
       "      <td>324.0</td>\n",
       "      <td>SpecimenBag</td>\n",
       "      <td>126.0</td>\n",
       "      <td>176.0</td>\n",
       "      <td>387.0</td>\n",
       "      <td>285.0</td>\n",
       "      <td>[0.0, 0.0, 0.0, 0.0, 0.0, 0.0, 1.0]</td>\n",
       "      <td>v10_0661250.jpg</td>\n",
       "    </tr>\n",
       "  </tbody>\n",
       "</table>\n",
       "<p>2992 rows × 10 columns</p>\n",
       "</div>"
      ],
      "text/plain": [
       "            filename  img_width  img_height        class   xmin   ymin   xmax  \\\n",
       "0     v01_002075.jpg      596.0       334.0      Grasper  201.0  171.0  256.0   \n",
       "1     v01_004225.jpg      596.0       334.0      Grasper  344.0    7.0  432.0   \n",
       "2     v01_004800.jpg      596.0       334.0      Grasper  215.0  189.0  367.0   \n",
       "3     v01_004800.jpg      596.0       334.0      Grasper  261.0   88.0  333.0   \n",
       "4     v01_017125.jpg      596.0       334.0         Hook  190.0  129.0  258.0   \n",
       "...              ...        ...         ...          ...    ...    ...    ...   \n",
       "2987  v10_065025.jpg      578.0       324.0      Grasper  125.0   70.0  329.0   \n",
       "2988  v10_065125.jpg      578.0       324.0  SpecimenBag  327.0  197.0  444.0   \n",
       "2989  v10_065150.jpg      578.0       324.0  SpecimenBag  125.0  134.0  348.0   \n",
       "2990  v10_066100.jpg      578.0       324.0  SpecimenBag  106.0  111.0  341.0   \n",
       "2991  v10_066125.jpg      578.0       324.0  SpecimenBag  126.0  176.0  387.0   \n",
       "\n",
       "       ymax                          Enc. Values     Cropped File  \n",
       "0     191.0  [0.0, 0.0, 1.0, 0.0, 0.0, 0.0, 0.0]  v01_0020750.jpg  \n",
       "1     100.0  [0.0, 0.0, 1.0, 0.0, 0.0, 0.0, 0.0]  v01_0042250.jpg  \n",
       "2     250.0  [0.0, 0.0, 1.0, 0.0, 0.0, 0.0, 0.0]  v01_0048000.jpg  \n",
       "3     142.0  [0.0, 0.0, 1.0, 0.0, 0.0, 0.0, 0.0]  v01_0048001.jpg  \n",
       "4     187.0  [0.0, 0.0, 0.0, 1.0, 0.0, 0.0, 0.0]  v01_0171250.jpg  \n",
       "...     ...                                  ...              ...  \n",
       "2987  137.0  [0.0, 0.0, 1.0, 0.0, 0.0, 0.0, 0.0]  v10_0650251.jpg  \n",
       "2988  294.0  [0.0, 0.0, 0.0, 0.0, 0.0, 0.0, 1.0]  v10_0651250.jpg  \n",
       "2989  303.0  [0.0, 0.0, 0.0, 0.0, 0.0, 0.0, 1.0]  v10_0651500.jpg  \n",
       "2990  216.0  [0.0, 0.0, 0.0, 0.0, 0.0, 0.0, 1.0]  v10_0661000.jpg  \n",
       "2991  285.0  [0.0, 0.0, 0.0, 0.0, 0.0, 0.0, 1.0]  v10_0661250.jpg  \n",
       "\n",
       "[2992 rows x 10 columns]"
      ]
     },
     "execution_count": 73,
     "metadata": {},
     "output_type": "execute_result"
    }
   ],
   "source": [
    "print(reduced_df[\"class\"].value_counts())\n",
    "reduced_df"
   ]
  },
  {
   "attachments": {},
   "cell_type": "markdown",
   "metadata": {},
   "source": [
    "Emits multi-class label with only one instance"
   ]
  },
  {
   "cell_type": "code",
   "execution_count": 74,
   "metadata": {},
   "outputs": [
    {
     "name": "stdout",
     "output_type": "stream",
     "text": [
      "[0.0, 0.0, 0.0, 0.0, 1.0, 0.0, 0.0]    385\n",
      "[0.0, 0.0, 0.0, 1.0, 0.0, 0.0, 0.0]    307\n",
      "[0.0, 1.0, 0.0, 0.0, 0.0, 0.0, 0.0]    299\n",
      "[0.0, 0.0, 0.0, 0.0, 0.0, 1.0, 0.0]    264\n",
      "[1.0, 0.0, 0.0, 0.0, 0.0, 0.0, 0.0]    245\n",
      "[0.0, 0.0, 1.0, 0.0, 0.0, 0.0, 0.0]    221\n",
      "[1.0, 0.0, 1.0, 0.0, 0.0, 0.0, 0.0]    205\n",
      "[0.0, 0.0, 1.0, 0.0, 0.0, 0.0, 1.0]    185\n",
      "[0.0, 0.0, 0.0, 0.0, 0.0, 0.0, 1.0]    175\n",
      "[0.0, 1.0, 1.0, 0.0, 0.0, 0.0, 0.0]    101\n",
      "[0.0, 0.0, 1.0, 0.0, 1.0, 0.0, 0.0]    100\n",
      "[0.0, 0.0, 2.0, 0.0, 0.0, 0.0, 1.0]     96\n",
      "[0.0, 0.0, 2.0, 0.0, 0.0, 0.0, 0.0]     79\n",
      "[0.0, 0.0, 2.0, 0.0, 0.0, 1.0, 0.0]     63\n",
      "[0.0, 0.0, 1.0, 0.0, 0.0, 1.0, 0.0]     61\n",
      "[0.0, 0.0, 3.0, 0.0, 0.0, 0.0, 1.0]     20\n",
      "[0.0, 0.0, 3.0, 0.0, 0.0, 0.0, 0.0]      4\n",
      "Name: Multi_label, dtype: int64\n"
     ]
    }
   ],
   "source": [
    "original_df = original_df[original_df.Filename !=  \"v01_035325.jpg\"]\n",
    "print(original_df[\"Multi_label\"].value_counts())"
   ]
  },
  {
   "attachments": {},
   "cell_type": "markdown",
   "metadata": {},
   "source": [
    "Train test split for the filenames assosiated with multi-labels"
   ]
  },
  {
   "cell_type": "code",
   "execution_count": 75,
   "metadata": {},
   "outputs": [
    {
     "name": "stdout",
     "output_type": "stream",
     "text": [
      "(2248,)\n",
      "(2248,)\n",
      "(562,)\n",
      "(562,)\n"
     ]
    }
   ],
   "source": [
    "'''Train-test split on original images.'''\n",
    "\n",
    "X_train, X_test, y_train, y_test = train_test_split((np.asarray(original_df[\"Filename\"])), (np.asarray(original_df[\"Multi_label\"])), test_size = 0.2,random_state=22, shuffle=True, stratify=(np.asarray(original_df[\"Multi_label\"])))\n",
    "print(X_train.shape)\n",
    "print(y_train.shape)\n",
    "print(X_test.shape)\n",
    "print(y_test.shape)"
   ]
  },
  {
   "attachments": {},
   "cell_type": "markdown",
   "metadata": {},
   "source": [
    "Creates temporary data frames to show the successful splitting of multi-label classes"
   ]
  },
  {
   "cell_type": "code",
   "execution_count": 76,
   "metadata": {},
   "outputs": [
    {
     "name": "stdout",
     "output_type": "stream",
     "text": [
      "[0.0, 0.0, 0.0, 0.0, 1.0, 0.0, 0.0]    308\n",
      "[0.0, 0.0, 0.0, 1.0, 0.0, 0.0, 0.0]    246\n",
      "[0.0, 1.0, 0.0, 0.0, 0.0, 0.0, 0.0]    239\n",
      "[0.0, 0.0, 0.0, 0.0, 0.0, 1.0, 0.0]    211\n",
      "[1.0, 0.0, 0.0, 0.0, 0.0, 0.0, 0.0]    196\n",
      "[0.0, 0.0, 1.0, 0.0, 0.0, 0.0, 0.0]    177\n",
      "[1.0, 0.0, 1.0, 0.0, 0.0, 0.0, 0.0]    164\n",
      "[0.0, 0.0, 1.0, 0.0, 0.0, 0.0, 1.0]    148\n",
      "[0.0, 0.0, 0.0, 0.0, 0.0, 0.0, 1.0]    140\n",
      "[0.0, 1.0, 1.0, 0.0, 0.0, 0.0, 0.0]     81\n",
      "[0.0, 0.0, 1.0, 0.0, 1.0, 0.0, 0.0]     80\n",
      "[0.0, 0.0, 2.0, 0.0, 0.0, 0.0, 1.0]     77\n",
      "[0.0, 0.0, 2.0, 0.0, 0.0, 0.0, 0.0]     63\n",
      "[0.0, 0.0, 2.0, 0.0, 0.0, 1.0, 0.0]     50\n",
      "[0.0, 0.0, 1.0, 0.0, 0.0, 1.0, 0.0]     49\n",
      "[0.0, 0.0, 3.0, 0.0, 0.0, 0.0, 1.0]     16\n",
      "[0.0, 0.0, 3.0, 0.0, 0.0, 0.0, 0.0]      3\n",
      "Name: Multi-label, dtype: int64\n",
      "[0.0, 0.0, 0.0, 0.0, 1.0, 0.0, 0.0]    77\n",
      "[0.0, 0.0, 0.0, 1.0, 0.0, 0.0, 0.0]    61\n",
      "[0.0, 1.0, 0.0, 0.0, 0.0, 0.0, 0.0]    60\n",
      "[0.0, 0.0, 0.0, 0.0, 0.0, 1.0, 0.0]    53\n",
      "[1.0, 0.0, 0.0, 0.0, 0.0, 0.0, 0.0]    49\n",
      "[0.0, 0.0, 1.0, 0.0, 0.0, 0.0, 0.0]    44\n",
      "[1.0, 0.0, 1.0, 0.0, 0.0, 0.0, 0.0]    41\n",
      "[0.0, 0.0, 1.0, 0.0, 0.0, 0.0, 1.0]    37\n",
      "[0.0, 0.0, 0.0, 0.0, 0.0, 0.0, 1.0]    35\n",
      "[0.0, 1.0, 1.0, 0.0, 0.0, 0.0, 0.0]    20\n",
      "[0.0, 0.0, 1.0, 0.0, 1.0, 0.0, 0.0]    20\n",
      "[0.0, 0.0, 2.0, 0.0, 0.0, 0.0, 1.0]    19\n",
      "[0.0, 0.0, 2.0, 0.0, 0.0, 0.0, 0.0]    16\n",
      "[0.0, 0.0, 2.0, 0.0, 0.0, 1.0, 0.0]    13\n",
      "[0.0, 0.0, 1.0, 0.0, 0.0, 1.0, 0.0]    12\n",
      "[0.0, 0.0, 3.0, 0.0, 0.0, 0.0, 1.0]     4\n",
      "[0.0, 0.0, 3.0, 0.0, 0.0, 0.0, 0.0]     1\n",
      "Name: Multi-label, dtype: int64\n"
     ]
    }
   ],
   "source": [
    "'''Shows split of multi-label data between train and test data'''\n",
    "\n",
    "class_train_df = pd.DataFrame(columns = ['Filename', 'Multi-label'])\n",
    "class_train_df[\"Filename\"] = X_train\n",
    "class_train_df[\"Multi-label\"] = y_train\n",
    "class_test_df = pd.DataFrame(columns = ['Filename', 'Multi-label'])\n",
    "class_test_df[\"Filename\"] = X_test\n",
    "class_test_df[\"Multi-label\"] = y_test\n",
    "print(class_train_df[\"Multi-label\"].value_counts())\n",
    "print(class_test_df[\"Multi-label\"].value_counts())"
   ]
  },
  {
   "attachments": {},
   "cell_type": "markdown",
   "metadata": {},
   "source": [
    "Extracts train and test files from reduced data frame (data to input into models)"
   ]
  },
  {
   "cell_type": "code",
   "execution_count": 31,
   "metadata": {},
   "outputs": [
    {
     "name": "stdout",
     "output_type": "stream",
     "text": [
      "Negative       8496\n",
      "Irrigator       388\n",
      "SpecimenBag     381\n",
      "Grasper         380\n",
      "Bipolar         360\n",
      "Clipper         320\n",
      "Scissors        310\n",
      "Hook            246\n",
      "Name: class, dtype: int64\n",
      "Negative       1126\n",
      "Grasper         105\n",
      "Irrigator        97\n",
      "SpecimenBag      95\n",
      "Bipolar          90\n",
      "Clipper          80\n",
      "Scissors         78\n",
      "Hook             62\n",
      "Name: class, dtype: int64\n"
     ]
    }
   ],
   "source": [
    "'''Extracts rows for train dataset and validates that classes are correctly represented.'''\n",
    "\n",
    "train_df = reduced_df.copy()\n",
    "test_df = reduced_df.copy()\n",
    "rows = []\n",
    "for index, row in train_df.iterrows():\n",
    "    if row[\"filename\"] not in X_train:\n",
    "        train_df.drop(index, inplace=True) \n",
    "    else:\n",
    "        test_df.drop(index, inplace=True)\n",
    "train_df = train_df.reset_index()\n",
    "test_df = test_df.reset_index()\n",
    "print(train_df[\"class\"].value_counts())\n",
    "print(test_df[\"class\"].value_counts()) "
   ]
  },
  {
   "attachments": {},
   "cell_type": "markdown",
   "metadata": {},
   "source": [
    "HOG transformation function created to keep consistency with parameters"
   ]
  },
  {
   "cell_type": "code",
   "execution_count": 32,
   "metadata": {},
   "outputs": [],
   "source": [
    "'''Function to find HOG feature descriptors'''\n",
    "\n",
    "def hogTransform(img):\n",
    "    hog_img= hog(\n",
    "    img, pixels_per_cell=(5,5), \n",
    "    cells_per_block=(2, 2), \n",
    "    orientations=9, \n",
    "    block_norm='L2-Hys', \n",
    "    transform_sqrt=True)\n",
    "    return (hog_img)\n"
   ]
  },
  {
   "attachments": {},
   "cell_type": "markdown",
   "metadata": {},
   "source": [
    "All images in the training set are read in and feature descriptors are calculated\n",
    "Feature descriptors are added to train_df"
   ]
  },
  {
   "cell_type": "code",
   "execution_count": null,
   "metadata": {},
   "outputs": [],
   "source": [
    "'''Images are read in, grey-scaled, resized and hog-transformed.'''\n",
    "'''A 1D feature descriptor is added to the dataframe for each image.'''\n",
    "\n",
    "data = []\n",
    "os.chdir(cropped_folder)\n",
    "for index, row in train_df.iterrows():\n",
    "    if row[\"Cropped File\"].endswith(\"neg1.jpg\") or row[\"Cropped File\"].endswith(\"neg2.jpg\"):\n",
    "        os.chdir(neg_folder)\n",
    "    elif row[\"Cropped File\"][-9:-6] == \"HNM\":\n",
    "        os.chdir(hnm_folder)\n",
    "    else:\n",
    "        os.chdir(cropped_folder)\n",
    "    img = cv2.imread(row[\"Cropped File\"], 0)\n",
    "    img = resize(img, (50,50))\n",
    "    hog_img = hogTransform(img)\n",
    "    data.append(hog_img)\n",
    "\n",
    "train_df[\"Data\"] = data\n",
    "print(train_df)"
   ]
  },
  {
   "attachments": {},
   "cell_type": "markdown",
   "metadata": {},
   "source": [
    "SVM is imported for use \n",
    "Data is put in the required format for the classifer"
   ]
  },
  {
   "cell_type": "code",
   "execution_count": 34,
   "metadata": {},
   "outputs": [],
   "source": [
    "'''SVM is imported.'''\n",
    "'''Data is formatted correctly for model training. This includes the use of OneHotEncoder to represent the classes.'''\n",
    "\n",
    "from sklearn import svm\n",
    "\n",
    "enc.fit(train_df['class'].values.reshape(-1,1))\n",
    "\n",
    "X_data = list(np.asarray(train_df['Data']))\n",
    "Y_data = np.asarray(enc.transform(train_df['class'].values.reshape(-1,1)).toarray())\n",
    "Y_train = np.argmax(Y_data, axis=1)"
   ]
  },
  {
   "attachments": {},
   "cell_type": "markdown",
   "metadata": {},
   "source": [
    "Model is trained on the training set"
   ]
  },
  {
   "cell_type": "code",
   "execution_count": null,
   "metadata": {},
   "outputs": [],
   "source": [
    "'''SVM model is trained.'''\n",
    "\n",
    "clf = svm.SVC(probability=True, C=10, gamma = 0.01)\n",
    "clf.fit(X_data, Y_train)"
   ]
  },
  {
   "attachments": {},
   "cell_type": "markdown",
   "metadata": {},
   "source": [
    "Pickle is imported\n",
    "Models can be saved using the lines below"
   ]
  },
  {
   "cell_type": "code",
   "execution_count": 286,
   "metadata": {},
   "outputs": [],
   "source": [
    "import pickle\n",
    "os.chdir(model_folder)\n",
    "pickle.dump(clf, open('SVMProto.pkl', 'wb'))"
   ]
  },
  {
   "attachments": {},
   "cell_type": "markdown",
   "metadata": {},
   "source": [
    "Models can be loaded in with the following command"
   ]
  },
  {
   "cell_type": "code",
   "execution_count": 63,
   "metadata": {},
   "outputs": [],
   "source": [
    "clf = pickle.load(open('bigSVM.pkl', 'rb'))"
   ]
  },
  {
   "attachments": {},
   "cell_type": "markdown",
   "metadata": {},
   "source": [
    "The set up to find the best parameters for the SVM model"
   ]
  },
  {
   "cell_type": "code",
   "execution_count": null,
   "metadata": {},
   "outputs": [
    {
     "name": "stdout",
     "output_type": "stream",
     "text": [
      "Fitting 5 folds for each of 48 candidates, totalling 240 fits\n",
      "SVC(C=10, gamma=0.01, probability=True)\n"
     ]
    }
   ],
   "source": [
    "param_grid = {'C': [0.1,1, 10, 100], 'gamma': [1,0.1,0.01,0.001],'kernel': ['rbf', 'poly', 'sigmoid']}\n",
    "\n",
    "grid = GridSearchCV(svm.SVC(probability=True),param_grid,refit=True,verbose=2, n_jobs=-1)\n",
    "grid.fit(X_data, Y_train)\n",
    "\n",
    "print(grid.best_estimator_)"
   ]
  },
  {
   "attachments": {},
   "cell_type": "markdown",
   "metadata": {},
   "source": [
    "Images in the test set are read in and feature descriptors are calculated"
   ]
  },
  {
   "cell_type": "code",
   "execution_count": null,
   "metadata": {},
   "outputs": [],
   "source": [
    "'''Test images are processed (same as training data).'''\n",
    "\n",
    "test_data = []\n",
    "os.chdir(cropped_folder)\n",
    "for index, row in test_df.iterrows():\n",
    "    if row[\"Cropped File\"].endswith(\"neg1.jpg\") or row[\"Cropped File\"].endswith(\"neg2.jpg\"):\n",
    "        os.chdir(neg_folder)\n",
    "    else:\n",
    "        os.chdir(cropped_folder)\n",
    "    img = cv2.imread(row[\"Cropped File\"], 0)\n",
    "    img = resize(img, (50,50))\n",
    "    hog_img = hogTransform(img)\n",
    "    test_data.append(hog_img)\n",
    "\n",
    "test_df[\"Data\"] = test_data\n",
    "test_df"
   ]
  },
  {
   "attachments": {},
   "cell_type": "markdown",
   "metadata": {},
   "source": [
    "Further varification of the train test split before a model is tested"
   ]
  },
  {
   "cell_type": "code",
   "execution_count": 228,
   "metadata": {},
   "outputs": [
    {
     "name": "stdout",
     "output_type": "stream",
     "text": [
      "Negative       1126\n",
      "Irrigator        97\n",
      "SpecimenBag      95\n",
      "Bipolar          90\n",
      "Grasper          89\n",
      "Clipper          80\n",
      "Scissors         78\n",
      "Hook             62\n",
      "Name: class, dtype: int64\n",
      "Negative       4496\n",
      "Grasper         396\n",
      "Irrigator       388\n",
      "SpecimenBag     381\n",
      "Bipolar         360\n",
      "Clipper         320\n",
      "Scissors        310\n",
      "Hook            246\n",
      "Name: class, dtype: int64\n"
     ]
    }
   ],
   "source": [
    "print(test_df[\"class\"].value_counts())\n",
    "print(train_df[\"class\"].value_counts())"
   ]
  },
  {
   "attachments": {},
   "cell_type": "markdown",
   "metadata": {},
   "source": [
    "Test data is correctly formatted for the model "
   ]
  },
  {
   "cell_type": "code",
   "execution_count": 65,
   "metadata": {},
   "outputs": [],
   "source": [
    "'''Test data is correctly formatted.'''\n",
    "'''Model predicts targets for test data and root mean squared error is calculated.'''\n",
    "\n",
    "enc.fit(test_df['class'].values.reshape(-1,1))\n",
    "\n",
    "X_data_test = list(np.asarray(test_df['Data']))\n",
    "Y_data_test = np.asarray(enc.transform(test_df['class'].values.reshape(-1,1)).toarray())\n",
    "\n",
    "targets = np.argmax(Y_data_test, axis=1)"
   ]
  },
  {
   "attachments": {},
   "cell_type": "markdown",
   "metadata": {},
   "source": [
    "Model predicts labels for test data"
   ]
  },
  {
   "cell_type": "code",
   "execution_count": 76,
   "metadata": {},
   "outputs": [
    {
     "name": "stdout",
     "output_type": "stream",
     "text": [
      "1.3394340322248552\n"
     ]
    }
   ],
   "source": [
    "svm_predicted = clf.predict(X_data_test)\n",
    "\n",
    "test_SVM_mse = mean_squared_error(targets, svm_predicted)\n",
    "test_SVM_rsme=np.sqrt(test_SVM_mse)\n",
    "print(test_SVM_rsme)"
   ]
  },
  {
   "attachments": {},
   "cell_type": "markdown",
   "metadata": {},
   "source": [
    "Confusion matrix and classification report is displayed"
   ]
  },
  {
   "cell_type": "code",
   "execution_count": 77,
   "metadata": {},
   "outputs": [
    {
     "name": "stdout",
     "output_type": "stream",
     "text": [
      "prediction   0   1   2   3   4     5   6\n",
      "label                                   \n",
      "0           56   2   2   2   6    11   7\n",
      "1            3  60   0   4   3     1   4\n",
      "2            6   3  60   1   0    17   8\n",
      "3            1   2   2  45   4     2   3\n",
      "4            5   4   2   1  76     4   2\n",
      "5            3   3   3   0   1  1112   4\n",
      "6            9   8   1   1   5     6  46\n",
      "              precision    recall  f1-score   support\n",
      "\n",
      "           0       0.64      0.62      0.63        90\n",
      "           1       0.70      0.75      0.72        80\n",
      "           2       0.83      0.62      0.71        96\n",
      "           3       0.78      0.73      0.75        62\n",
      "           4       0.76      0.78      0.77        97\n",
      "           5       0.96      0.99      0.97      1126\n",
      "           6       0.59      0.59      0.59        78\n",
      "           7       0.79      0.71      0.74        95\n",
      "\n",
      "    accuracy                           0.88      1724\n",
      "   macro avg       0.76      0.72      0.74      1724\n",
      "weighted avg       0.88      0.88      0.88      1724\n",
      "\n"
     ]
    }
   ],
   "source": [
    "'''Confusion matrix for multi-class classifier is presented along with the classification report for the model.'''\n",
    "\n",
    "label_names = [0,1,2,3,4,5,6]\n",
    "\n",
    "cmx_SVM = confusion_matrix(targets, svm_predicted, labels=label_names)\n",
    "df_SVM = pd.DataFrame(cmx_SVM, columns=label_names, index=label_names)\n",
    "df_SVM.columns.name = 'prediction'\n",
    "df_SVM.index.name = 'label'\n",
    "print(df_SVM)\n",
    "print(classification_report(targets, svm_predicted))"
   ]
  },
  {
   "attachments": {},
   "cell_type": "markdown",
   "metadata": {},
   "source": [
    "Sliding window function\n",
    "The image (2D array), window dimensions and step increment dimensions are given.\n",
    "The function returns a list of tuples containing: the coordinates of the window and the cropped image (the image at each window)."
   ]
  },
  {
   "cell_type": "code",
   "execution_count": 36,
   "metadata": {},
   "outputs": [],
   "source": [
    "def slidingWindow(image, window_width, window_height, x_step_size, y_step_size):\n",
    "    img_list = []\n",
    "    img_width =  image.shape[1]\n",
    "    img_height = image.shape[0]\n",
    "    ip_row = math.ceil((img_width - window_width) / x_step_size) + 1 #Iterations per row (Plus one accounts for range starting from 0, not 1)\n",
    "    ip_column = math.ceil((img_height - window_height) / y_step_size) + 1 #Iterations per column (Plus one accounts for range starting from 0, not 1)\n",
    "    for y in range(ip_column):\n",
    "        for x in range(ip_row):\n",
    "            x_win_pos = x*x_step_size\n",
    "            y_win_pos = y*y_step_size\n",
    "            if (x_win_pos + window_width > img_width):\n",
    "                x_win_pos = img_width - window_width\n",
    "            if (y_win_pos + window_height > img_height):\n",
    "                y_win_pos = img_height - window_height\n",
    "            img_crop = image[ y_win_pos:(y_win_pos + window_height),x_win_pos : (x_win_pos + window_width)]\n",
    "            img_list.append(((x_win_pos, y_win_pos, x_win_pos + window_width, y_win_pos + window_height), img_crop))\n",
    "    return(img_list)"
   ]
  },
  {
   "cell_type": "code",
   "execution_count": null,
   "metadata": {},
   "outputs": [],
   "source": [
    "cv2.destroyAllWindows()"
   ]
  },
  {
   "attachments": {},
   "cell_type": "markdown",
   "metadata": {},
   "source": [
    "Image pyramid \n",
    "An image, scale factor and iterations are given.\n",
    "The function returns a list of images in descending order of size."
   ]
  },
  {
   "cell_type": "code",
   "execution_count": 37,
   "metadata": {},
   "outputs": [],
   "source": [
    "def imagePyramid(image, scale_factor, iterations):\n",
    "    imgpyr_list = []\n",
    "    for i in range(iterations):\n",
    "        div_val = pow(scale_factor,i)\n",
    "        new_image = resize(image, (image.shape[0]//div_val,image.shape[1]//div_val))\n",
    "        imgpyr_list.append((div_val,new_image))\n",
    "    return(imgpyr_list)    "
   ]
  },
  {
   "attachments": {},
   "cell_type": "markdown",
   "metadata": {},
   "source": [
    "Function to predict boxes on a given image\n",
    "Implements both sliding window and image pyramid\n",
    "returns a list of tuples containing: the box for the source image, class and probability for each box"
   ]
  },
  {
   "cell_type": "code",
   "execution_count": 53,
   "metadata": {},
   "outputs": [],
   "source": [
    "def findBoxes(filename, window_width, window_height):\n",
    "    os.chdir(raw_folder)\n",
    "    image = cv2.imread(filename, 0)\n",
    "    pred_boxes = []\n",
    "    for pyr_tpl in imagePyramid(image,1.4,6):\n",
    "        pyr_img = pyr_tpl[1]\n",
    "        pyr_scale = pyr_tpl[0]\n",
    "        print(pyr_scale)\n",
    "        for window_tpl in slidingWindow(pyr_img,window_width,window_height,10,10):\n",
    "            prob = 0\n",
    "            win_img = window_tpl[1]\n",
    "            win_box = window_tpl[0]\n",
    "            img = resize(win_img, (50,50))\n",
    "            hog_img = hogTransform(img)\n",
    "            prob_list = clf.predict_proba((hog_img).reshape(1, -1))[0]\n",
    "            for index in range(len(prob_list)):\n",
    "                if prob < prob_list[index]:\n",
    "                    class_type = index\n",
    "                    prob = prob_list[index]\n",
    "            if prob >0.85 and class_type!=5 and class_type != 7:\n",
    "                print((prob,class_type)) \n",
    "\n",
    "                pred_boxes.append(((math.ceil(win_box[0]*pyr_scale), math.ceil(win_box[1]*pyr_scale), math.ceil(win_box[2]*pyr_scale), math.ceil(win_box[3]*pyr_scale)),class_type,prob))\n",
    "            \n",
    "    return(pred_boxes)"
   ]
  },
  {
   "attachments": {},
   "cell_type": "markdown",
   "metadata": {},
   "source": [
    "function to calculate the intersection over union for two boxes"
   ]
  },
  {
   "cell_type": "code",
   "execution_count": 41,
   "metadata": {},
   "outputs": [],
   "source": [
    "def IoU (box1, box2):\n",
    "    #Calculates area of given boxes\n",
    "    box1Area = (box1[2] - box1[0] + 1) * (box1[3] - box1[1] + 1)\n",
    "    box2Area = (box2[2] - box2[0] + 1) * (box2[3] - box2[1] + 1)\n",
    "\n",
    "    #Calculates corners of intersecting box\n",
    "    xtopL = max(box1[0], box2[0])\n",
    "    ytopL = max(box1[1], box2[1])\n",
    "    xbotR = min(box1[2], box2[2])\n",
    "    ybotR = min(box1[3], box2[3])\n",
    "\n",
    "    #Calculates area of intersecting box (gives 0 if intersecting box doesn't exist)\n",
    "    interArea = max(0, xbotR - xtopL + 1) * max(0, ybotR - ytopL + 1)\n",
    "\n",
    "    #Calculates intersection over union\n",
    "    iou = interArea / float(box1Area + box2Area - interArea)\n",
    "    \n",
    "    return iou"
   ]
  },
  {
   "attachments": {},
   "cell_type": "markdown",
   "metadata": {},
   "source": [
    "Non maximum suppression function for a list of boxes"
   ]
  },
  {
   "cell_type": "code",
   "execution_count": 42,
   "metadata": {},
   "outputs": [],
   "source": [
    "def nms(boxes):\n",
    "    box_list = boxes.copy()\n",
    "    box_list.sort(key = lambda i:i[2], reverse = True)\n",
    "    new_list = []\n",
    "    while len(box_list) != 0:\n",
    "        new_box = box_list[0]\n",
    "        new_list.append(box_list[0])\n",
    "        box_list.remove(box_list[0])\n",
    "        box_list_copy = box_list.copy()\n",
    "        for box in box_list:\n",
    "            if (IoU(new_box[0],box[0])) > 0:\n",
    "                box_list_copy.remove(box)\n",
    "        box_list = box_list_copy\n",
    "    return new_list "
   ]
  },
  {
   "attachments": {},
   "cell_type": "markdown",
   "metadata": {},
   "source": [
    "function to draw in final predicted boxes"
   ]
  },
  {
   "cell_type": "code",
   "execution_count": 27,
   "metadata": {},
   "outputs": [],
   "source": [
    "def drawBox(image, box,colour, name):\n",
    "    if name == \"0\":\n",
    "        class_name = \"Bipolar\"\n",
    "        colour = (203,131,21)\n",
    "    elif name == \"1\":\n",
    "        class_name = \"Clipper\"\n",
    "        colour = (203,21,40)\n",
    "    elif name == \"2\":\n",
    "        class_name = \"Grasper\"\n",
    "        colour = (214,235,25)\n",
    "    elif name == \"3\":\n",
    "        class_name = \"Hook\"\n",
    "        colour = (25,235,228)\n",
    "    elif name == \"4\":\n",
    "        class_name = \"Irrigator\"\n",
    "        colour = (25,116,235)\n",
    "    elif name == \"6\":\n",
    "        class_name = \"Scissors\"\n",
    "        colour = (102,25,235)\n",
    "    elif name == \"7\":\n",
    "        class_name = \"Specimen Bag\"\n",
    "        colour = (235,25,235)\n",
    "    else:\n",
    "        class_name = name\n",
    "    clone = image.copy()\n",
    "    clone = cv2.rectangle(clone, (box[0], box[1]), (box[2], box[3]), colour, 2)\n",
    "    clone = cv2.putText(clone, class_name, (box[0], box[1]-10), cv2.FONT_HERSHEY_PLAIN, 1, (255,255,255), 2)\n",
    "    return clone\n",
    "    "
   ]
  },
  {
   "attachments": {},
   "cell_type": "markdown",
   "metadata": {},
   "source": [
    "Function to save images for the hard negative mining process"
   ]
  },
  {
   "cell_type": "code",
   "execution_count": 28,
   "metadata": {},
   "outputs": [],
   "source": [
    "def saveImg(filename, box, index,folder):\n",
    "    os.chdir(raw_folder)\n",
    "    if index < 10:\n",
    "        str_index = \"0\" + str(index)\n",
    "    elif index > 99:\n",
    "        print(\"EXCEEDED RANGE\")    \n",
    "    else:\n",
    "        str_index = str(index)    \n",
    "    img = Image.open(filename)\n",
    "    img_crop = img.crop((box[0], box[1], box[2], box[3]))\n",
    "    \n",
    "    newfile = filename[:-4] + \"HNM\" + str_index + \".jpg\"\n",
    "    os.chdir(folder)\n",
    "    img_crop.save(newfile)\n",
    "    "
   ]
  },
  {
   "attachments": {},
   "cell_type": "markdown",
   "metadata": {},
   "source": [
    "function to find truth boxes for a given source image "
   ]
  },
  {
   "cell_type": "code",
   "execution_count": 43,
   "metadata": {},
   "outputs": [],
   "source": [
    "def findTruths(filename):\n",
    "    truth_boxes = []\n",
    "    for index, row in class_df.iterrows():\n",
    "        if row[\"filename\"] == filename and row[\"class\"] != \"Negative\" and not pd.isnull(row[\"xmin\"]):\n",
    "            truth_boxes.append(((int(row[\"xmin\"]),int(row[\"ymin\"]),int(row[\"xmax\"]),int(row[\"ymax\"])),row[\"class\"]))\n",
    "    return truth_boxes"
   ]
  },
  {
   "attachments": {},
   "cell_type": "markdown",
   "metadata": {},
   "source": [
    "Example truth box finding"
   ]
  },
  {
   "cell_type": "code",
   "execution_count": 45,
   "metadata": {},
   "outputs": [
    {
     "name": "stdout",
     "output_type": "stream",
     "text": [
      "[((287, 207, 520, 422), 'Scissors')]\n"
     ]
    }
   ],
   "source": [
    "os.chdir(raw_folder)\n",
    "test_image = \"v02_027150.jpg\"\n",
    "truth_boxes = findTruths(test_image)\n",
    "print(truth_boxes)"
   ]
  },
  {
   "attachments": {},
   "cell_type": "markdown",
   "metadata": {},
   "source": [
    "Shows filenames for test set"
   ]
  },
  {
   "cell_type": "code",
   "execution_count": null,
   "metadata": {},
   "outputs": [],
   "source": [
    "test_imgs = []\n",
    "\n",
    "for index, row in test_df.iterrows():\n",
    "    test_imgs.append(row[\"filename\"])\n",
    "\n",
    "\n",
    "test_imgs = list(dict.fromkeys(test_imgs)) \n",
    "print(test_imgs)    "
   ]
  },
  {
   "attachments": {},
   "cell_type": "markdown",
   "metadata": {},
   "source": [
    "Shows filenames for training set"
   ]
  },
  {
   "cell_type": "code",
   "execution_count": null,
   "metadata": {},
   "outputs": [],
   "source": [
    "train_imgs = []\n",
    "\n",
    "for index, row in train_df.iterrows():\n",
    "    train_imgs.append(row[\"filename\"])\n",
    "train_imgs = list(dict.fromkeys(train_imgs))    \n",
    "print(train_imgs)    "
   ]
  },
  {
   "attachments": {},
   "cell_type": "markdown",
   "metadata": {},
   "source": [
    "Hard negative mining process"
   ]
  },
  {
   "cell_type": "code",
   "execution_count": null,
   "metadata": {},
   "outputs": [],
   "source": [
    "counter = 0\n",
    "os.chdir(raw_folder)\n",
    "for hnm_image in X_test:\n",
    "    counter = counter + 1\n",
    "    print(\"IMAGE:\" + str(counter) + \"/\" + str(len(X_test)))\n",
    "    index = 0\n",
    "    truth_boxes = findTruths(hnm_image)\n",
    "    pred_boxes_sqr = findBoxes(hnm_image, 50, 50)\n",
    "    pred_boxes_rect = findBoxes(hnm_image, 50, 25)\n",
    "    concat_boxes = pred_boxes_rect + pred_boxes_sqr\n",
    "\n",
    "    \n",
    "    final_boxes = nms(concat_boxes)\n",
    "    image = cv2.imread(hnm_image)\n",
    "    clone2 = image.copy()\n",
    "    truth_boxes = findTruths(hnm_image)\n",
    "\n",
    "    for box_tup in final_boxes:\n",
    "        clone2 = drawBox(clone2, box_tup[0], (0,150,0), str(box_tup[1]))\n",
    "    for truth_tup in truth_boxes:\n",
    "        print(truth_tup[0])\n",
    "        clone2 = drawBox(clone2, truth_tup[0], (0,0,0), truth_tup[1])    \n",
    "    cv2.imshow(\"Box Img\", clone2)\n",
    "    cv2.waitKey(0)\n",
    "    #cv2.imwrite(\"PRED\"+hnm_image, clone2)\n",
    "    cv2.waitKey(0) "
   ]
  },
  {
   "attachments": {},
   "cell_type": "markdown",
   "metadata": {},
   "source": [
    "Box predictions for a given test image"
   ]
  },
  {
   "cell_type": "code",
   "execution_count": null,
   "metadata": {},
   "outputs": [],
   "source": [
    "import pickle\n",
    "os.chdir(model_folder)\n",
    "clf = pickle.load(open('reducedSVMv2.pkl', 'rb'))\n",
    "\n",
    "test_image = \"v02_027150.jpg\"\n",
    "truth_boxes = findTruths(test_image)\n",
    "\n",
    "pred_boxes_sqr = findBoxes(test_image, 50, 50)\n",
    "pred_boxes = findBoxes(test_image, 50, 25)\n",
    "\n",
    "concat_boxes = pred_boxes + pred_boxes_sqr"
   ]
  },
  {
   "attachments": {},
   "cell_type": "markdown",
   "metadata": {},
   "source": [
    "Total box predictions from test"
   ]
  },
  {
   "cell_type": "code",
   "execution_count": null,
   "metadata": {},
   "outputs": [
    {
     "name": "stdout",
     "output_type": "stream",
     "text": [
      "[((330, 10, 50, 25), 2, 0.93654776059604), ((360, 100, 50, 25), 2, 0.977850000722603), ((370, 100, 50, 25), 2, 0.9677474000509877), ((280, 130, 50, 25), 4, 0.9548428908865284), ((280, 140, 50, 25), 4, 0.9258880849374127), ((360, 220, 50, 25), 4, 0.9105308563982726), ((165, 264, 138, 69), 4, 0.9254022939107489)]\n"
     ]
    }
   ],
   "source": [
    "print(concat_boxes)"
   ]
  },
  {
   "attachments": {},
   "cell_type": "markdown",
   "metadata": {},
   "source": [
    "Creates image for test "
   ]
  },
  {
   "cell_type": "code",
   "execution_count": null,
   "metadata": {},
   "outputs": [],
   "source": [
    "final_boxes = nms(concat_boxes)\n",
    "image = cv2.imread(test_image)\n",
    "clone2 = image.copy()\n",
    "for box_tup in final_boxes:\n",
    "    clone2 = drawBox(clone2, box_tup[0], (0,150,0), str(box_tup[1]))\n",
    "for truth_tup in truth_boxes:\n",
    "    print(truth_tup[0])\n",
    "    clone2 = drawBox(clone2, truth_tup[0], (0,0,0), truth_tup[1])    \n",
    "cv2.imshow(\"Box Img\", clone2)\n",
    "cv2.waitKey(0)"
   ]
  },
  {
   "attachments": {},
   "cell_type": "markdown",
   "metadata": {},
   "source": [
    "Saves final image if required"
   ]
  },
  {
   "cell_type": "code",
   "execution_count": 429,
   "metadata": {},
   "outputs": [
    {
     "data": {
      "text/plain": [
       "-1"
      ]
     },
     "execution_count": 429,
     "metadata": {},
     "output_type": "execute_result"
    }
   ],
   "source": [
    "os.chdir(raw_folder)\n",
    "cv2.imwrite(\"PREDv02_027150.jpg\", clone2)\n",
    "cv2.waitKey(0)"
   ]
  }
 ],
 "metadata": {
  "kernelspec": {
   "display_name": "base",
   "language": "python",
   "name": "python3"
  },
  "language_info": {
   "codemirror_mode": {
    "name": "ipython",
    "version": 3
   },
   "file_extension": ".py",
   "mimetype": "text/x-python",
   "name": "python",
   "nbconvert_exporter": "python",
   "pygments_lexer": "ipython3",
   "version": "3.10.9"
  },
  "orig_nbformat": 4
 },
 "nbformat": 4,
 "nbformat_minor": 2
}
