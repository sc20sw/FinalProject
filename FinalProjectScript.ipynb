{
 "cells": [
  {
   "attachments": {},
   "cell_type": "markdown",
   "metadata": {},
   "source": [
    "All libraries imported for use through out the project"
   ]
  },
  {
   "cell_type": "code",
   "execution_count": 56,
   "metadata": {},
   "outputs": [],
   "source": [
    "import os\n",
    "import glob\n",
    "import pandas as pd\n",
    "import numpy as np\n",
    "import cv2 \n",
    "import math\n",
    "import xml.etree.ElementTree as ET\n",
    "from skimage.io import imread, imsave\n",
    "from skimage.transform import resize\n",
    "from skimage.feature import hog\n",
    "import matplotlib.pyplot  as plt\n",
    "from sklearn.ensemble import RandomForestRegressor\n",
    "from sklearn.preprocessing import StandardScaler\n",
    "from sklearn.metrics import mean_squared_error\n",
    "from sklearn.preprocessing import OneHotEncoder\n",
    "from sklearn.model_selection import train_test_split\n",
    "from sklearn.metrics import confusion_matrix\n",
    "from sklearn.metrics import classification_report\n",
    "from sklearn.model_selection import GridSearchCV\n",
    "import random \n",
    "from PIL import Image\n",
    "import warnings\n",
    "warnings.simplefilter(action='ignore', category=FutureWarning)\n"
   ]
  },
  {
   "attachments": {},
   "cell_type": "markdown",
   "metadata": {},
   "source": [
    "All file paths are created and assigned to variables for ease of use"
   ]
  },
  {
   "cell_type": "code",
   "execution_count": 57,
   "metadata": {},
   "outputs": [],
   "source": [
    "pro_folder = r\"C:\\Users\\scott\\OneDrive\\Desktop\\m2cai16-tool-locations\\ProcessedImages\"\n",
    "pro_folder = os.path.realpath(pro_folder)\n",
    "raw_folder = r\"C:\\Users\\scott\\OneDrive\\Desktop\\m2cai16-tool-locations\\RawImages\"\n",
    "raw_folder = os.path.realpath(raw_folder)\n",
    "cropped_folder = r\"C:\\Users\\scott\\OneDrive\\Desktop\\m2cai16-tool-locations\\CroppedImages\"\n",
    "cropped_folder = os.path.realpath(cropped_folder)\n",
    "rootdir_folder = r\"C:\\Users\\scott\\OneDrive\\Desktop\\m2cai16-tool-locations\"\n",
    "rootdir_folder = os.path.realpath(rootdir_folder)\n",
    "annotations_folder = r\"C:\\Users\\scott\\OneDrive\\Desktop\\m2cai16-tool-locations\\Annotations\"\n",
    "annotations_folder = os.path.realpath(annotations_folder)\n",
    "images_folder = r\"C:\\Users\\scott\\OneDrive\\Desktop\\m2cai16-tool-locations\\JPEGImages\"\n",
    "images_folder = os.path.realpath(images_folder)\n",
    "neg_folder = r\"C:\\Users\\scott\\OneDrive\\Desktop\\m2cai16-tool-locations\\NegativeImages\"\n",
    "neg_folder = os.path.realpath(neg_folder)\n",
    "original_folder = r\"C:\\Users\\scott\\OneDrive\\Desktop\\m2cai16-tool-locations\\OriginalData\"\n",
    "original_folder = os.path.realpath(original_folder)\n",
    "model_folder = r\"C:\\Users\\scott\\OneDrive\\Desktop\\m2cai16-tool-locations\\Models\"\n",
    "model_folder = os.path.realpath(model_folder)\n",
    "hnm_folder = r\"C:\\Users\\scott\\OneDrive\\Desktop\\m2cai16-tool-locations\\HardNegativeMining\"\n",
    "hnm_folder = os.path.realpath(hnm_folder)\n"
   ]
  },
  {
   "attachments": {},
   "cell_type": "markdown",
   "metadata": {},
   "source": [
    "Initialises dataframe. All required data is taken from the annotations provided in original data set."
   ]
  },
  {
   "cell_type": "code",
   "execution_count": 58,
   "metadata": {},
   "outputs": [
    {
     "data": {
      "text/html": [
       "<div>\n",
       "<style scoped>\n",
       "    .dataframe tbody tr th:only-of-type {\n",
       "        vertical-align: middle;\n",
       "    }\n",
       "\n",
       "    .dataframe tbody tr th {\n",
       "        vertical-align: top;\n",
       "    }\n",
       "\n",
       "    .dataframe thead th {\n",
       "        text-align: right;\n",
       "    }\n",
       "</style>\n",
       "<table border=\"1\" class=\"dataframe\">\n",
       "  <thead>\n",
       "    <tr style=\"text-align: right;\">\n",
       "      <th></th>\n",
       "      <th>filename</th>\n",
       "      <th>img_width</th>\n",
       "      <th>img_height</th>\n",
       "      <th>class</th>\n",
       "      <th>xmin</th>\n",
       "      <th>ymin</th>\n",
       "      <th>xmax</th>\n",
       "      <th>ymax</th>\n",
       "    </tr>\n",
       "  </thead>\n",
       "  <tbody>\n",
       "    <tr>\n",
       "      <th>0</th>\n",
       "      <td>v01_002075.jpg</td>\n",
       "      <td>596</td>\n",
       "      <td>334</td>\n",
       "      <td>Grasper</td>\n",
       "      <td>201</td>\n",
       "      <td>171</td>\n",
       "      <td>256</td>\n",
       "      <td>191</td>\n",
       "    </tr>\n",
       "    <tr>\n",
       "      <th>1</th>\n",
       "      <td>v01_002250.jpg</td>\n",
       "      <td>596</td>\n",
       "      <td>334</td>\n",
       "      <td>Grasper</td>\n",
       "      <td>155</td>\n",
       "      <td>151</td>\n",
       "      <td>210</td>\n",
       "      <td>174</td>\n",
       "    </tr>\n",
       "    <tr>\n",
       "      <th>2</th>\n",
       "      <td>v01_002250.jpg</td>\n",
       "      <td>596</td>\n",
       "      <td>334</td>\n",
       "      <td>Grasper</td>\n",
       "      <td>423</td>\n",
       "      <td>154</td>\n",
       "      <td>487</td>\n",
       "      <td>287</td>\n",
       "    </tr>\n",
       "    <tr>\n",
       "      <th>3</th>\n",
       "      <td>v01_002425.jpg</td>\n",
       "      <td>596</td>\n",
       "      <td>334</td>\n",
       "      <td>Grasper</td>\n",
       "      <td>178</td>\n",
       "      <td>151</td>\n",
       "      <td>227</td>\n",
       "      <td>174</td>\n",
       "    </tr>\n",
       "    <tr>\n",
       "      <th>4</th>\n",
       "      <td>v01_004050.jpg</td>\n",
       "      <td>596</td>\n",
       "      <td>334</td>\n",
       "      <td>Grasper</td>\n",
       "      <td>240</td>\n",
       "      <td>79</td>\n",
       "      <td>315</td>\n",
       "      <td>142</td>\n",
       "    </tr>\n",
       "    <tr>\n",
       "      <th>...</th>\n",
       "      <td>...</td>\n",
       "      <td>...</td>\n",
       "      <td>...</td>\n",
       "      <td>...</td>\n",
       "      <td>...</td>\n",
       "      <td>...</td>\n",
       "      <td>...</td>\n",
       "      <td>...</td>\n",
       "    </tr>\n",
       "    <tr>\n",
       "      <th>3924</th>\n",
       "      <td>v10_065125.jpg</td>\n",
       "      <td>578</td>\n",
       "      <td>324</td>\n",
       "      <td>SpecimenBag</td>\n",
       "      <td>327</td>\n",
       "      <td>197</td>\n",
       "      <td>444</td>\n",
       "      <td>294</td>\n",
       "    </tr>\n",
       "    <tr>\n",
       "      <th>3925</th>\n",
       "      <td>v10_065150.jpg</td>\n",
       "      <td>578</td>\n",
       "      <td>324</td>\n",
       "      <td>SpecimenBag</td>\n",
       "      <td>125</td>\n",
       "      <td>134</td>\n",
       "      <td>348</td>\n",
       "      <td>303</td>\n",
       "    </tr>\n",
       "    <tr>\n",
       "      <th>3926</th>\n",
       "      <td>v10_066100.jpg</td>\n",
       "      <td>578</td>\n",
       "      <td>324</td>\n",
       "      <td>SpecimenBag</td>\n",
       "      <td>106</td>\n",
       "      <td>111</td>\n",
       "      <td>341</td>\n",
       "      <td>216</td>\n",
       "    </tr>\n",
       "    <tr>\n",
       "      <th>3927</th>\n",
       "      <td>v10_066100.jpg</td>\n",
       "      <td>578</td>\n",
       "      <td>324</td>\n",
       "      <td>Grasper</td>\n",
       "      <td>163</td>\n",
       "      <td>7</td>\n",
       "      <td>338</td>\n",
       "      <td>69</td>\n",
       "    </tr>\n",
       "    <tr>\n",
       "      <th>3928</th>\n",
       "      <td>v10_066125.jpg</td>\n",
       "      <td>578</td>\n",
       "      <td>324</td>\n",
       "      <td>SpecimenBag</td>\n",
       "      <td>126</td>\n",
       "      <td>176</td>\n",
       "      <td>387</td>\n",
       "      <td>285</td>\n",
       "    </tr>\n",
       "  </tbody>\n",
       "</table>\n",
       "<p>3929 rows × 8 columns</p>\n",
       "</div>"
      ],
      "text/plain": [
       "            filename  img_width  img_height        class  xmin  ymin  xmax  \\\n",
       "0     v01_002075.jpg        596         334      Grasper   201   171   256   \n",
       "1     v01_002250.jpg        596         334      Grasper   155   151   210   \n",
       "2     v01_002250.jpg        596         334      Grasper   423   154   487   \n",
       "3     v01_002425.jpg        596         334      Grasper   178   151   227   \n",
       "4     v01_004050.jpg        596         334      Grasper   240    79   315   \n",
       "...              ...        ...         ...          ...   ...   ...   ...   \n",
       "3924  v10_065125.jpg        578         324  SpecimenBag   327   197   444   \n",
       "3925  v10_065150.jpg        578         324  SpecimenBag   125   134   348   \n",
       "3926  v10_066100.jpg        578         324  SpecimenBag   106   111   341   \n",
       "3927  v10_066100.jpg        578         324      Grasper   163     7   338   \n",
       "3928  v10_066125.jpg        578         324  SpecimenBag   126   176   387   \n",
       "\n",
       "      ymax  \n",
       "0      191  \n",
       "1      174  \n",
       "2      287  \n",
       "3      174  \n",
       "4      142  \n",
       "...    ...  \n",
       "3924   294  \n",
       "3925   303  \n",
       "3926   216  \n",
       "3927    69  \n",
       "3928   285  \n",
       "\n",
       "[3929 rows x 8 columns]"
      ]
     },
     "execution_count": 58,
     "metadata": {},
     "output_type": "execute_result"
    }
   ],
   "source": [
    "os.chdir(annotations_folder)\n",
    "anno_list = []\n",
    "for xml_file in glob.glob(annotations_folder + '/*.xml'):\n",
    "    tree = ET.parse(xml_file)\n",
    "    root = tree.getroot()\n",
    "    for tool in root.findall('object'):\n",
    "        value = (root.find('filename').text,#filename\n",
    "                    int(root.find('size')[0].text),#image dimensions\n",
    "                    int(root.find('size')[1].text),\n",
    "                    tool[0].text,#class\n",
    "                    int(tool[4][0].text),#box coordinates\n",
    "                    int(tool[4][1].text),\n",
    "                    int(tool[4][2].text),\n",
    "                    int(tool[4][3].text)#box coordinates\n",
    "                    )\n",
    "        anno_list.append(value)\n",
    "\n",
    "\n",
    "column_name = ['filename', 'img_width', 'img_height', \n",
    "                'class', 'xmin', 'ymin', 'xmax', 'ymax']\n",
    "\n",
    "\n",
    "class_df = pd.DataFrame(anno_list, columns=column_name)\n",
    "class_df"
   ]
  },
  {
   "attachments": {},
   "cell_type": "markdown",
   "metadata": {},
   "source": [
    "Class instances are counted and source images are varified to match expected number."
   ]
  },
  {
   "cell_type": "code",
   "execution_count": 59,
   "metadata": {},
   "outputs": [
    {
     "name": "stdout",
     "output_type": "stream",
     "text": [
      "Grasper        1422\n",
      "Irrigator       485\n",
      "SpecimenBag     476\n",
      "Bipolar         450\n",
      "Clipper         400\n",
      "Scissors        388\n",
      "Hook            308\n",
      "Name: class, dtype: int64\n",
      "\n",
      "Unique source images: 2811\n"
     ]
    }
   ],
   "source": [
    "print(class_df[\"class\"].value_counts())\n",
    "print(\"\\nUnique source images: \" + str(class_df[\"filename\"].nunique()))"
   ]
  },
  {
   "attachments": {},
   "cell_type": "markdown",
   "metadata": {},
   "source": [
    "Showing the range of tool instances between all images. "
   ]
  },
  {
   "cell_type": "code",
   "execution_count": 60,
   "metadata": {},
   "outputs": [
    {
     "name": "stdout",
     "output_type": "stream",
     "text": [
      "filename\n",
      "v01_002075.jpg    1\n",
      "v08_002025.jpg    1\n",
      "v08_001850.jpg    1\n",
      "v08_001150.jpg    1\n",
      "v08_000975.jpg    1\n",
      "                 ..\n",
      "v03_109000.jpg    4\n",
      "v05_060025.jpg    4\n",
      "v05_060150.jpg    4\n",
      "v09_045200.jpg    4\n",
      "v03_108875.jpg    4\n",
      "Length: 2811, dtype: int64\n"
     ]
    }
   ],
   "source": [
    "df2 = class_df.pivot_table(columns=['filename'], aggfunc='size').copy()\n",
    "print(df2.sort_values())"
   ]
  },
  {
   "attachments": {},
   "cell_type": "markdown",
   "metadata": {},
   "source": [
    "Augmented images provided by original data set are removed. Remaining images were later moved to: m2cai16-tool-locations\\RawImages "
   ]
  },
  {
   "cell_type": "code",
   "execution_count": 61,
   "metadata": {},
   "outputs": [
    {
     "name": "stdout",
     "output_type": "stream",
     "text": [
      "0\n"
     ]
    }
   ],
   "source": [
    "total_flip = 0\n",
    "for image in glob.glob(original_folder + '/*flip.jpg'):\n",
    "    total_flip = total_flip + 1\n",
    "    #os.remove(image)\n",
    "\n",
    "print(total_flip)#Gives total number of flipped images."
   ]
  },
  {
   "attachments": {},
   "cell_type": "markdown",
   "metadata": {},
   "source": [
    "Applies OneHotEncoder() to all class labels are creates new column in class_df."
   ]
  },
  {
   "cell_type": "code",
   "execution_count": 62,
   "metadata": {},
   "outputs": [
    {
     "data": {
      "text/html": [
       "<div>\n",
       "<style scoped>\n",
       "    .dataframe tbody tr th:only-of-type {\n",
       "        vertical-align: middle;\n",
       "    }\n",
       "\n",
       "    .dataframe tbody tr th {\n",
       "        vertical-align: top;\n",
       "    }\n",
       "\n",
       "    .dataframe thead th {\n",
       "        text-align: right;\n",
       "    }\n",
       "</style>\n",
       "<table border=\"1\" class=\"dataframe\">\n",
       "  <thead>\n",
       "    <tr style=\"text-align: right;\">\n",
       "      <th></th>\n",
       "      <th>filename</th>\n",
       "      <th>img_width</th>\n",
       "      <th>img_height</th>\n",
       "      <th>class</th>\n",
       "      <th>xmin</th>\n",
       "      <th>ymin</th>\n",
       "      <th>xmax</th>\n",
       "      <th>ymax</th>\n",
       "      <th>Enc. Values</th>\n",
       "    </tr>\n",
       "  </thead>\n",
       "  <tbody>\n",
       "    <tr>\n",
       "      <th>0</th>\n",
       "      <td>v01_002075.jpg</td>\n",
       "      <td>596</td>\n",
       "      <td>334</td>\n",
       "      <td>Grasper</td>\n",
       "      <td>201</td>\n",
       "      <td>171</td>\n",
       "      <td>256</td>\n",
       "      <td>191</td>\n",
       "      <td>[0.0, 0.0, 1.0, 0.0, 0.0, 0.0, 0.0]</td>\n",
       "    </tr>\n",
       "    <tr>\n",
       "      <th>1</th>\n",
       "      <td>v01_002250.jpg</td>\n",
       "      <td>596</td>\n",
       "      <td>334</td>\n",
       "      <td>Grasper</td>\n",
       "      <td>155</td>\n",
       "      <td>151</td>\n",
       "      <td>210</td>\n",
       "      <td>174</td>\n",
       "      <td>[0.0, 0.0, 1.0, 0.0, 0.0, 0.0, 0.0]</td>\n",
       "    </tr>\n",
       "    <tr>\n",
       "      <th>2</th>\n",
       "      <td>v01_002250.jpg</td>\n",
       "      <td>596</td>\n",
       "      <td>334</td>\n",
       "      <td>Grasper</td>\n",
       "      <td>423</td>\n",
       "      <td>154</td>\n",
       "      <td>487</td>\n",
       "      <td>287</td>\n",
       "      <td>[0.0, 0.0, 1.0, 0.0, 0.0, 0.0, 0.0]</td>\n",
       "    </tr>\n",
       "    <tr>\n",
       "      <th>3</th>\n",
       "      <td>v01_002425.jpg</td>\n",
       "      <td>596</td>\n",
       "      <td>334</td>\n",
       "      <td>Grasper</td>\n",
       "      <td>178</td>\n",
       "      <td>151</td>\n",
       "      <td>227</td>\n",
       "      <td>174</td>\n",
       "      <td>[0.0, 0.0, 1.0, 0.0, 0.0, 0.0, 0.0]</td>\n",
       "    </tr>\n",
       "    <tr>\n",
       "      <th>4</th>\n",
       "      <td>v01_004050.jpg</td>\n",
       "      <td>596</td>\n",
       "      <td>334</td>\n",
       "      <td>Grasper</td>\n",
       "      <td>240</td>\n",
       "      <td>79</td>\n",
       "      <td>315</td>\n",
       "      <td>142</td>\n",
       "      <td>[0.0, 0.0, 1.0, 0.0, 0.0, 0.0, 0.0]</td>\n",
       "    </tr>\n",
       "    <tr>\n",
       "      <th>...</th>\n",
       "      <td>...</td>\n",
       "      <td>...</td>\n",
       "      <td>...</td>\n",
       "      <td>...</td>\n",
       "      <td>...</td>\n",
       "      <td>...</td>\n",
       "      <td>...</td>\n",
       "      <td>...</td>\n",
       "      <td>...</td>\n",
       "    </tr>\n",
       "    <tr>\n",
       "      <th>3924</th>\n",
       "      <td>v10_065125.jpg</td>\n",
       "      <td>578</td>\n",
       "      <td>324</td>\n",
       "      <td>SpecimenBag</td>\n",
       "      <td>327</td>\n",
       "      <td>197</td>\n",
       "      <td>444</td>\n",
       "      <td>294</td>\n",
       "      <td>[0.0, 0.0, 0.0, 0.0, 0.0, 0.0, 1.0]</td>\n",
       "    </tr>\n",
       "    <tr>\n",
       "      <th>3925</th>\n",
       "      <td>v10_065150.jpg</td>\n",
       "      <td>578</td>\n",
       "      <td>324</td>\n",
       "      <td>SpecimenBag</td>\n",
       "      <td>125</td>\n",
       "      <td>134</td>\n",
       "      <td>348</td>\n",
       "      <td>303</td>\n",
       "      <td>[0.0, 0.0, 0.0, 0.0, 0.0, 0.0, 1.0]</td>\n",
       "    </tr>\n",
       "    <tr>\n",
       "      <th>3926</th>\n",
       "      <td>v10_066100.jpg</td>\n",
       "      <td>578</td>\n",
       "      <td>324</td>\n",
       "      <td>SpecimenBag</td>\n",
       "      <td>106</td>\n",
       "      <td>111</td>\n",
       "      <td>341</td>\n",
       "      <td>216</td>\n",
       "      <td>[0.0, 0.0, 0.0, 0.0, 0.0, 0.0, 1.0]</td>\n",
       "    </tr>\n",
       "    <tr>\n",
       "      <th>3927</th>\n",
       "      <td>v10_066100.jpg</td>\n",
       "      <td>578</td>\n",
       "      <td>324</td>\n",
       "      <td>Grasper</td>\n",
       "      <td>163</td>\n",
       "      <td>7</td>\n",
       "      <td>338</td>\n",
       "      <td>69</td>\n",
       "      <td>[0.0, 0.0, 1.0, 0.0, 0.0, 0.0, 0.0]</td>\n",
       "    </tr>\n",
       "    <tr>\n",
       "      <th>3928</th>\n",
       "      <td>v10_066125.jpg</td>\n",
       "      <td>578</td>\n",
       "      <td>324</td>\n",
       "      <td>SpecimenBag</td>\n",
       "      <td>126</td>\n",
       "      <td>176</td>\n",
       "      <td>387</td>\n",
       "      <td>285</td>\n",
       "      <td>[0.0, 0.0, 0.0, 0.0, 0.0, 0.0, 1.0]</td>\n",
       "    </tr>\n",
       "  </tbody>\n",
       "</table>\n",
       "<p>3929 rows × 9 columns</p>\n",
       "</div>"
      ],
      "text/plain": [
       "            filename  img_width  img_height        class  xmin  ymin  xmax  \\\n",
       "0     v01_002075.jpg        596         334      Grasper   201   171   256   \n",
       "1     v01_002250.jpg        596         334      Grasper   155   151   210   \n",
       "2     v01_002250.jpg        596         334      Grasper   423   154   487   \n",
       "3     v01_002425.jpg        596         334      Grasper   178   151   227   \n",
       "4     v01_004050.jpg        596         334      Grasper   240    79   315   \n",
       "...              ...        ...         ...          ...   ...   ...   ...   \n",
       "3924  v10_065125.jpg        578         324  SpecimenBag   327   197   444   \n",
       "3925  v10_065150.jpg        578         324  SpecimenBag   125   134   348   \n",
       "3926  v10_066100.jpg        578         324  SpecimenBag   106   111   341   \n",
       "3927  v10_066100.jpg        578         324      Grasper   163     7   338   \n",
       "3928  v10_066125.jpg        578         324  SpecimenBag   126   176   387   \n",
       "\n",
       "      ymax                          Enc. Values  \n",
       "0      191  [0.0, 0.0, 1.0, 0.0, 0.0, 0.0, 0.0]  \n",
       "1      174  [0.0, 0.0, 1.0, 0.0, 0.0, 0.0, 0.0]  \n",
       "2      287  [0.0, 0.0, 1.0, 0.0, 0.0, 0.0, 0.0]  \n",
       "3      174  [0.0, 0.0, 1.0, 0.0, 0.0, 0.0, 0.0]  \n",
       "4      142  [0.0, 0.0, 1.0, 0.0, 0.0, 0.0, 0.0]  \n",
       "...    ...                                  ...  \n",
       "3924   294  [0.0, 0.0, 0.0, 0.0, 0.0, 0.0, 1.0]  \n",
       "3925   303  [0.0, 0.0, 0.0, 0.0, 0.0, 0.0, 1.0]  \n",
       "3926   216  [0.0, 0.0, 0.0, 0.0, 0.0, 0.0, 1.0]  \n",
       "3927    69  [0.0, 0.0, 1.0, 0.0, 0.0, 0.0, 0.0]  \n",
       "3928   285  [0.0, 0.0, 0.0, 0.0, 0.0, 0.0, 1.0]  \n",
       "\n",
       "[3929 rows x 9 columns]"
      ]
     },
     "execution_count": 62,
     "metadata": {},
     "output_type": "execute_result"
    }
   ],
   "source": [
    "enc = OneHotEncoder()\n",
    "\n",
    "enc.fit(class_df['class'].values.reshape(-1,1))\n",
    "encoded_classes = np.asarray(enc.transform(class_df['class'].values.reshape(-1,1)).toarray())\n",
    "encoded_classes = encoded_classes.tolist()\n",
    "\n",
    "class_df['Enc. Values'] = encoded_classes\n",
    "class_df"
   ]
  },
  {
   "attachments": {},
   "cell_type": "markdown",
   "metadata": {},
   "source": [
    "Multi-labels created through elementwise addition on Enc. Values for rows that share the same filename in class_df."
   ]
  },
  {
   "cell_type": "code",
   "execution_count": 63,
   "metadata": {},
   "outputs": [
    {
     "data": {
      "text/html": [
       "<div>\n",
       "<style scoped>\n",
       "    .dataframe tbody tr th:only-of-type {\n",
       "        vertical-align: middle;\n",
       "    }\n",
       "\n",
       "    .dataframe tbody tr th {\n",
       "        vertical-align: top;\n",
       "    }\n",
       "\n",
       "    .dataframe thead th {\n",
       "        text-align: right;\n",
       "    }\n",
       "</style>\n",
       "<table border=\"1\" class=\"dataframe\">\n",
       "  <thead>\n",
       "    <tr style=\"text-align: right;\">\n",
       "      <th></th>\n",
       "      <th>Filename</th>\n",
       "      <th>Multi_label</th>\n",
       "    </tr>\n",
       "  </thead>\n",
       "  <tbody>\n",
       "    <tr>\n",
       "      <th>0</th>\n",
       "      <td>v01_002075.jpg</td>\n",
       "      <td>[0.0, 0.0, 1.0, 0.0, 0.0, 0.0, 0.0]</td>\n",
       "    </tr>\n",
       "    <tr>\n",
       "      <th>1</th>\n",
       "      <td>v01_002250.jpg</td>\n",
       "      <td>[0.0, 0.0, 2.0, 0.0, 0.0, 0.0, 0.0]</td>\n",
       "    </tr>\n",
       "    <tr>\n",
       "      <th>2</th>\n",
       "      <td>v01_002425.jpg</td>\n",
       "      <td>[0.0, 0.0, 1.0, 0.0, 0.0, 0.0, 0.0]</td>\n",
       "    </tr>\n",
       "    <tr>\n",
       "      <th>3</th>\n",
       "      <td>v01_004050.jpg</td>\n",
       "      <td>[0.0, 0.0, 1.0, 0.0, 0.0, 0.0, 0.0]</td>\n",
       "    </tr>\n",
       "    <tr>\n",
       "      <th>4</th>\n",
       "      <td>v01_004225.jpg</td>\n",
       "      <td>[0.0, 0.0, 1.0, 0.0, 0.0, 0.0, 0.0]</td>\n",
       "    </tr>\n",
       "    <tr>\n",
       "      <th>...</th>\n",
       "      <td>...</td>\n",
       "      <td>...</td>\n",
       "    </tr>\n",
       "    <tr>\n",
       "      <th>2806</th>\n",
       "      <td>v10_065025.jpg</td>\n",
       "      <td>[0.0, 0.0, 1.0, 0.0, 0.0, 0.0, 1.0]</td>\n",
       "    </tr>\n",
       "    <tr>\n",
       "      <th>2807</th>\n",
       "      <td>v10_065125.jpg</td>\n",
       "      <td>[0.0, 0.0, 0.0, 0.0, 0.0, 0.0, 1.0]</td>\n",
       "    </tr>\n",
       "    <tr>\n",
       "      <th>2808</th>\n",
       "      <td>v10_065150.jpg</td>\n",
       "      <td>[0.0, 0.0, 0.0, 0.0, 0.0, 0.0, 1.0]</td>\n",
       "    </tr>\n",
       "    <tr>\n",
       "      <th>2809</th>\n",
       "      <td>v10_066100.jpg</td>\n",
       "      <td>[0.0, 0.0, 1.0, 0.0, 0.0, 0.0, 1.0]</td>\n",
       "    </tr>\n",
       "    <tr>\n",
       "      <th>2810</th>\n",
       "      <td>v10_066125.jpg</td>\n",
       "      <td>[0.0, 0.0, 0.0, 0.0, 0.0, 0.0, 1.0]</td>\n",
       "    </tr>\n",
       "  </tbody>\n",
       "</table>\n",
       "<p>2811 rows × 2 columns</p>\n",
       "</div>"
      ],
      "text/plain": [
       "            Filename                          Multi_label\n",
       "0     v01_002075.jpg  [0.0, 0.0, 1.0, 0.0, 0.0, 0.0, 0.0]\n",
       "1     v01_002250.jpg  [0.0, 0.0, 2.0, 0.0, 0.0, 0.0, 0.0]\n",
       "2     v01_002425.jpg  [0.0, 0.0, 1.0, 0.0, 0.0, 0.0, 0.0]\n",
       "3     v01_004050.jpg  [0.0, 0.0, 1.0, 0.0, 0.0, 0.0, 0.0]\n",
       "4     v01_004225.jpg  [0.0, 0.0, 1.0, 0.0, 0.0, 0.0, 0.0]\n",
       "...              ...                                  ...\n",
       "2806  v10_065025.jpg  [0.0, 0.0, 1.0, 0.0, 0.0, 0.0, 1.0]\n",
       "2807  v10_065125.jpg  [0.0, 0.0, 0.0, 0.0, 0.0, 0.0, 1.0]\n",
       "2808  v10_065150.jpg  [0.0, 0.0, 0.0, 0.0, 0.0, 0.0, 1.0]\n",
       "2809  v10_066100.jpg  [0.0, 0.0, 1.0, 0.0, 0.0, 0.0, 1.0]\n",
       "2810  v10_066125.jpg  [0.0, 0.0, 0.0, 0.0, 0.0, 0.0, 1.0]\n",
       "\n",
       "[2811 rows x 2 columns]"
      ]
     },
     "execution_count": 63,
     "metadata": {},
     "output_type": "execute_result"
    }
   ],
   "source": [
    "original_df = pd.DataFrame(columns = ['Filename', 'Multi_label'])\n",
    "filename = \"\"\n",
    "multilabel = []\n",
    "label_list = []\n",
    "filename_list = []\n",
    "for index,row in class_df.iterrows():\n",
    "    if filename == row[\"filename\"] or index == 0:\n",
    "        if len(multilabel):\n",
    "            multilabel = [multilabel[0] + row['Enc. Values'][0], multilabel[1] + row['Enc. Values'][1], multilabel[2] + row['Enc. Values'][2],\n",
    "                          multilabel[3] + row['Enc. Values'][3], multilabel[4] + row['Enc. Values'][4], multilabel[5] + row['Enc. Values'][5],\n",
    "                          multilabel[6] + row['Enc. Values'][6]]\n",
    "        else:\n",
    "            multilabel = row['Enc. Values']\n",
    "    else:\n",
    "        filename_list.append(filename)\n",
    "        label_list.append(multilabel)\n",
    "        multilabel = row['Enc. Values']\n",
    "    filename = row[\"filename\"]\n",
    "filename_list.append(filename)\n",
    "label_list.append(multilabel)\n",
    "original_df['Filename'] = filename_list\n",
    "original_df['Multi_label'] = label_list\n",
    "original_df"
   ]
  },
  {
   "cell_type": "code",
   "execution_count": 64,
   "metadata": {},
   "outputs": [
    {
     "data": {
      "text/html": [
       "<div>\n",
       "<style scoped>\n",
       "    .dataframe tbody tr th:only-of-type {\n",
       "        vertical-align: middle;\n",
       "    }\n",
       "\n",
       "    .dataframe tbody tr th {\n",
       "        vertical-align: top;\n",
       "    }\n",
       "\n",
       "    .dataframe thead th {\n",
       "        text-align: right;\n",
       "    }\n",
       "</style>\n",
       "<table border=\"1\" class=\"dataframe\">\n",
       "  <thead>\n",
       "    <tr style=\"text-align: right;\">\n",
       "      <th></th>\n",
       "      <th>filename</th>\n",
       "      <th>img_width</th>\n",
       "      <th>img_height</th>\n",
       "      <th>class</th>\n",
       "      <th>xmin</th>\n",
       "      <th>ymin</th>\n",
       "      <th>xmax</th>\n",
       "      <th>ymax</th>\n",
       "      <th>Enc. Values</th>\n",
       "      <th>Cropped File</th>\n",
       "    </tr>\n",
       "  </thead>\n",
       "  <tbody>\n",
       "    <tr>\n",
       "      <th>0</th>\n",
       "      <td>v01_002075.jpg</td>\n",
       "      <td>596</td>\n",
       "      <td>334</td>\n",
       "      <td>Grasper</td>\n",
       "      <td>201</td>\n",
       "      <td>171</td>\n",
       "      <td>256</td>\n",
       "      <td>191</td>\n",
       "      <td>[0.0, 0.0, 1.0, 0.0, 0.0, 0.0, 0.0]</td>\n",
       "      <td>v01_0020750.jpg</td>\n",
       "    </tr>\n",
       "    <tr>\n",
       "      <th>1</th>\n",
       "      <td>v01_002250.jpg</td>\n",
       "      <td>596</td>\n",
       "      <td>334</td>\n",
       "      <td>Grasper</td>\n",
       "      <td>155</td>\n",
       "      <td>151</td>\n",
       "      <td>210</td>\n",
       "      <td>174</td>\n",
       "      <td>[0.0, 0.0, 1.0, 0.0, 0.0, 0.0, 0.0]</td>\n",
       "      <td>v01_0022500.jpg</td>\n",
       "    </tr>\n",
       "    <tr>\n",
       "      <th>2</th>\n",
       "      <td>v01_002250.jpg</td>\n",
       "      <td>596</td>\n",
       "      <td>334</td>\n",
       "      <td>Grasper</td>\n",
       "      <td>423</td>\n",
       "      <td>154</td>\n",
       "      <td>487</td>\n",
       "      <td>287</td>\n",
       "      <td>[0.0, 0.0, 1.0, 0.0, 0.0, 0.0, 0.0]</td>\n",
       "      <td>v01_0022501.jpg</td>\n",
       "    </tr>\n",
       "    <tr>\n",
       "      <th>3</th>\n",
       "      <td>v01_002425.jpg</td>\n",
       "      <td>596</td>\n",
       "      <td>334</td>\n",
       "      <td>Grasper</td>\n",
       "      <td>178</td>\n",
       "      <td>151</td>\n",
       "      <td>227</td>\n",
       "      <td>174</td>\n",
       "      <td>[0.0, 0.0, 1.0, 0.0, 0.0, 0.0, 0.0]</td>\n",
       "      <td>v01_0024250.jpg</td>\n",
       "    </tr>\n",
       "    <tr>\n",
       "      <th>4</th>\n",
       "      <td>v01_004050.jpg</td>\n",
       "      <td>596</td>\n",
       "      <td>334</td>\n",
       "      <td>Grasper</td>\n",
       "      <td>240</td>\n",
       "      <td>79</td>\n",
       "      <td>315</td>\n",
       "      <td>142</td>\n",
       "      <td>[0.0, 0.0, 1.0, 0.0, 0.0, 0.0, 0.0]</td>\n",
       "      <td>v01_0040500.jpg</td>\n",
       "    </tr>\n",
       "    <tr>\n",
       "      <th>...</th>\n",
       "      <td>...</td>\n",
       "      <td>...</td>\n",
       "      <td>...</td>\n",
       "      <td>...</td>\n",
       "      <td>...</td>\n",
       "      <td>...</td>\n",
       "      <td>...</td>\n",
       "      <td>...</td>\n",
       "      <td>...</td>\n",
       "      <td>...</td>\n",
       "    </tr>\n",
       "    <tr>\n",
       "      <th>3924</th>\n",
       "      <td>v10_065125.jpg</td>\n",
       "      <td>578</td>\n",
       "      <td>324</td>\n",
       "      <td>SpecimenBag</td>\n",
       "      <td>327</td>\n",
       "      <td>197</td>\n",
       "      <td>444</td>\n",
       "      <td>294</td>\n",
       "      <td>[0.0, 0.0, 0.0, 0.0, 0.0, 0.0, 1.0]</td>\n",
       "      <td>v10_0651250.jpg</td>\n",
       "    </tr>\n",
       "    <tr>\n",
       "      <th>3925</th>\n",
       "      <td>v10_065150.jpg</td>\n",
       "      <td>578</td>\n",
       "      <td>324</td>\n",
       "      <td>SpecimenBag</td>\n",
       "      <td>125</td>\n",
       "      <td>134</td>\n",
       "      <td>348</td>\n",
       "      <td>303</td>\n",
       "      <td>[0.0, 0.0, 0.0, 0.0, 0.0, 0.0, 1.0]</td>\n",
       "      <td>v10_0651500.jpg</td>\n",
       "    </tr>\n",
       "    <tr>\n",
       "      <th>3926</th>\n",
       "      <td>v10_066100.jpg</td>\n",
       "      <td>578</td>\n",
       "      <td>324</td>\n",
       "      <td>SpecimenBag</td>\n",
       "      <td>106</td>\n",
       "      <td>111</td>\n",
       "      <td>341</td>\n",
       "      <td>216</td>\n",
       "      <td>[0.0, 0.0, 0.0, 0.0, 0.0, 0.0, 1.0]</td>\n",
       "      <td>v10_0661000.jpg</td>\n",
       "    </tr>\n",
       "    <tr>\n",
       "      <th>3927</th>\n",
       "      <td>v10_066100.jpg</td>\n",
       "      <td>578</td>\n",
       "      <td>324</td>\n",
       "      <td>Grasper</td>\n",
       "      <td>163</td>\n",
       "      <td>7</td>\n",
       "      <td>338</td>\n",
       "      <td>69</td>\n",
       "      <td>[0.0, 0.0, 1.0, 0.0, 0.0, 0.0, 0.0]</td>\n",
       "      <td>v10_0661001.jpg</td>\n",
       "    </tr>\n",
       "    <tr>\n",
       "      <th>3928</th>\n",
       "      <td>v10_066125.jpg</td>\n",
       "      <td>578</td>\n",
       "      <td>324</td>\n",
       "      <td>SpecimenBag</td>\n",
       "      <td>126</td>\n",
       "      <td>176</td>\n",
       "      <td>387</td>\n",
       "      <td>285</td>\n",
       "      <td>[0.0, 0.0, 0.0, 0.0, 0.0, 0.0, 1.0]</td>\n",
       "      <td>v10_0661250.jpg</td>\n",
       "    </tr>\n",
       "  </tbody>\n",
       "</table>\n",
       "<p>3929 rows × 10 columns</p>\n",
       "</div>"
      ],
      "text/plain": [
       "            filename  img_width  img_height        class  xmin  ymin  xmax  \\\n",
       "0     v01_002075.jpg        596         334      Grasper   201   171   256   \n",
       "1     v01_002250.jpg        596         334      Grasper   155   151   210   \n",
       "2     v01_002250.jpg        596         334      Grasper   423   154   487   \n",
       "3     v01_002425.jpg        596         334      Grasper   178   151   227   \n",
       "4     v01_004050.jpg        596         334      Grasper   240    79   315   \n",
       "...              ...        ...         ...          ...   ...   ...   ...   \n",
       "3924  v10_065125.jpg        578         324  SpecimenBag   327   197   444   \n",
       "3925  v10_065150.jpg        578         324  SpecimenBag   125   134   348   \n",
       "3926  v10_066100.jpg        578         324  SpecimenBag   106   111   341   \n",
       "3927  v10_066100.jpg        578         324      Grasper   163     7   338   \n",
       "3928  v10_066125.jpg        578         324  SpecimenBag   126   176   387   \n",
       "\n",
       "      ymax                          Enc. Values     Cropped File  \n",
       "0      191  [0.0, 0.0, 1.0, 0.0, 0.0, 0.0, 0.0]  v01_0020750.jpg  \n",
       "1      174  [0.0, 0.0, 1.0, 0.0, 0.0, 0.0, 0.0]  v01_0022500.jpg  \n",
       "2      287  [0.0, 0.0, 1.0, 0.0, 0.0, 0.0, 0.0]  v01_0022501.jpg  \n",
       "3      174  [0.0, 0.0, 1.0, 0.0, 0.0, 0.0, 0.0]  v01_0024250.jpg  \n",
       "4      142  [0.0, 0.0, 1.0, 0.0, 0.0, 0.0, 0.0]  v01_0040500.jpg  \n",
       "...    ...                                  ...              ...  \n",
       "3924   294  [0.0, 0.0, 0.0, 0.0, 0.0, 0.0, 1.0]  v10_0651250.jpg  \n",
       "3925   303  [0.0, 0.0, 0.0, 0.0, 0.0, 0.0, 1.0]  v10_0651500.jpg  \n",
       "3926   216  [0.0, 0.0, 0.0, 0.0, 0.0, 0.0, 1.0]  v10_0661000.jpg  \n",
       "3927    69  [0.0, 0.0, 1.0, 0.0, 0.0, 0.0, 0.0]  v10_0661001.jpg  \n",
       "3928   285  [0.0, 0.0, 0.0, 0.0, 0.0, 0.0, 1.0]  v10_0661250.jpg  \n",
       "\n",
       "[3929 rows x 10 columns]"
      ]
     },
     "execution_count": 64,
     "metadata": {},
     "output_type": "execute_result"
    }
   ],
   "source": [
    "#Collection of cropped image names for each class, later used for augmentation\n",
    "graspList = []\n",
    "spec_bag_list = []\n",
    "bipolar_list = []\n",
    "clipper_list = []\n",
    "scissors_list = []\n",
    "hook_list = []\n",
    "irrigator_list = []\n",
    "\n",
    "newFileList = []\n",
    "img_counter = 0\n",
    "filename = \"\"\n",
    "\n",
    "for index,row in class_df.iterrows():\n",
    "    os.chdir(raw_folder)\n",
    "    img = Image.open(row[\"filename\"])\n",
    "    img_crop = img.crop((row[\"xmin\"], row[\"ymin\"], row[\"xmax\"], row[\"ymax\"]))\n",
    "    if filename == row[\"filename\"]:\n",
    "        img_counter = img_counter + 1\n",
    "    else:\n",
    "        img_counter = 0\n",
    "    filename = row[\"filename\"]\n",
    "    newfilename = filename[:-4] + str(img_counter) + \".jpg\"\n",
    "    os.chdir(cropped_folder)\n",
    "    newFileList.append(newfilename)\n",
    "    #img_crop.save(newfilename)]\n",
    "\n",
    "    if (row[\"class\"] == \"Grasper\"):\n",
    "        graspList.append(newfilename)\n",
    "    elif (row[\"class\"] == \"SpecimenBag\"):\n",
    "        spec_bag_list.append(newfilename)\n",
    "    elif (row[\"class\"] == \"Bipolar\"):\n",
    "        bipolar_list.append(newfilename)\n",
    "    elif (row[\"class\"] == \"Clipper\"):\n",
    "        clipper_list.append(newfilename)\n",
    "    elif (row[\"class\"] == \"Scissors\"):\n",
    "        scissors_list.append(newfilename)\n",
    "    elif (row[\"class\"] == \"Hook\"):\n",
    "        hook_list.append(newfilename)\n",
    "    elif (row[\"class\"] == \"Irrigator\"):\n",
    "        irrigator_list.append(newfilename)\n",
    "\n",
    "class_df[\"Cropped File\"] = newFileList    \n",
    "class_df"
   ]
  },
  {
   "attachments": {},
   "cell_type": "markdown",
   "metadata": {},
   "source": [
    "Varifiying the contents of class lists"
   ]
  },
  {
   "cell_type": "code",
   "execution_count": 11,
   "metadata": {},
   "outputs": [
    {
     "name": "stdout",
     "output_type": "stream",
     "text": [
      "['v01_0020750.jpg', 'v01_0022500.jpg', 'v01_0022501.jpg', 'v01_0024250.jpg', 'v01_0040500.jpg', 'v01_0042250.jpg', 'v01_0044500.jpg', 'v01_0046250.jpg', 'v01_0048000.jpg', 'v01_0048001.jpg', 'v01_0071250.jpg', 'v01_0071251.jpg', 'v01_0201500.jpg', 'v01_0201501.jpg', 'v01_0251501.jpg', 'v01_0252750.jpg', 'v01_0254500.jpg', 'v01_0254501.jpg', 'v01_0256250.jpg', 'v01_0258000.jpg', 'v01_0259750.jpg', 'v01_0264001.jpg', 'v01_0264501.jpg', 'v01_0269251.jpg', 'v01_0273750.jpg', 'v01_0275501.jpg', 'v01_0275502.jpg', 'v01_0275751.jpg', 'v01_0275752.jpg', 'v01_0276000.jpg', 'v01_0276001.jpg', 'v01_0276251.jpg', 'v01_0276252.jpg', 'v01_0276501.jpg', 'v01_0276502.jpg', 'v01_0276750.jpg', 'v01_0276751.jpg', 'v01_0277001.jpg', 'v01_0277002.jpg', 'v01_0277251.jpg', 'v01_0277252.jpg', 'v01_0277500.jpg', 'v01_0277501.jpg', 'v01_0277751.jpg', 'v01_0277752.jpg', 'v01_0278001.jpg', 'v01_0278002.jpg', 'v01_0278250.jpg', 'v01_0278251.jpg', 'v01_0278501.jpg', 'v01_0278502.jpg', 'v01_0278751.jpg', 'v01_0278752.jpg', 'v01_0279000.jpg', 'v01_0279001.jpg', 'v01_0279251.jpg', 'v01_0279252.jpg', 'v01_0279501.jpg', 'v01_0279502.jpg', 'v01_0279750.jpg', 'v01_0279751.jpg', 'v01_0280001.jpg', 'v01_0280002.jpg', 'v01_0280251.jpg', 'v01_0280252.jpg', 'v01_0280500.jpg', 'v01_0280501.jpg', 'v01_0280751.jpg', 'v01_0280752.jpg', 'v01_0281001.jpg', 'v01_0281002.jpg', 'v01_0281250.jpg', 'v01_0281251.jpg', 'v01_0281501.jpg', 'v01_0281502.jpg', 'v01_0281751.jpg', 'v01_0281752.jpg', 'v01_0282000.jpg', 'v01_0282001.jpg', 'v01_0282251.jpg', 'v01_0282252.jpg', 'v01_0282501.jpg', 'v01_0282502.jpg', 'v01_0282750.jpg', 'v01_0282751.jpg', 'v01_0283001.jpg', 'v01_0283002.jpg', 'v01_0283251.jpg', 'v01_0283252.jpg', 'v01_0283500.jpg', 'v01_0283501.jpg', 'v01_0283751.jpg', 'v01_0283752.jpg', 'v01_0284001.jpg', 'v01_0284002.jpg', 'v01_0284250.jpg', 'v01_0284251.jpg', 'v01_0284501.jpg', 'v01_0284502.jpg', 'v01_0284751.jpg', 'v01_0284752.jpg', 'v01_0285000.jpg', 'v01_0285001.jpg', 'v01_0285251.jpg', 'v01_0285252.jpg', 'v01_0285501.jpg', 'v01_0285502.jpg', 'v01_0285750.jpg', 'v01_0285751.jpg', 'v01_0286001.jpg', 'v01_0286002.jpg', 'v01_0286251.jpg', 'v01_0286252.jpg', 'v01_0286500.jpg', 'v01_0286501.jpg', 'v01_0286751.jpg', 'v01_0286752.jpg', 'v01_0287250.jpg', 'v01_0287251.jpg', 'v01_0287501.jpg', 'v01_0287502.jpg', 'v01_0287751.jpg', 'v01_0287752.jpg', 'v01_0288000.jpg', 'v01_0289750.jpg', 'v01_0291500.jpg', 'v01_0291501.jpg', 'v01_0293250.jpg', 'v01_0293251.jpg', 'v01_0295000.jpg', 'v01_0296750.jpg', 'v01_0296751.jpg', 'v01_0299500.jpg', 'v01_0305750.jpg', 'v01_0353250.jpg', 'v01_0363000.jpg', 'v01_0363001.jpg', 'v01_0365500.jpg', 'v01_0365501.jpg', 'v01_0367250.jpg', 'v01_0369000.jpg', 'v01_0369001.jpg', 'v01_0370750.jpg', 'v01_0463500.jpg', 'v01_0523000.jpg', 'v01_0524750.jpg', 'v01_0529750.jpg', 'v01_0531500.jpg', 'v01_0533250.jpg', 'v01_0533251.jpg', 'v01_0538501.jpg', 'v01_0539751.jpg', 'v01_0539752.jpg', 'v01_0539753.jpg', 'v01_0541001.jpg', 'v01_0541002.jpg', 'v01_0542251.jpg', 'v01_0542252.jpg', 'v01_0543501.jpg', 'v01_0543502.jpg', 'v01_0544751.jpg', 'v01_0544752.jpg', 'v01_0546001.jpg', 'v01_0546002.jpg', 'v01_0546003.jpg', 'v01_0547251.jpg', 'v01_0547252.jpg', 'v01_0547253.jpg', 'v01_0548501.jpg', 'v01_0548502.jpg', 'v01_0549751.jpg', 'v01_0551001.jpg', 'v01_0551002.jpg', 'v01_0552251.jpg', 'v01_0552252.jpg', 'v01_0553501.jpg', 'v01_0554751.jpg', 'v01_0556001.jpg', 'v01_0556251.jpg', 'v01_0556252.jpg', 'v01_0557501.jpg', 'v01_0557751.jpg', 'v01_0559001.jpg', 'v01_0559251.jpg', 'v01_0559252.jpg', 'v01_0563751.jpg', 'v01_0565001.jpg', 'v01_0566501.jpg', 'v01_0574000.jpg', 'v02_0004000.jpg', 'v02_0004001.jpg', 'v02_0004002.jpg', 'v02_0005750.jpg', 'v02_0005751.jpg', 'v02_0005752.jpg', 'v02_0008250.jpg', 'v02_0010000.jpg', 'v02_0011750.jpg', 'v02_0013500.jpg', 'v02_0015250.jpg', 'v02_0015251.jpg', 'v02_0017000.jpg', 'v02_0017001.jpg', 'v02_0017002.jpg', 'v02_0018750.jpg', 'v02_0018751.jpg', 'v02_0018752.jpg', 'v02_0020500.jpg', 'v02_0020501.jpg', 'v02_0022250.jpg', 'v02_0024000.jpg', 'v02_0024001.jpg', 'v02_0025750.jpg', 'v02_0025751.jpg', 'v02_0039000.jpg', 'v02_0039001.jpg', 'v02_0071500.jpg', 'v02_0073750.jpg', 'v02_0075751.jpg', 'v02_0077001.jpg', 'v02_0077251.jpg', 'v02_0078501.jpg', 'v02_0079251.jpg', 'v02_0080001.jpg', 'v02_0081001.jpg', 'v02_0082500.jpg', 'v02_0084250.jpg', 'v02_0117500.jpg', 'v02_0120001.jpg', 'v02_0121501.jpg', 'v02_0121751.jpg', 'v02_0122751.jpg', 'v02_0123501.jpg', 'v02_0124251.jpg', 'v02_0124751.jpg', 'v02_0125251.jpg', 'v02_0125501.jpg', 'v02_0130750.jpg', 'v02_0132500.jpg', 'v02_0187750.jpg', 'v02_0187751.jpg', 'v02_0232751.jpg', 'v02_0233501.jpg', 'v02_0233751.jpg', 'v02_0234251.jpg', 'v02_0235001.jpg', 'v02_0235501.jpg', 'v02_0236001.jpg', 'v02_0236251.jpg', 'v02_0236501.jpg', 'v02_0265750.jpg', 'v02_0266000.jpg', 'v02_0387000.jpg', 'v02_0387001.jpg', 'v02_0408001.jpg', 'v02_0408251.jpg', 'v02_0409501.jpg', 'v02_0409751.jpg', 'v02_0411001.jpg', 'v02_0411002.jpg', 'v02_0412501.jpg', 'v02_0412502.jpg', 'v02_0413751.jpg', 'v02_0413752.jpg', 'v02_0413753.jpg', 'v02_0415001.jpg', 'v02_0416251.jpg', 'v02_0416252.jpg', 'v02_0417501.jpg', 'v02_0417502.jpg', 'v02_0418751.jpg', 'v02_0418752.jpg', 'v02_0420001.jpg', 'v02_0420002.jpg', 'v02_0421251.jpg', 'v02_0424501.jpg', 'v02_0424502.jpg', 'v02_0433500.jpg', 'v02_0433501.jpg', 'v02_0434001.jpg', 'v02_0436750.jpg', 'v02_0439001.jpg', 'v02_0439500.jpg', 'v02_0439501.jpg', 'v02_0440501.jpg', 'v02_0440751.jpg', 'v02_0441001.jpg', 'v02_0441501.jpg', 'v02_0441751.jpg', 'v02_0442751.jpg', 'v02_0444750.jpg', 'v02_0447001.jpg', 'v02_0447251.jpg', 'v02_0448501.jpg', 'v02_0449751.jpg', 'v02_0450250.jpg', 'v02_0450751.jpg', 'v02_0451001.jpg', 'v02_0451251.jpg', 'v02_0454251.jpg', 'v02_0487501.jpg', 'v02_0487750.jpg', 'v03_0002750.jpg', 'v03_0002751.jpg', 'v03_0004500.jpg', 'v03_0004501.jpg', 'v03_0006250.jpg', 'v03_0008000.jpg', 'v03_0008001.jpg', 'v03_0009750.jpg', 'v03_0011500.jpg', 'v03_0011501.jpg', 'v03_0013250.jpg', 'v03_0013251.jpg', 'v03_0015000.jpg', 'v03_0016750.jpg', 'v03_0016751.jpg', 'v03_0023500.jpg', 'v03_0238750.jpg', 'v03_0429500.jpg', 'v03_0431250.jpg', 'v03_0433000.jpg', 'v03_0434750.jpg', 'v03_0436500.jpg', 'v03_0438750.jpg', 'v03_0440001.jpg', 'v03_0440751.jpg', 'v03_0441501.jpg', 'v03_0441751.jpg', 'v03_0442501.jpg', 'v03_0443001.jpg', 'v03_0443501.jpg', 'v03_0443751.jpg', 'v03_0444001.jpg', 'v03_0444751.jpg', 'v03_0445251.jpg', 'v03_0447751.jpg', 'v03_0448251.jpg', 'v03_0449251.jpg', 'v03_0449501.jpg', 'v03_0449751.jpg', 'v03_0450251.jpg', 'v03_0450751.jpg', 'v03_0451251.jpg', 'v03_0452001.jpg', 'v03_0452251.jpg', 'v03_0452751.jpg', 'v03_0453251.jpg', 'v03_0453751.jpg', 'v03_0454501.jpg', 'v03_0454751.jpg', 'v03_0455251.jpg', 'v03_0457251.jpg', 'v03_0457751.jpg', 'v03_0458251.jpg', 'v03_0458501.jpg', 'v03_0459251.jpg', 'v03_0459751.jpg', 'v03_0460251.jpg', 'v03_0466001.jpg', 'v03_0466501.jpg', 'v03_0467251.jpg', 'v03_0467751.jpg', 'v03_0468251.jpg', 'v03_0468751.jpg', 'v03_0470251.jpg', 'v03_0470501.jpg', 'v03_0480000.jpg', 'v03_0506751.jpg', 'v03_0511251.jpg', 'v03_0511751.jpg', 'v03_0512251.jpg', 'v03_0513001.jpg', 'v03_0514000.jpg', 'v03_0515750.jpg', 'v03_0518500.jpg', 'v03_0518750.jpg', 'v03_0519000.jpg', 'v03_0519250.jpg', 'v03_0519500.jpg', 'v03_0519750.jpg', 'v03_0520000.jpg', 'v03_0525750.jpg', 'v03_0526000.jpg', 'v03_0526250.jpg', 'v03_0526500.jpg', 'v03_0528250.jpg', 'v03_0528500.jpg', 'v03_0528750.jpg', 'v03_0544000.jpg', 'v03_0544250.jpg', 'v03_0544500.jpg', 'v03_0544750.jpg', 'v03_0545500.jpg', 'v03_0545750.jpg', 'v03_0546000.jpg', 'v03_0546250.jpg', 'v03_0546500.jpg', 'v03_0551750.jpg', 'v03_0551751.jpg', 'v03_0552000.jpg', 'v03_0552001.jpg', 'v03_0552250.jpg', 'v03_0552251.jpg', 'v03_0552500.jpg', 'v03_0552501.jpg', 'v03_0552750.jpg', 'v03_0552751.jpg', 'v03_0553000.jpg', 'v03_0553001.jpg', 'v03_0553250.jpg', 'v03_0553251.jpg', 'v03_0553500.jpg', 'v03_0553501.jpg', 'v03_0553750.jpg', 'v03_0553751.jpg', 'v03_0554000.jpg', 'v03_0554001.jpg', 'v03_0554250.jpg', 'v03_0554251.jpg', 'v03_0554500.jpg', 'v03_0554501.jpg', 'v03_0554750.jpg', 'v03_0554751.jpg', 'v03_0555000.jpg', 'v03_0555001.jpg', 'v03_0560500.jpg', 'v03_0562250.jpg', 'v03_0562500.jpg', 'v03_0562750.jpg', 'v03_0563000.jpg', 'v03_0563250.jpg', 'v03_0563500.jpg', 'v03_0568750.jpg', 'v03_0570500.jpg', 'v03_0704000.jpg', 'v03_0705750.jpg', 'v03_0778000.jpg', 'v03_0789000.jpg', 'v03_0789001.jpg', 'v03_0790750.jpg', 'v03_0790751.jpg', 'v03_0834000.jpg', 'v03_0929500.jpg', 'v03_0934750.jpg', 'v03_0982750.jpg', 'v03_0989250.jpg', 'v03_0991000.jpg', 'v03_1003750.jpg', 'v03_1005500.jpg', 'v03_1069001.jpg', 'v03_1069251.jpg', 'v03_1069252.jpg', 'v03_1070501.jpg', 'v03_1070751.jpg', 'v03_1072001.jpg', 'v03_1072251.jpg', 'v03_1072252.jpg', 'v03_1072253.jpg', 'v03_1073501.jpg', 'v03_1073751.jpg', 'v03_1073752.jpg', 'v03_1074751.jpg', 'v03_1075251.jpg', 'v03_1075252.jpg', 'v03_1076251.jpg', 'v03_1076751.jpg', 'v03_1076752.jpg', 'v03_1078001.jpg', 'v03_1079251.jpg', 'v03_1079501.jpg', 'v03_1079502.jpg', 'v03_1080751.jpg', 'v03_1080752.jpg', 'v03_1082001.jpg', 'v03_1082002.jpg', 'v03_1083251.jpg', 'v03_1083252.jpg', 'v03_1084501.jpg', 'v03_1084502.jpg', 'v03_1085001.jpg', 'v03_1086001.jpg', 'v03_1086002.jpg', 'v03_1086501.jpg', 'v03_1087501.jpg', 'v03_1087502.jpg', 'v03_1088751.jpg', 'v03_1088752.jpg', 'v03_1088753.jpg', 'v03_1090001.jpg', 'v03_1090002.jpg', 'v03_1090003.jpg', 'v03_1091251.jpg', 'v03_1091252.jpg', 'v03_1092501.jpg', 'v03_1092502.jpg', 'v03_1093751.jpg', 'v03_1093752.jpg', 'v03_1095001.jpg', 'v03_1095002.jpg', 'v03_1095003.jpg', 'v03_1096251.jpg', 'v03_1096252.jpg', 'v03_1097501.jpg', 'v03_1097502.jpg', 'v03_1098751.jpg', 'v03_1098752.jpg', 'v03_1099501.jpg', 'v03_1100501.jpg', 'v03_1100502.jpg', 'v03_1101751.jpg', 'v03_1101752.jpg', 'v03_1103250.jpg', 'v03_1103251.jpg', 'v03_1105000.jpg', 'v03_1105001.jpg', 'v03_1106750.jpg', 'v03_1106751.jpg', 'v03_1108500.jpg', 'v03_1108501.jpg', 'v03_1110250.jpg', 'v03_1111501.jpg', 'v03_1111502.jpg', 'v03_1112251.jpg', 'v03_1115001.jpg', 'v03_1117001.jpg', 'v03_1121001.jpg', 'v03_1121251.jpg', 'v03_1122501.jpg', 'v03_1122751.jpg', 'v03_1122752.jpg', 'v03_1124001.jpg', 'v03_1124251.jpg', 'v03_1124252.jpg', 'v03_1125251.jpg', 'v03_1126001.jpg', 'v03_1127501.jpg', 'v03_1128501.jpg', 'v03_1129001.jpg', 'v03_1130001.jpg', 'v03_1131250.jpg', 'v03_1133000.jpg', 'v03_1133001.jpg', 'v03_1138751.jpg', 'v03_1140501.jpg', 'v04_0002000.jpg', 'v04_0004000.jpg', 'v04_0005750.jpg', 'v04_0005751.jpg', 'v04_0007500.jpg', 'v04_0007501.jpg', 'v04_0020250.jpg', 'v04_0020251.jpg', 'v04_0033750.jpg', 'v04_0035500.jpg', 'v04_0035501.jpg', 'v04_0037250.jpg', 'v04_0042500.jpg', 'v04_0043501.jpg', 'v04_0043751.jpg', 'v04_0044251.jpg', 'v04_0044501.jpg', 'v04_0044751.jpg', 'v04_0045501.jpg', 'v04_0045751.jpg', 'v04_0046501.jpg', 'v04_0047001.jpg', 'v04_0047251.jpg', 'v04_0047501.jpg', 'v04_0054250.jpg', 'v04_0054251.jpg', 'v04_0147001.jpg', 'v04_0147751.jpg', 'v04_0151250.jpg', 'v04_0153000.jpg', 'v04_0153250.jpg', 'v04_0153500.jpg', 'v04_0153750.jpg', 'v04_0154000.jpg', 'v04_0154250.jpg', 'v04_0154500.jpg', 'v04_0154750.jpg', 'v04_0155000.jpg', 'v04_0155500.jpg', 'v04_0213250.jpg', 'v04_0213251.jpg', 'v04_0217750.jpg', 'v04_0226750.jpg', 'v04_0226751.jpg', 'v04_0228500.jpg', 'v04_0230250.jpg', 'v04_0232000.jpg', 'v04_0232001.jpg', 'v04_0251000.jpg', 'v04_0252251.jpg', 'v04_0252501.jpg', 'v04_0252751.jpg', 'v04_0253001.jpg', 'v04_0253251.jpg', 'v04_0253501.jpg', 'v04_0254001.jpg', 'v04_0254251.jpg', 'v04_0254751.jpg', 'v04_0255501.jpg', 'v04_0255751.jpg', 'v04_0256001.jpg', 'v04_0256251.jpg', 'v04_0257251.jpg', 'v04_0257501.jpg', 'v04_0259251.jpg', 'v04_0259501.jpg', 'v04_0259751.jpg', 'v04_0260001.jpg', 'v04_0260501.jpg', 'v04_0261001.jpg', 'v04_0261751.jpg', 'v04_0263001.jpg', 'v04_0263251.jpg', 'v04_0264751.jpg', 'v04_0265251.jpg', 'v04_0265501.jpg', 'v04_0267500.jpg', 'v04_0271501.jpg', 'v04_0271502.jpg', 'v04_0272751.jpg', 'v04_0272752.jpg', 'v04_0273751.jpg', 'v04_0274251.jpg', 'v04_0274252.jpg', 'v04_0275251.jpg', 'v04_0275751.jpg', 'v04_0276751.jpg', 'v04_0277251.jpg', 'v04_0278001.jpg', 'v04_0278751.jpg', 'v04_0279501.jpg', 'v04_0280251.jpg', 'v04_0280252.jpg', 'v04_0281751.jpg', 'v04_0281752.jpg', 'v04_0283001.jpg', 'v04_0283002.jpg', 'v04_0284251.jpg', 'v04_0285501.jpg', 'v04_0286751.jpg', 'v04_0288001.jpg', 'v04_0288251.jpg', 'v04_0289501.jpg', 'v04_0289502.jpg', 'v04_0289751.jpg', 'v04_0291001.jpg', 'v04_0291002.jpg', 'v04_0293251.jpg', 'v05_0012750.jpg', 'v05_0027750.jpg', 'v05_0033000.jpg', 'v05_0041000.jpg', 'v05_0105750.jpg', 'v05_0164000.jpg', 'v05_0274000.jpg', 'v05_0310251.jpg', 'v05_0310751.jpg', 'v05_0320000.jpg', 'v05_0320250.jpg', 'v05_0326000.jpg', 'v05_0437000.jpg', 'v05_0489000.jpg', 'v05_0557501.jpg', 'v05_0557751.jpg', 'v05_0559251.jpg', 'v05_0559751.jpg', 'v05_0563250.jpg', 'v05_0564251.jpg', 'v05_0564501.jpg', 'v05_0575001.jpg', 'v05_0575002.jpg', 'v05_0580501.jpg', 'v05_0582501.jpg', 'v05_0582751.jpg', 'v05_0582752.jpg', 'v05_0584001.jpg', 'v05_0584251.jpg', 'v05_0584252.jpg', 'v05_0585501.jpg', 'v05_0585502.jpg', 'v05_0587001.jpg', 'v05_0587002.jpg', 'v05_0588251.jpg', 'v05_0588252.jpg', 'v05_0589751.jpg', 'v05_0590001.jpg', 'v05_0591251.jpg', 'v05_0591252.jpg', 'v05_0592501.jpg', 'v05_0592502.jpg', 'v05_0593751.jpg', 'v05_0593752.jpg', 'v05_0595001.jpg', 'v05_0595002.jpg', 'v05_0595501.jpg', 'v05_0596501.jpg', 'v05_0596502.jpg', 'v05_0597751.jpg', 'v05_0597752.jpg', 'v05_0597753.jpg', 'v05_0599001.jpg', 'v05_0599002.jpg', 'v05_0599003.jpg', 'v05_0600251.jpg', 'v05_0600252.jpg', 'v05_0600253.jpg', 'v05_0601501.jpg', 'v05_0601502.jpg', 'v05_0601503.jpg', 'v05_0602751.jpg', 'v05_0602752.jpg', 'v05_0602753.jpg', 'v05_0604001.jpg', 'v05_0604002.jpg', 'v05_0605251.jpg', 'v05_0605252.jpg', 'v05_0606501.jpg', 'v05_0606502.jpg', 'v05_0607751.jpg', 'v05_0607752.jpg', 'v05_0609001.jpg', 'v05_0609002.jpg', 'v05_0610001.jpg', 'v05_0610501.jpg', 'v05_0610502.jpg', 'v05_0611501.jpg', 'v05_0612001.jpg', 'v05_0612002.jpg', 'v05_0613251.jpg', 'v05_0613252.jpg', 'v05_0614501.jpg', 'v05_0614751.jpg', 'v05_0616001.jpg', 'v05_0616002.jpg', 'v05_0617251.jpg', 'v05_0617501.jpg', 'v05_0618751.jpg', 'v05_0621001.jpg', 'v05_0621002.jpg', 'v05_0622251.jpg', 'v05_0623501.jpg', 'v05_0623502.jpg', 'v06_0009500.jpg', 'v06_0021750.jpg', 'v06_0024000.jpg', 'v06_0025750.jpg', 'v06_0025751.jpg', 'v06_0029250.jpg', 'v06_0033500.jpg', 'v06_0085500.jpg', 'v06_0085501.jpg', 'v06_0115500.jpg', 'v06_0117250.jpg', 'v06_0119250.jpg', 'v06_0145000.jpg', 'v06_0152500.jpg', 'v06_0154750.jpg', 'v06_0155501.jpg', 'v06_0155751.jpg', 'v06_0156001.jpg', 'v06_0156251.jpg', 'v06_0156751.jpg', 'v06_0157751.jpg', 'v06_0158501.jpg', 'v06_0158751.jpg', 'v06_0159501.jpg', 'v06_0160001.jpg', 'v06_0160751.jpg', 'v06_0161001.jpg', 'v06_0161501.jpg', 'v06_0161750.jpg', 'v06_0162501.jpg', 'v06_0162751.jpg', 'v06_0164500.jpg', 'v06_0166250.jpg', 'v06_0215250.jpg', 'v06_0217000.jpg', 'v06_0218001.jpg', 'v06_0218501.jpg', 'v06_0219001.jpg', 'v06_0219501.jpg', 'v06_0220251.jpg', 'v06_0221251.jpg', 'v06_0221751.jpg', 'v06_0222001.jpg', 'v06_0223001.jpg', 'v06_0224000.jpg', 'v06_0224250.jpg', 'v06_0227250.jpg', 'v06_0229000.jpg', 'v06_0237250.jpg', 'v06_0239000.jpg', 'v06_0240750.jpg', 'v06_0242500.jpg', 'v06_0275750.jpg', 'v06_0311750.jpg', 'v06_0314500.jpg', 'v06_0329250.jpg', 'v06_0329751.jpg', 'v06_0330501.jpg', 'v06_0331001.jpg', 'v06_0332251.jpg', 'v06_0332501.jpg', 'v06_0332751.jpg', 'v06_0333501.jpg', 'v06_0335501.jpg', 'v06_0336001.jpg', 'v06_0336751.jpg', 'v06_0337251.jpg', 'v06_0339251.jpg', 'v06_0339501.jpg', 'v06_0339751.jpg', 'v06_0340251.jpg', 'v06_0340501.jpg', 'v06_0341501.jpg', 'v06_0342001.jpg', 'v06_0342501.jpg', 'v06_0343750.jpg', 'v06_0345000.jpg', 'v06_0345250.jpg', 'v06_0345500.jpg', 'v06_0345750.jpg', 'v06_0346000.jpg', 'v06_0346250.jpg', 'v06_0346500.jpg', 'v06_0346750.jpg', 'v06_0347000.jpg', 'v06_0347250.jpg', 'v06_0347500.jpg', 'v06_0347750.jpg', 'v06_0348000.jpg', 'v06_0348250.jpg', 'v06_0348500.jpg', 'v06_0348750.jpg', 'v06_0349000.jpg', 'v06_0349250.jpg', 'v06_0350000.jpg', 'v06_0354500.jpg', 'v06_0354501.jpg', 'v06_0356250.jpg', 'v06_0364000.jpg', 'v06_0369250.jpg', 'v06_0371000.jpg', 'v06_0371001.jpg', 'v06_0372750.jpg', 'v06_0372751.jpg', 'v06_0374500.jpg', 'v06_0376250.jpg', 'v06_0377501.jpg', 'v06_0378500.jpg', 'v06_0378501.jpg', 'v06_0380251.jpg', 'v06_0381001.jpg', 'v06_0381251.jpg', 'v06_0381501.jpg', 'v06_0381751.jpg', 'v06_0382251.jpg', 'v06_0382751.jpg', 'v06_0383001.jpg', 'v06_0383251.jpg', 'v06_0383501.jpg', 'v06_0384501.jpg', 'v06_0385001.jpg', 'v06_0385251.jpg', 'v06_0386000.jpg', 'v06_0429500.jpg', 'v06_0436750.jpg', 'v06_0468500.jpg', 'v06_0470500.jpg', 'v06_0474250.jpg', 'v06_0474501.jpg', 'v06_0474751.jpg', 'v06_0475251.jpg', 'v06_0475751.jpg', 'v06_0476501.jpg', 'v06_0476751.jpg', 'v06_0477001.jpg', 'v06_0477251.jpg', 'v06_0477501.jpg', 'v06_0478001.jpg', 'v06_0479500.jpg', 'v06_0479751.jpg', 'v06_0480251.jpg', 'v06_0480501.jpg', 'v06_0480751.jpg', 'v06_0481001.jpg', 'v06_0483750.jpg', 'v06_0499000.jpg', 'v06_0509500.jpg', 'v06_0511501.jpg', 'v06_0512001.jpg', 'v06_0512751.jpg', 'v06_0513251.jpg', 'v06_0513751.jpg', 'v06_0514500.jpg', 'v06_0516501.jpg', 'v06_0516751.jpg', 'v06_0517001.jpg', 'v06_0517501.jpg', 'v06_0518001.jpg', 'v06_0518501.jpg', 'v06_0518750.jpg', 'v06_0518751.jpg', 'v06_0520500.jpg', 'v06_0521251.jpg', 'v06_0521751.jpg', 'v06_0524000.jpg', 'v06_0524001.jpg', 'v06_0525750.jpg', 'v06_0527500.jpg', 'v06_0527501.jpg', 'v06_0535500.jpg', 'v06_0554750.jpg', 'v06_0556500.jpg', 'v06_0563751.jpg', 'v06_0564001.jpg', 'v06_0564751.jpg', 'v06_0565251.jpg', 'v06_0565751.jpg', 'v06_0567501.jpg', 'v06_0569001.jpg', 'v06_0569501.jpg', 'v06_0570251.jpg', 'v06_0570501.jpg', 'v06_0571501.jpg', 'v06_0573001.jpg', 'v06_0575501.jpg', 'v06_0577001.jpg', 'v06_0577251.jpg', 'v06_0577751.jpg', 'v06_0579001.jpg', 'v06_0580501.jpg', 'v06_0580751.jpg', 'v06_0584501.jpg', 'v06_0593001.jpg', 'v06_0594001.jpg', 'v06_0594251.jpg', 'v06_0594501.jpg', 'v06_0595501.jpg', 'v06_0596501.jpg', 'v06_0596751.jpg', 'v06_0597001.jpg', 'v06_0600001.jpg', 'v06_0600501.jpg', 'v06_0602250.jpg', 'v06_0602251.jpg', 'v06_0604250.jpg', 'v06_0604251.jpg', 'v06_0622000.jpg', 'v06_0622001.jpg', 'v06_0628501.jpg', 'v06_0629000.jpg', 'v06_0629001.jpg', 'v06_0630750.jpg', 'v06_0630751.jpg', 'v06_0644250.jpg', 'v06_0646000.jpg', 'v06_0646001.jpg', 'v06_0647750.jpg', 'v06_0647751.jpg', 'v06_0658751.jpg', 'v06_0658752.jpg', 'v06_0660001.jpg', 'v06_0661001.jpg', 'v06_0661501.jpg', 'v06_0662751.jpg', 'v06_0664001.jpg', 'v06_0665251.jpg', 'v06_0665501.jpg', 'v06_0665502.jpg', 'v06_0666751.jpg', 'v06_0666752.jpg', 'v06_0668001.jpg', 'v06_0668002.jpg', 'v06_0669251.jpg', 'v06_0669252.jpg', 'v06_0670501.jpg', 'v06_0670502.jpg', 'v06_0671251.jpg', 'v06_0672001.jpg', 'v06_0672002.jpg', 'v06_0672501.jpg', 'v06_0673501.jpg', 'v06_0673502.jpg', 'v06_0673503.jpg', 'v06_0674751.jpg', 'v06_0676251.jpg', 'v06_0677001.jpg', 'v06_0678251.jpg', 'v06_0679251.jpg', 'v06_0683501.jpg', 'v06_0689750.jpg', 'v06_0689751.jpg', 'v06_0690751.jpg', 'v06_0691501.jpg', 'v06_0692001.jpg', 'v06_0692501.jpg', 'v06_0694251.jpg', 'v06_0694501.jpg', 'v06_0696251.jpg', 'v06_0696751.jpg', 'v06_0697501.jpg', 'v06_0698251.jpg', 'v06_0699751.jpg', 'v06_0700001.jpg', 'v06_0701500.jpg', 'v06_0702501.jpg', 'v06_0703001.jpg', 'v06_0703251.jpg', 'v06_0703501.jpg', 'v06_0704001.jpg', 'v06_0704251.jpg', 'v06_0704751.jpg', 'v06_0705001.jpg', 'v06_0705501.jpg', 'v06_0705751.jpg', 'v06_0706251.jpg', 'v06_0707001.jpg', 'v06_0707251.jpg', 'v06_0707751.jpg', 'v06_0708001.jpg', 'v06_0708251.jpg', 'v06_0708501.jpg', 'v06_0709001.jpg', 'v06_0709751.jpg', 'v06_0710001.jpg', 'v06_0710251.jpg', 'v06_0710751.jpg', 'v06_0711001.jpg', 'v06_0711251.jpg', 'v06_0712251.jpg', 'v06_0712501.jpg', 'v06_0712751.jpg', 'v06_0713251.jpg', 'v06_0713501.jpg', 'v06_0713751.jpg', 'v06_0714251.jpg', 'v06_0714751.jpg', 'v06_0715001.jpg', 'v06_0715501.jpg', 'v06_0715751.jpg', 'v06_0716251.jpg', 'v06_0716501.jpg', 'v06_0717001.jpg', 'v06_0717751.jpg', 'v06_0718251.jpg', 'v06_0718501.jpg', 'v06_0718751.jpg', 'v06_0719501.jpg', 'v06_0720001.jpg', 'v06_0723251.jpg', 'v06_0724501.jpg', 'v06_0728000.jpg', 'v06_0729001.jpg', 'v06_0729501.jpg', 'v06_0732001.jpg', 'v06_0733250.jpg', 'v06_0735251.jpg', 'v06_0736501.jpg', 'v06_0741501.jpg', 'v06_0742251.jpg', 'v06_0745251.jpg', 'v06_0746250.jpg', 'v06_0748000.jpg', 'v06_0748501.jpg', 'v06_0748751.jpg', 'v06_0749001.jpg', 'v06_0750500.jpg', 'v06_0765751.jpg', 'v06_0766001.jpg', 'v06_0767251.jpg', 'v06_0767501.jpg', 'v06_0768751.jpg', 'v06_0769001.jpg', 'v06_0770251.jpg', 'v06_0772251.jpg', 'v06_0772501.jpg', 'v06_0774751.jpg', 'v06_0775250.jpg', 'v07_0012250.jpg', 'v07_0014000.jpg', 'v07_0015750.jpg', 'v07_0017500.jpg', 'v07_0021250.jpg', 'v07_0023000.jpg', 'v07_0092500.jpg', 'v07_0120500.jpg', 'v07_0149501.jpg', 'v07_0150251.jpg', 'v07_0151751.jpg', 'v07_0155501.jpg', 'v07_0159000.jpg', 'v07_0182001.jpg', 'v07_0182751.jpg', 'v07_0184751.jpg', 'v07_0185001.jpg', 'v07_0186001.jpg', 'v07_0186501.jpg', 'v07_0187001.jpg', 'v07_0187501.jpg', 'v07_0188001.jpg', 'v07_0188751.jpg', 'v07_0209500.jpg', 'v07_0247000.jpg', 'v07_0275750.jpg', 'v07_0275751.jpg', 'v07_0281751.jpg', 'v07_0281752.jpg', 'v07_0283001.jpg', 'v07_0283002.jpg', 'v07_0283501.jpg', 'v07_0284501.jpg', 'v07_0285001.jpg', 'v07_0286001.jpg', 'v07_0286501.jpg', 'v07_0287501.jpg', 'v07_0287502.jpg', 'v07_0288751.jpg', 'v07_0289501.jpg', 'v07_0290251.jpg', 'v07_0290751.jpg', 'v07_0291751.jpg', 'v07_0291752.jpg', 'v07_0292251.jpg', 'v07_0295001.jpg', 'v07_0300750.jpg', 'v07_0301001.jpg', 'v07_0302751.jpg', 'v07_0303751.jpg', 'v08_0001500.jpg', 'v08_0001501.jpg', 'v08_0004750.jpg', 'v08_0008000.jpg', 'v08_0008001.jpg', 'v08_0009750.jpg', 'v08_0011500.jpg', 'v08_0013250.jpg', 'v08_0013251.jpg', 'v08_0015000.jpg', 'v08_0015001.jpg', 'v08_0016750.jpg', 'v08_0016751.jpg', 'v08_0018500.jpg', 'v08_0020250.jpg', 'v08_0062251.jpg', 'v08_0062501.jpg', 'v08_0071750.jpg', 'v08_0124000.jpg', 'v08_0128251.jpg', 'v08_0128501.jpg', 'v08_0128751.jpg', 'v08_0133000.jpg', 'v08_0151000.jpg', 'v08_0153000.jpg', 'v08_0153250.jpg', 'v08_0153500.jpg', 'v08_0153750.jpg', 'v08_0158500.jpg', 'v08_0160001.jpg', 'v08_0161001.jpg', 'v08_0161251.jpg', 'v08_0161501.jpg', 'v08_0162251.jpg', 'v08_0162501.jpg', 'v08_0163001.jpg', 'v08_0163251.jpg', 'v08_0164001.jpg', 'v08_0164501.jpg', 'v08_0164751.jpg', 'v08_0165251.jpg', 'v08_0166250.jpg', 'v08_0166251.jpg', 'v08_0168250.jpg', 'v08_0168251.jpg', 'v08_0170000.jpg', 'v08_0172250.jpg', 'v08_0173751.jpg', 'v08_0174500.jpg', 'v08_0175001.jpg', 'v08_0177251.jpg', 'v08_0179251.jpg', 'v08_0181751.jpg', 'v08_0182751.jpg', 'v08_0183751.jpg', 'v08_0190251.jpg', 'v08_0211750.jpg', 'v08_0219501.jpg', 'v08_0220751.jpg', 'v08_0221001.jpg', 'v08_0222001.jpg', 'v08_0222251.jpg', 'v08_0228750.jpg', 'v08_0230500.jpg', 'v08_0232750.jpg', 'v08_0232751.jpg', 'v08_0234500.jpg', 'v08_0236750.jpg', 'v08_0246500.jpg', 'v08_0248250.jpg', 'v08_0334500.jpg', 'v08_0336250.jpg', 'v08_0336751.jpg', 'v08_0337251.jpg', 'v08_0337751.jpg', 'v08_0338001.jpg', 'v08_0338251.jpg', 'v08_0339251.jpg', 'v08_0339501.jpg', 'v08_0339751.jpg', 'v08_0340501.jpg', 'v08_0341251.jpg', 'v08_0342001.jpg', 'v08_0342501.jpg', 'v08_0342751.jpg', 'v08_0343251.jpg', 'v08_0344001.jpg', 'v08_0344251.jpg', 'v08_0344501.jpg', 'v08_0344751.jpg', 'v08_0345001.jpg', 'v08_0345751.jpg', 'v08_0346251.jpg', 'v08_0347001.jpg', 'v08_0347751.jpg', 'v08_0348001.jpg', 'v08_0348501.jpg', 'v08_0348751.jpg', 'v08_0349251.jpg', 'v08_0349501.jpg', 'v08_0350001.jpg', 'v08_0350251.jpg', 'v08_0351001.jpg', 'v08_0351251.jpg', 'v08_0352251.jpg', 'v08_0352501.jpg', 'v08_0354250.jpg', 'v08_0356000.jpg', 'v08_0357751.jpg', 'v08_0359001.jpg', 'v08_0359751.jpg', 'v08_0360751.jpg', 'v08_0361751.jpg', 'v08_0361752.jpg', 'v08_0363001.jpg', 'v08_0363751.jpg', 'v08_0364501.jpg', 'v08_0364502.jpg', 'v08_0365251.jpg', 'v08_0365751.jpg', 'v08_0365752.jpg', 'v08_0365753.jpg', 'v08_0367001.jpg', 'v08_0368251.jpg', 'v08_0368252.jpg', 'v08_0369501.jpg', 'v08_0369502.jpg', 'v08_0370751.jpg', 'v08_0370752.jpg', 'v08_0372001.jpg', 'v08_0373251.jpg', 'v08_0374501.jpg', 'v08_0374502.jpg', 'v08_0375251.jpg', 'v08_0376001.jpg', 'v08_0376751.jpg', 'v08_0377501.jpg', 'v08_0378251.jpg', 'v08_0379001.jpg', 'v08_0379002.jpg', 'v08_0380251.jpg', 'v08_0380252.jpg', 'v08_0380253.jpg', 'v08_0382250.jpg', 'v08_0382251.jpg', 'v08_0384000.jpg', 'v08_0391501.jpg', 'v08_0399250.jpg', 'v08_0401000.jpg', 'v08_0402750.jpg', 'v08_0404500.jpg', 'v08_0408000.jpg', 'v09_0003250.jpg', 'v09_0009500.jpg', 'v09_0015250.jpg', 'v09_0021750.jpg', 'v09_0023500.jpg', 'v09_0028500.jpg', 'v09_0030250.jpg', 'v09_0053500.jpg', 'v09_0087000.jpg', 'v09_0123500.jpg', 'v09_0160500.jpg', 'v09_0170250.jpg', 'v09_0170251.jpg', 'v09_0172000.jpg', 'v09_0173750.jpg', 'v09_0183750.jpg', 'v09_0183751.jpg', 'v09_0187750.jpg', 'v09_0189500.jpg', 'v09_0189501.jpg', 'v09_0253750.jpg', 'v09_0256250.jpg', 'v09_0256251.jpg', 'v09_0259000.jpg', 'v09_0259001.jpg', 'v09_0318000.jpg', 'v09_0372000.jpg', 'v09_0373750.jpg', 'v09_0417000.jpg', 'v09_0442500.jpg', 'v09_0443751.jpg', 'v09_0443752.jpg', 'v09_0444751.jpg', 'v09_0445251.jpg', 'v09_0447001.jpg', 'v09_0447002.jpg', 'v09_0448251.jpg', 'v09_0448252.jpg', 'v09_0448253.jpg', 'v09_0449501.jpg', 'v09_0449502.jpg', 'v09_0449503.jpg', 'v09_0450751.jpg', 'v09_0450752.jpg', 'v09_0452001.jpg', 'v09_0452002.jpg', 'v09_0452003.jpg', 'v09_0453251.jpg', 'v09_0453252.jpg', 'v09_0453253.jpg', 'v09_0454501.jpg', 'v09_0454502.jpg', 'v09_0455501.jpg', 'v09_0456001.jpg', 'v09_0456002.jpg', 'v09_0457001.jpg', 'v09_0457501.jpg', 'v09_0458501.jpg', 'v09_0459001.jpg', 'v09_0459002.jpg', 'v09_0459751.jpg', 'v09_0460501.jpg', 'v09_0461251.jpg', 'v09_0462001.jpg', 'v09_0462002.jpg', 'v09_0462751.jpg', 'v09_0463501.jpg', 'v09_0463502.jpg', 'v09_0464251.jpg', 'v09_0465001.jpg', 'v09_0465751.jpg', 'v09_0466501.jpg', 'v09_0467001.jpg', 'v09_0468251.jpg', 'v09_0468501.jpg', 'v09_0470001.jpg', 'v09_0470251.jpg', 'v09_0473001.jpg', 'v09_0473251.jpg', 'v09_0474501.jpg', 'v09_0474751.jpg', 'v09_0479251.jpg', 'v10_0001500.jpg', 'v10_0001501.jpg', 'v10_0003250.jpg', 'v10_0003251.jpg', 'v10_0063000.jpg', 'v10_0064750.jpg', 'v10_0138750.jpg', 'v10_0138751.jpg', 'v10_0140750.jpg', 'v10_0159000.jpg', 'v10_0160750.jpg', 'v10_0201501.jpg', 'v10_0208500.jpg', 'v10_0209251.jpg', 'v10_0210001.jpg', 'v10_0212750.jpg', 'v10_0215001.jpg', 'v10_0215251.jpg', 'v10_0221250.jpg', 'v10_0223000.jpg', 'v10_0238501.jpg', 'v10_0336500.jpg', 'v10_0566750.jpg', 'v10_0602250.jpg', 'v10_0602251.jpg', 'v10_0612001.jpg', 'v10_0613501.jpg', 'v10_0613751.jpg', 'v10_0614251.jpg', 'v10_0615001.jpg', 'v10_0615501.jpg', 'v10_0615502.jpg', 'v10_0616501.jpg', 'v10_0617251.jpg', 'v10_0617252.jpg', 'v10_0617751.jpg', 'v10_0618501.jpg', 'v10_0619251.jpg', 'v10_0620001.jpg', 'v10_0620751.jpg', 'v10_0621501.jpg', 'v10_0621751.jpg', 'v10_0622251.jpg', 'v10_0625501.jpg', 'v10_0639251.jpg', 'v10_0641251.jpg', 'v10_0643751.jpg', 'v10_0645250.jpg', 'v10_0645251.jpg', 'v10_0646001.jpg', 'v10_0649251.jpg', 'v10_0649501.jpg', 'v10_0650251.jpg', 'v10_0661001.jpg']\n",
      "['v01_0538500.jpg', 'v01_0539750.jpg', 'v01_0541000.jpg', 'v01_0542250.jpg', 'v01_0543500.jpg', 'v01_0544750.jpg', 'v01_0546000.jpg', 'v01_0547250.jpg', 'v01_0548500.jpg', 'v01_0549750.jpg', 'v01_0551000.jpg', 'v01_0552250.jpg', 'v01_0553500.jpg', 'v01_0554750.jpg', 'v01_0556000.jpg', 'v01_0556250.jpg', 'v01_0557500.jpg', 'v01_0557750.jpg', 'v01_0559000.jpg', 'v01_0559250.jpg', 'v01_0565000.jpg', 'v01_0565250.jpg', 'v01_0565500.jpg', 'v01_0565750.jpg', 'v01_0566000.jpg', 'v01_0566250.jpg', 'v01_0566500.jpg', 'v01_0566750.jpg', 'v01_0567000.jpg', 'v01_0567250.jpg', 'v01_0567500.jpg', 'v01_0567750.jpg', 'v01_0568000.jpg', 'v01_0568250.jpg', 'v01_0568500.jpg', 'v01_0568750.jpg', 'v01_0569000.jpg', 'v01_0569250.jpg', 'v01_0569500.jpg', 'v01_0569750.jpg', 'v01_0570000.jpg', 'v01_0570250.jpg', 'v01_0570500.jpg', 'v01_0570750.jpg', 'v01_0571000.jpg', 'v01_0571250.jpg', 'v01_0576750.jpg', 'v02_0408000.jpg', 'v02_0408250.jpg', 'v02_0409500.jpg', 'v02_0409750.jpg', 'v02_0411000.jpg', 'v02_0412500.jpg', 'v02_0413750.jpg', 'v02_0415000.jpg', 'v02_0416250.jpg', 'v02_0417500.jpg', 'v02_0418750.jpg', 'v02_0420000.jpg', 'v02_0421250.jpg', 'v02_0421750.jpg', 'v02_0422000.jpg', 'v02_0422250.jpg', 'v02_0422500.jpg', 'v02_0423500.jpg', 'v02_0423750.jpg', 'v02_0424000.jpg', 'v02_0424500.jpg', 'v02_0447000.jpg', 'v02_0447250.jpg', 'v02_0448500.jpg', 'v02_0449750.jpg', 'v02_0454250.jpg', 'v02_0455000.jpg', 'v02_0455250.jpg', 'v02_0455500.jpg', 'v02_0455750.jpg', 'v02_0456000.jpg', 'v02_0457000.jpg', 'v02_0475750.jpg', 'v02_0476000.jpg', 'v02_0485000.jpg', 'v02_0485250.jpg', 'v02_0485500.jpg', 'v02_0485750.jpg', 'v02_0486500.jpg', 'v02_0486750.jpg', 'v02_0487500.jpg', 'v03_1067500.jpg', 'v03_1067750.jpg', 'v03_1069000.jpg', 'v03_1069250.jpg', 'v03_1070500.jpg', 'v03_1070750.jpg', 'v03_1072000.jpg', 'v03_1072250.jpg', 'v03_1073500.jpg', 'v03_1073750.jpg', 'v03_1074750.jpg', 'v03_1075250.jpg', 'v03_1076250.jpg', 'v03_1076750.jpg', 'v03_1078000.jpg', 'v03_1079250.jpg', 'v03_1079500.jpg', 'v03_1080750.jpg', 'v03_1082000.jpg', 'v03_1083250.jpg', 'v03_1084500.jpg', 'v03_1085000.jpg', 'v03_1086000.jpg', 'v03_1086500.jpg', 'v03_1087500.jpg', 'v03_1088750.jpg', 'v03_1090000.jpg', 'v03_1091250.jpg', 'v03_1092500.jpg', 'v03_1093750.jpg', 'v03_1095000.jpg', 'v03_1096250.jpg', 'v03_1097500.jpg', 'v03_1098750.jpg', 'v03_1099500.jpg', 'v03_1100500.jpg', 'v03_1101750.jpg', 'v03_1111500.jpg', 'v03_1112250.jpg', 'v03_1115000.jpg', 'v03_1117000.jpg', 'v03_1118000.jpg', 'v03_1118250.jpg', 'v03_1118500.jpg', 'v03_1118750.jpg', 'v03_1119000.jpg', 'v03_1119250.jpg', 'v03_1119500.jpg', 'v03_1119750.jpg', 'v03_1120000.jpg', 'v03_1120250.jpg', 'v03_1120500.jpg', 'v03_1121000.jpg', 'v03_1121250.jpg', 'v03_1122500.jpg', 'v03_1122750.jpg', 'v03_1124000.jpg', 'v03_1124250.jpg', 'v03_1125250.jpg', 'v03_1126000.jpg', 'v03_1127500.jpg', 'v03_1128500.jpg', 'v03_1129000.jpg', 'v03_1130000.jpg', 'v03_1136500.jpg', 'v03_1136750.jpg', 'v03_1137000.jpg', 'v03_1137250.jpg', 'v03_1137500.jpg', 'v03_1137750.jpg', 'v03_1138250.jpg', 'v03_1138500.jpg', 'v03_1138750.jpg', 'v03_1139000.jpg', 'v03_1139250.jpg', 'v03_1140500.jpg', 'v03_1141000.jpg', 'v03_1141250.jpg', 'v03_1141500.jpg', 'v04_0271250.jpg', 'v04_0271500.jpg', 'v04_0272750.jpg', 'v04_0273750.jpg', 'v04_0274250.jpg', 'v04_0275250.jpg', 'v04_0275750.jpg', 'v04_0276750.jpg', 'v04_0277250.jpg', 'v04_0278000.jpg', 'v04_0278750.jpg', 'v04_0279500.jpg', 'v04_0280250.jpg', 'v04_0281750.jpg', 'v04_0283000.jpg', 'v04_0284250.jpg', 'v04_0285500.jpg', 'v04_0286750.jpg', 'v04_0288000.jpg', 'v04_0288250.jpg', 'v04_0289500.jpg', 'v04_0289750.jpg', 'v04_0291000.jpg', 'v04_0292250.jpg', 'v04_0292500.jpg', 'v04_0292750.jpg', 'v04_0293000.jpg', 'v04_0293250.jpg', 'v05_0554500.jpg', 'v05_0554750.jpg', 'v05_0555000.jpg', 'v05_0555250.jpg', 'v05_0555500.jpg', 'v05_0555750.jpg', 'v05_0556000.jpg', 'v05_0557500.jpg', 'v05_0557750.jpg', 'v05_0559250.jpg', 'v05_0559750.jpg', 'v05_0560500.jpg', 'v05_0560750.jpg', 'v05_0561000.jpg', 'v05_0561250.jpg', 'v05_0561500.jpg', 'v05_0561750.jpg', 'v05_0563251.jpg', 'v05_0563500.jpg', 'v05_0563750.jpg', 'v05_0564000.jpg', 'v05_0564250.jpg', 'v05_0564500.jpg', 'v05_0565250.jpg', 'v05_0565500.jpg', 'v05_0565750.jpg', 'v05_0566000.jpg', 'v05_0566250.jpg', 'v05_0566500.jpg', 'v05_0566750.jpg', 'v05_0567000.jpg', 'v05_0567250.jpg', 'v05_0567500.jpg', 'v05_0567750.jpg', 'v05_0568000.jpg', 'v05_0568250.jpg', 'v05_0573250.jpg', 'v05_0573500.jpg', 'v05_0573750.jpg', 'v05_0574000.jpg', 'v05_0575000.jpg', 'v05_0580500.jpg', 'v05_0581500.jpg', 'v05_0581750.jpg', 'v05_0582000.jpg', 'v05_0582500.jpg', 'v05_0582750.jpg', 'v05_0584000.jpg', 'v05_0584250.jpg', 'v05_0585500.jpg', 'v05_0587000.jpg', 'v05_0588250.jpg', 'v05_0589750.jpg', 'v05_0590000.jpg', 'v05_0591250.jpg', 'v05_0592500.jpg', 'v05_0593750.jpg', 'v05_0595000.jpg', 'v05_0595500.jpg', 'v05_0596500.jpg', 'v05_0597750.jpg', 'v05_0599000.jpg', 'v05_0600250.jpg', 'v05_0601500.jpg', 'v05_0602750.jpg', 'v05_0604000.jpg', 'v05_0605250.jpg', 'v05_0606500.jpg', 'v05_0607750.jpg', 'v05_0609000.jpg', 'v05_0610000.jpg', 'v05_0610500.jpg', 'v05_0611500.jpg', 'v05_0612000.jpg', 'v05_0613250.jpg', 'v05_0614500.jpg', 'v05_0614750.jpg', 'v05_0616000.jpg', 'v05_0617250.jpg', 'v05_0617500.jpg', 'v05_0618750.jpg', 'v05_0621000.jpg', 'v05_0622250.jpg', 'v05_0623500.jpg', 'v06_0658000.jpg', 'v06_0658250.jpg', 'v06_0658750.jpg', 'v06_0660000.jpg', 'v06_0661000.jpg', 'v06_0661500.jpg', 'v06_0662750.jpg', 'v06_0664000.jpg', 'v06_0665250.jpg', 'v06_0665500.jpg', 'v06_0666750.jpg', 'v06_0668000.jpg', 'v06_0669250.jpg', 'v06_0670500.jpg', 'v06_0671250.jpg', 'v06_0672000.jpg', 'v06_0672500.jpg', 'v06_0673500.jpg', 'v06_0674750.jpg', 'v06_0675500.jpg', 'v06_0675750.jpg', 'v06_0676000.jpg', 'v06_0676250.jpg', 'v06_0677000.jpg', 'v06_0678250.jpg', 'v06_0679250.jpg', 'v06_0682000.jpg', 'v06_0683500.jpg', 'v06_0689000.jpg', 'v06_0690750.jpg', 'v06_0691500.jpg', 'v06_0736500.jpg', 'v06_0736750.jpg', 'v06_0739250.jpg', 'v06_0740250.jpg', 'v06_0740500.jpg', 'v06_0741500.jpg', 'v06_0742500.jpg', 'v06_0751750.jpg', 'v06_0765750.jpg', 'v06_0766000.jpg', 'v06_0767250.jpg', 'v06_0767500.jpg', 'v06_0768750.jpg', 'v06_0769000.jpg', 'v06_0770250.jpg', 'v06_0772250.jpg', 'v06_0772500.jpg', 'v06_0774750.jpg', 'v07_0281750.jpg', 'v07_0283000.jpg', 'v07_0283500.jpg', 'v07_0284500.jpg', 'v07_0285000.jpg', 'v07_0286000.jpg', 'v07_0286500.jpg', 'v07_0287500.jpg', 'v07_0288750.jpg', 'v07_0289500.jpg', 'v07_0290250.jpg', 'v07_0290750.jpg', 'v07_0291750.jpg', 'v07_0292250.jpg', 'v07_0292500.jpg', 'v07_0292750.jpg', 'v07_0293000.jpg', 'v07_0293250.jpg', 'v07_0295000.jpg', 'v07_0302750.jpg', 'v07_0303750.jpg', 'v07_0318000.jpg', 'v07_0318250.jpg', 'v07_0318500.jpg', 'v07_0318750.jpg', 'v07_0319250.jpg', 'v07_0320750.jpg', 'v07_0323500.jpg', 'v07_0328500.jpg', 'v07_0328750.jpg', 'v08_0357250.jpg', 'v08_0357500.jpg', 'v08_0357750.jpg', 'v08_0358250.jpg', 'v08_0358750.jpg', 'v08_0359000.jpg', 'v08_0359750.jpg', 'v08_0360250.jpg', 'v08_0360500.jpg', 'v08_0360750.jpg', 'v08_0361750.jpg', 'v08_0363000.jpg', 'v08_0363750.jpg', 'v08_0364500.jpg', 'v08_0365250.jpg', 'v08_0365750.jpg', 'v08_0367000.jpg', 'v08_0368250.jpg', 'v08_0369500.jpg', 'v08_0370750.jpg', 'v08_0372000.jpg', 'v08_0373250.jpg', 'v08_0374500.jpg', 'v08_0375250.jpg', 'v08_0376000.jpg', 'v08_0376750.jpg', 'v08_0377500.jpg', 'v08_0378250.jpg', 'v08_0379000.jpg', 'v08_0380250.jpg', 'v09_0443750.jpg', 'v09_0444750.jpg', 'v09_0445250.jpg', 'v09_0446000.jpg', 'v09_0446250.jpg', 'v09_0447000.jpg', 'v09_0448250.jpg', 'v09_0449500.jpg', 'v09_0450750.jpg', 'v09_0452000.jpg', 'v09_0453250.jpg', 'v09_0454500.jpg', 'v09_0455500.jpg', 'v09_0456000.jpg', 'v09_0457000.jpg', 'v09_0457500.jpg', 'v09_0458500.jpg', 'v09_0459000.jpg', 'v09_0459750.jpg', 'v09_0460500.jpg', 'v09_0461250.jpg', 'v09_0462000.jpg', 'v09_0462750.jpg', 'v09_0463500.jpg', 'v09_0464250.jpg', 'v09_0465000.jpg', 'v09_0465750.jpg', 'v09_0466500.jpg', 'v09_0467000.jpg', 'v09_0468250.jpg', 'v09_0468500.jpg', 'v09_0470000.jpg', 'v09_0470250.jpg', 'v09_0470750.jpg', 'v09_0471000.jpg', 'v09_0471250.jpg', 'v09_0472250.jpg', 'v09_0472500.jpg', 'v09_0472750.jpg', 'v09_0473000.jpg', 'v09_0473250.jpg', 'v09_0474500.jpg', 'v09_0474750.jpg', 'v09_0475000.jpg', 'v09_0477500.jpg', 'v09_0479250.jpg', 'v09_0480000.jpg', 'v10_0610000.jpg', 'v10_0610250.jpg', 'v10_0610500.jpg', 'v10_0610750.jpg', 'v10_0611000.jpg', 'v10_0612000.jpg', 'v10_0613500.jpg', 'v10_0613750.jpg', 'v10_0614250.jpg', 'v10_0615000.jpg', 'v10_0615500.jpg', 'v10_0616500.jpg', 'v10_0617250.jpg', 'v10_0617750.jpg', 'v10_0618500.jpg', 'v10_0619250.jpg', 'v10_0620000.jpg', 'v10_0620750.jpg', 'v10_0621500.jpg', 'v10_0621750.jpg', 'v10_0622250.jpg', 'v10_0623000.jpg', 'v10_0623250.jpg', 'v10_0623500.jpg', 'v10_0623750.jpg', 'v10_0625500.jpg', 'v10_0638500.jpg', 'v10_0639250.jpg', 'v10_0647000.jpg', 'v10_0647250.jpg', 'v10_0647500.jpg', 'v10_0647750.jpg', 'v10_0648000.jpg', 'v10_0649000.jpg', 'v10_0649250.jpg', 'v10_0649500.jpg', 'v10_0650250.jpg', 'v10_0651250.jpg', 'v10_0651500.jpg', 'v10_0661000.jpg', 'v10_0661250.jpg']\n",
      "['v01_0563750.jpg', 'v02_0185250.jpg', 'v02_0185500.jpg', 'v02_0185750.jpg', 'v02_0186000.jpg', 'v02_0186250.jpg', 'v02_0189000.jpg', 'v02_0189250.jpg', 'v02_0189500.jpg', 'v02_0189750.jpg', 'v02_0190000.jpg', 'v02_0190250.jpg', 'v02_0190500.jpg', 'v02_0190750.jpg', 'v02_0191000.jpg', 'v02_0191250.jpg', 'v02_0191500.jpg', 'v02_0191750.jpg', 'v02_0192000.jpg', 'v02_0192250.jpg', 'v02_0192500.jpg', 'v02_0192750.jpg', 'v02_0193000.jpg', 'v02_0438750.jpg', 'v02_0439000.jpg', 'v02_0440500.jpg', 'v02_0440750.jpg', 'v02_0441000.jpg', 'v02_0441250.jpg', 'v02_0441500.jpg', 'v02_0441750.jpg', 'v02_0442250.jpg', 'v02_0442500.jpg', 'v02_0442750.jpg', 'v02_0443250.jpg', 'v04_0043500.jpg', 'v04_0043750.jpg', 'v04_0044250.jpg', 'v04_0044500.jpg', 'v04_0044750.jpg', 'v04_0045500.jpg', 'v04_0045750.jpg', 'v04_0046500.jpg', 'v04_0047000.jpg', 'v04_0047250.jpg', 'v04_0047500.jpg', 'v04_0048500.jpg', 'v04_0048750.jpg', 'v04_0049000.jpg', 'v04_0049250.jpg', 'v04_0049500.jpg', 'v04_0049750.jpg', 'v04_0050000.jpg', 'v04_0050250.jpg', 'v04_0050500.jpg', 'v04_0050750.jpg', 'v04_0051000.jpg', 'v04_0051250.jpg', 'v04_0052750.jpg', 'v04_0201000.jpg', 'v04_0201250.jpg', 'v04_0201500.jpg', 'v04_0201750.jpg', 'v04_0202000.jpg', 'v04_0202250.jpg', 'v04_0202500.jpg', 'v04_0202750.jpg', 'v04_0203000.jpg', 'v04_0203250.jpg', 'v04_0203500.jpg', 'v04_0203750.jpg', 'v04_0204000.jpg', 'v04_0204250.jpg', 'v04_0204750.jpg', 'v04_0205000.jpg', 'v04_0252250.jpg', 'v04_0252500.jpg', 'v04_0252750.jpg', 'v04_0253000.jpg', 'v04_0253250.jpg', 'v04_0253500.jpg', 'v04_0254000.jpg', 'v04_0254250.jpg', 'v04_0254750.jpg', 'v04_0255500.jpg', 'v04_0255750.jpg', 'v04_0256000.jpg', 'v04_0256250.jpg', 'v04_0256500.jpg', 'v04_0256750.jpg', 'v04_0257000.jpg', 'v04_0257250.jpg', 'v04_0257500.jpg', 'v04_0258000.jpg', 'v04_0258250.jpg', 'v04_0258500.jpg', 'v04_0258750.jpg', 'v04_0259000.jpg', 'v04_0259250.jpg', 'v04_0259500.jpg', 'v04_0259750.jpg', 'v04_0260000.jpg', 'v04_0260500.jpg', 'v04_0260750.jpg', 'v04_0261000.jpg', 'v04_0261750.jpg', 'v04_0262000.jpg', 'v04_0262250.jpg', 'v04_0262500.jpg', 'v04_0263000.jpg', 'v04_0263250.jpg', 'v04_0263500.jpg', 'v04_0263750.jpg', 'v04_0264000.jpg', 'v04_0264250.jpg', 'v04_0264750.jpg', 'v04_0265000.jpg', 'v04_0265250.jpg', 'v04_0265500.jpg', 'v04_0266000.jpg', 'v04_0266250.jpg', 'v04_0266500.jpg', 'v06_0155500.jpg', 'v06_0155750.jpg', 'v06_0156000.jpg', 'v06_0156250.jpg', 'v06_0156750.jpg', 'v06_0157750.jpg', 'v06_0158500.jpg', 'v06_0158750.jpg', 'v06_0159500.jpg', 'v06_0160000.jpg', 'v06_0160750.jpg', 'v06_0161000.jpg', 'v06_0161500.jpg', 'v06_0161751.jpg', 'v06_0162500.jpg', 'v06_0162750.jpg', 'v06_0218000.jpg', 'v06_0218500.jpg', 'v06_0219000.jpg', 'v06_0219500.jpg', 'v06_0220250.jpg', 'v06_0221250.jpg', 'v06_0221750.jpg', 'v06_0222000.jpg', 'v06_0223000.jpg', 'v06_0224001.jpg', 'v06_0224251.jpg', 'v06_0224500.jpg', 'v06_0224750.jpg', 'v06_0225000.jpg', 'v06_0225250.jpg', 'v06_0225500.jpg', 'v06_0377500.jpg', 'v06_0380250.jpg', 'v06_0381000.jpg', 'v06_0381250.jpg', 'v06_0381500.jpg', 'v06_0381750.jpg', 'v06_0382250.jpg', 'v06_0382750.jpg', 'v06_0383000.jpg', 'v06_0383250.jpg', 'v06_0383500.jpg', 'v06_0384500.jpg', 'v06_0385000.jpg', 'v06_0385250.jpg', 'v06_0430250.jpg', 'v06_0430500.jpg', 'v06_0430750.jpg', 'v06_0431000.jpg', 'v06_0431250.jpg', 'v06_0431500.jpg', 'v06_0431750.jpg', 'v06_0432000.jpg', 'v06_0432250.jpg', 'v06_0432500.jpg', 'v06_0432750.jpg', 'v06_0433000.jpg', 'v06_0433250.jpg', 'v06_0433500.jpg', 'v06_0433750.jpg', 'v06_0434000.jpg', 'v06_0434250.jpg', 'v06_0434500.jpg', 'v06_0434750.jpg', 'v06_0435000.jpg', 'v06_0435250.jpg', 'v06_0435500.jpg', 'v06_0474000.jpg', 'v06_0474251.jpg', 'v06_0474500.jpg', 'v06_0474750.jpg', 'v06_0475250.jpg', 'v06_0475750.jpg', 'v06_0476500.jpg', 'v06_0476750.jpg', 'v06_0477000.jpg', 'v06_0477250.jpg', 'v06_0477500.jpg', 'v06_0478000.jpg', 'v06_0479501.jpg', 'v06_0479750.jpg', 'v06_0480250.jpg', 'v06_0480500.jpg', 'v06_0480750.jpg', 'v06_0481000.jpg', 'v06_0482000.jpg', 'v06_0516500.jpg', 'v06_0516750.jpg', 'v06_0517000.jpg', 'v06_0517500.jpg', 'v06_0518000.jpg', 'v06_0518500.jpg', 'v06_0702500.jpg', 'v06_0703000.jpg', 'v06_0703250.jpg', 'v06_0703500.jpg', 'v06_0704000.jpg', 'v06_0704250.jpg', 'v06_0704750.jpg', 'v06_0705000.jpg', 'v06_0705500.jpg', 'v06_0705750.jpg', 'v06_0706250.jpg', 'v06_0707000.jpg', 'v06_0707250.jpg', 'v06_0707750.jpg', 'v06_0708000.jpg', 'v06_0708250.jpg', 'v06_0708500.jpg', 'v06_0709000.jpg', 'v06_0709750.jpg', 'v06_0710000.jpg', 'v06_0710250.jpg', 'v06_0710750.jpg', 'v06_0711000.jpg', 'v06_0711250.jpg', 'v06_0712250.jpg', 'v06_0712500.jpg', 'v06_0712750.jpg', 'v06_0713250.jpg', 'v06_0713500.jpg', 'v06_0713750.jpg', 'v06_0714250.jpg', 'v06_0714750.jpg', 'v06_0715000.jpg', 'v06_0715500.jpg', 'v06_0715750.jpg', 'v06_0716250.jpg', 'v06_0716500.jpg', 'v06_0717000.jpg', 'v06_0717750.jpg', 'v06_0718250.jpg', 'v06_0718500.jpg', 'v06_0718750.jpg', 'v06_0719500.jpg', 'v06_0720000.jpg', 'v06_0748500.jpg', 'v06_0748750.jpg', 'v06_0749000.jpg', 'v06_0760750.jpg', 'v06_0761000.jpg', 'v06_0761250.jpg', 'v07_0310000.jpg', 'v07_0311000.jpg', 'v07_0315500.jpg', 'v07_0315750.jpg', 'v07_0316000.jpg', 'v07_0316250.jpg', 'v07_0316500.jpg', 'v07_0316750.jpg', 'v07_0317000.jpg', 'v07_0317500.jpg', 'v07_0326000.jpg', 'v07_0326250.jpg', 'v07_0326500.jpg', 'v07_0326750.jpg', 'v07_0327000.jpg', 'v07_0327250.jpg', 'v07_0329250.jpg', 'v07_0329500.jpg', 'v07_0329750.jpg', 'v07_0330750.jpg', 'v07_0331000.jpg', 'v07_0331250.jpg', 'v07_0331500.jpg', 'v07_0331750.jpg', 'v07_0332000.jpg', 'v07_0332250.jpg', 'v07_0332500.jpg', 'v07_0332750.jpg', 'v07_0333000.jpg', 'v07_0333250.jpg', 'v07_0333750.jpg', 'v07_0334000.jpg', 'v07_0334250.jpg', 'v07_0334500.jpg', 'v07_0334750.jpg', 'v07_0335000.jpg', 'v07_0335250.jpg', 'v07_0335500.jpg', 'v07_0335750.jpg', 'v07_0338000.jpg', 'v07_0338250.jpg', 'v07_0338500.jpg', 'v08_0062250.jpg', 'v08_0062500.jpg', 'v08_0062750.jpg', 'v08_0063000.jpg', 'v08_0063250.jpg', 'v08_0063500.jpg', 'v08_0063750.jpg', 'v08_0064000.jpg', 'v08_0064250.jpg', 'v08_0064500.jpg', 'v08_0064750.jpg', 'v08_0065000.jpg', 'v08_0065250.jpg', 'v08_0065500.jpg', 'v08_0065750.jpg', 'v08_0066000.jpg', 'v08_0066250.jpg', 'v08_0066500.jpg', 'v08_0066750.jpg', 'v08_0067000.jpg', 'v08_0067250.jpg', 'v08_0067500.jpg', 'v08_0067750.jpg', 'v08_0068000.jpg', 'v08_0068250.jpg', 'v08_0068500.jpg', 'v08_0068750.jpg', 'v08_0069000.jpg', 'v08_0069250.jpg', 'v08_0069500.jpg', 'v08_0069750.jpg', 'v08_0070000.jpg', 'v08_0070250.jpg', 'v08_0070500.jpg', 'v08_0160000.jpg', 'v08_0161000.jpg', 'v08_0161250.jpg', 'v08_0161500.jpg', 'v08_0162250.jpg', 'v08_0162500.jpg', 'v08_0163000.jpg', 'v08_0163250.jpg', 'v08_0164000.jpg', 'v08_0164500.jpg', 'v08_0164750.jpg', 'v08_0165250.jpg', 'v08_0201750.jpg', 'v08_0202000.jpg', 'v08_0202250.jpg', 'v08_0202500.jpg', 'v08_0202750.jpg', 'v08_0203000.jpg', 'v08_0203250.jpg', 'v08_0203500.jpg', 'v08_0203750.jpg', 'v08_0204000.jpg', 'v08_0204250.jpg', 'v08_0204500.jpg', 'v08_0204750.jpg', 'v08_0205000.jpg', 'v08_0205250.jpg', 'v08_0205500.jpg', 'v08_0205750.jpg', 'v08_0206000.jpg', 'v08_0206250.jpg', 'v08_0206500.jpg', 'v08_0206750.jpg', 'v08_0207000.jpg', 'v08_0207250.jpg', 'v08_0207500.jpg', 'v08_0207750.jpg', 'v08_0208000.jpg', 'v08_0208250.jpg', 'v08_0208500.jpg', 'v08_0208750.jpg', 'v08_0209000.jpg', 'v08_0209250.jpg', 'v08_0209500.jpg', 'v08_0209750.jpg', 'v08_0210000.jpg', 'v08_0210250.jpg', 'v08_0297000.jpg', 'v08_0297250.jpg', 'v08_0297500.jpg', 'v08_0297750.jpg', 'v08_0298000.jpg', 'v08_0298250.jpg', 'v08_0298500.jpg', 'v08_0298750.jpg', 'v08_0299000.jpg', 'v08_0299250.jpg', 'v08_0299500.jpg', 'v08_0299750.jpg', 'v08_0300000.jpg', 'v08_0300250.jpg', 'v08_0300500.jpg', 'v08_0300750.jpg', 'v08_0301000.jpg', 'v08_0301250.jpg', 'v08_0301500.jpg', 'v08_0301750.jpg', 'v08_0302000.jpg', 'v08_0302250.jpg', 'v08_0302500.jpg', 'v08_0302750.jpg', 'v08_0303000.jpg', 'v08_0303250.jpg', 'v08_0303500.jpg', 'v08_0303750.jpg', 'v08_0336750.jpg', 'v08_0337250.jpg', 'v08_0337750.jpg', 'v08_0338000.jpg', 'v08_0338250.jpg', 'v08_0339250.jpg', 'v08_0339500.jpg', 'v08_0339750.jpg', 'v08_0340500.jpg', 'v08_0341250.jpg', 'v08_0342000.jpg', 'v08_0342500.jpg', 'v08_0342750.jpg', 'v08_0343250.jpg', 'v08_0344000.jpg', 'v08_0344250.jpg', 'v08_0344500.jpg', 'v08_0344750.jpg', 'v08_0345000.jpg', 'v08_0345750.jpg', 'v08_0346250.jpg', 'v08_0347000.jpg', 'v08_0347750.jpg', 'v08_0348000.jpg', 'v08_0348500.jpg', 'v08_0348750.jpg', 'v08_0349250.jpg', 'v08_0349500.jpg', 'v08_0350000.jpg', 'v08_0350250.jpg', 'v08_0351000.jpg', 'v08_0351250.jpg', 'v08_0352250.jpg', 'v08_0352500.jpg']\n",
      "['v01_0251500.jpg', 'v01_0264000.jpg', 'v01_0264500.jpg', 'v01_0269250.jpg', 'v02_0232750.jpg', 'v02_0233500.jpg', 'v02_0233750.jpg', 'v02_0234250.jpg', 'v02_0235000.jpg', 'v02_0235500.jpg', 'v02_0236000.jpg', 'v02_0236250.jpg', 'v02_0236500.jpg', 'v02_0237000.jpg', 'v02_0237500.jpg', 'v02_0238000.jpg', 'v02_0238500.jpg', 'v02_0239000.jpg', 'v02_0239500.jpg', 'v02_0240000.jpg', 'v02_0240500.jpg', 'v02_0241000.jpg', 'v02_0241500.jpg', 'v02_0242000.jpg', 'v02_0242500.jpg', 'v02_0243000.jpg', 'v02_0243500.jpg', 'v02_0245000.jpg', 'v02_0245500.jpg', 'v02_0246000.jpg', 'v02_0246500.jpg', 'v02_0247000.jpg', 'v02_0247500.jpg', 'v02_0250250.jpg', 'v02_0250750.jpg', 'v02_0251250.jpg', 'v02_0251750.jpg', 'v02_0252250.jpg', 'v02_0252750.jpg', 'v02_0253250.jpg', 'v02_0253750.jpg', 'v02_0254250.jpg', 'v02_0259000.jpg', 'v02_0259500.jpg', 'v02_0260000.jpg', 'v02_0260500.jpg', 'v02_0261000.jpg', 'v02_0261500.jpg', 'v02_0262000.jpg', 'v03_0440000.jpg', 'v03_0440750.jpg', 'v03_0441500.jpg', 'v03_0441750.jpg', 'v03_0442500.jpg', 'v03_0443000.jpg', 'v03_0443500.jpg', 'v03_0443750.jpg', 'v03_0444000.jpg', 'v03_0444750.jpg', 'v03_0445250.jpg', 'v03_0445750.jpg', 'v03_0446250.jpg', 'v03_0446750.jpg', 'v03_0447250.jpg', 'v03_0447750.jpg', 'v03_0448250.jpg', 'v03_0449250.jpg', 'v03_0449500.jpg', 'v03_0449750.jpg', 'v03_0450250.jpg', 'v03_0450750.jpg', 'v03_0451250.jpg', 'v03_0452000.jpg', 'v03_0452250.jpg', 'v03_0452750.jpg', 'v03_0453250.jpg', 'v03_0453750.jpg', 'v03_0454500.jpg', 'v03_0454750.jpg', 'v03_0455250.jpg', 'v03_0456000.jpg', 'v03_0456500.jpg', 'v03_0457000.jpg', 'v03_0457250.jpg', 'v03_0457750.jpg', 'v03_0458250.jpg', 'v03_0458500.jpg', 'v03_0459250.jpg', 'v03_0459750.jpg', 'v03_0460250.jpg', 'v03_0460750.jpg', 'v03_0461250.jpg', 'v03_0461750.jpg', 'v03_0462250.jpg', 'v03_0462750.jpg', 'v03_0463250.jpg', 'v03_0463750.jpg', 'v03_0464250.jpg', 'v03_0464750.jpg', 'v03_0465250.jpg', 'v03_0465750.jpg', 'v03_0466000.jpg', 'v03_0466500.jpg', 'v03_0467250.jpg', 'v03_0467750.jpg', 'v03_0468250.jpg', 'v03_0468750.jpg', 'v03_0469250.jpg', 'v03_0469750.jpg', 'v03_0470250.jpg', 'v03_0470500.jpg', 'v03_0471000.jpg', 'v03_0471500.jpg', 'v03_0472000.jpg', 'v03_0472500.jpg', 'v03_0473000.jpg', 'v03_0473750.jpg', 'v03_0474250.jpg', 'v03_0474750.jpg', 'v03_0475250.jpg', 'v03_0475750.jpg', 'v03_0476250.jpg', 'v03_0476750.jpg', 'v03_0477250.jpg', 'v03_0479000.jpg', 'v03_0479500.jpg', 'v03_0480001.jpg', 'v03_0480500.jpg', 'v03_0481000.jpg', 'v03_0481500.jpg', 'v03_0482000.jpg', 'v03_0482500.jpg', 'v03_0483000.jpg', 'v03_0483500.jpg', 'v03_0484000.jpg', 'v03_0484500.jpg', 'v03_0485000.jpg', 'v03_0485500.jpg', 'v03_0486000.jpg', 'v03_0486500.jpg', 'v03_0487000.jpg', 'v03_0487500.jpg', 'v03_0488000.jpg', 'v03_0488500.jpg', 'v03_0489000.jpg', 'v03_0489500.jpg', 'v03_0490000.jpg', 'v03_0490500.jpg', 'v03_0491000.jpg', 'v03_0491500.jpg', 'v03_0492000.jpg', 'v03_0492500.jpg', 'v03_0493000.jpg', 'v03_0493500.jpg', 'v03_0494000.jpg', 'v03_0494500.jpg', 'v03_0495000.jpg', 'v03_0495500.jpg', 'v03_0496000.jpg', 'v03_0496500.jpg', 'v03_0497000.jpg', 'v03_0497500.jpg', 'v03_0498000.jpg', 'v03_0498500.jpg', 'v03_0499000.jpg', 'v03_0499500.jpg', 'v03_0500000.jpg', 'v03_0500500.jpg', 'v03_0501000.jpg', 'v03_0501500.jpg', 'v03_0502000.jpg', 'v03_0502500.jpg', 'v03_0503000.jpg', 'v03_0503500.jpg', 'v03_0504000.jpg', 'v03_0504500.jpg', 'v03_0505000.jpg', 'v03_0505500.jpg', 'v03_0506000.jpg', 'v03_0506500.jpg', 'v03_0506750.jpg', 'v03_0511250.jpg', 'v03_0511750.jpg', 'v03_0512250.jpg', 'v03_0513000.jpg', 'v04_0134500.jpg', 'v04_0135000.jpg', 'v04_0135500.jpg', 'v04_0136000.jpg', 'v04_0136500.jpg', 'v04_0137500.jpg', 'v04_0138000.jpg', 'v04_0138500.jpg', 'v04_0139250.jpg', 'v04_0139750.jpg', 'v04_0140250.jpg', 'v04_0140750.jpg', 'v04_0141250.jpg', 'v04_0143500.jpg', 'v04_0144000.jpg', 'v04_0144500.jpg', 'v04_0145500.jpg', 'v04_0146000.jpg', 'v04_0147000.jpg', 'v04_0147750.jpg', 'v04_0148250.jpg', 'v04_0148750.jpg', 'v04_0149250.jpg', 'v04_0149750.jpg', 'v04_0150250.jpg', 'v04_0150750.jpg', 'v05_0310250.jpg', 'v05_0310750.jpg', 'v05_0311250.jpg', 'v05_0311750.jpg', 'v05_0312250.jpg', 'v05_0312750.jpg', 'v05_0313250.jpg', 'v05_0313750.jpg', 'v05_0314250.jpg', 'v05_0314750.jpg', 'v05_0315250.jpg', 'v05_0315750.jpg', 'v06_0329750.jpg', 'v06_0330500.jpg', 'v06_0331000.jpg', 'v06_0332250.jpg', 'v06_0332500.jpg', 'v06_0332750.jpg', 'v06_0333500.jpg', 'v06_0334000.jpg', 'v06_0335500.jpg', 'v06_0336000.jpg', 'v06_0336750.jpg', 'v06_0337250.jpg', 'v06_0337750.jpg', 'v06_0338250.jpg', 'v06_0339250.jpg', 'v06_0339500.jpg', 'v06_0339750.jpg', 'v06_0340250.jpg', 'v06_0340500.jpg', 'v06_0341500.jpg', 'v06_0342000.jpg', 'v06_0342500.jpg', 'v07_0182000.jpg', 'v07_0182750.jpg', 'v07_0183250.jpg', 'v07_0184000.jpg', 'v07_0184500.jpg', 'v07_0184750.jpg', 'v07_0185000.jpg', 'v07_0186000.jpg', 'v07_0186500.jpg', 'v07_0187000.jpg', 'v07_0187500.jpg', 'v07_0188000.jpg', 'v07_0188750.jpg', 'v07_0189250.jpg', 'v07_0189750.jpg', 'v07_0190250.jpg', 'v07_0190750.jpg', 'v07_0191250.jpg', 'v07_0202750.jpg', 'v07_0203250.jpg', 'v07_0203750.jpg', 'v07_0204250.jpg', 'v08_0126000.jpg', 'v08_0126500.jpg', 'v08_0128250.jpg', 'v08_0128500.jpg', 'v08_0128750.jpg', 'v08_0129000.jpg', 'v08_0129500.jpg', 'v08_0130000.jpg', 'v08_0130500.jpg', 'v08_0131000.jpg', 'v08_0131500.jpg', 'v08_0143000.jpg', 'v08_0143500.jpg', 'v08_0144000.jpg', 'v08_0144500.jpg', 'v08_0145000.jpg', 'v08_0145500.jpg', 'v08_0146000.jpg', 'v08_0146500.jpg', 'v08_0147000.jpg', 'v08_0147500.jpg', 'v08_0148000.jpg', 'v08_0148500.jpg', 'v08_0149000.jpg', 'v08_0149500.jpg', 'v09_0126250.jpg', 'v09_0126750.jpg', 'v09_0127250.jpg', 'v09_0127750.jpg', 'v09_0128250.jpg', 'v09_0128750.jpg', 'v09_0129250.jpg', 'v09_0129750.jpg', 'v09_0130250.jpg', 'v09_0130750.jpg', 'v09_0131250.jpg', 'v09_0131750.jpg', 'v09_0132250.jpg', 'v09_0132750.jpg', 'v09_0133250.jpg', 'v09_0133750.jpg', 'v09_0134250.jpg', 'v10_0194500.jpg', 'v10_0195000.jpg', 'v10_0195500.jpg', 'v10_0196000.jpg', 'v10_0196500.jpg', 'v10_0197000.jpg', 'v10_0197500.jpg', 'v10_0198000.jpg', 'v10_0198500.jpg', 'v10_0199000.jpg', 'v10_0199500.jpg', 'v10_0200000.jpg', 'v10_0200500.jpg', 'v10_0201500.jpg', 'v10_0202000.jpg', 'v10_0202500.jpg', 'v10_0215000.jpg', 'v10_0215250.jpg', 'v10_0238500.jpg', 'v10_0239000.jpg', 'v10_0239500.jpg', 'v10_0240000.jpg', 'v10_0240500.jpg', 'v10_0241000.jpg', 'v10_0241500.jpg', 'v10_0242000.jpg', 'v10_0242500.jpg', 'v10_0243000.jpg', 'v10_0243500.jpg', 'v10_0244000.jpg', 'v10_0244500.jpg', 'v10_0245000.jpg', 'v10_0245500.jpg', 'v10_0246000.jpg', 'v10_0246500.jpg', 'v10_0247000.jpg', 'v10_0247500.jpg', 'v10_0248000.jpg', 'v10_0248500.jpg', 'v10_0249000.jpg', 'v10_0249500.jpg', 'v10_0250000.jpg', 'v10_0250500.jpg', 'v10_0251000.jpg', 'v10_0251500.jpg', 'v10_0252000.jpg', 'v10_0252500.jpg', 'v10_0253000.jpg', 'v10_0253500.jpg', 'v10_0254500.jpg', 'v10_0255000.jpg', 'v10_0255500.jpg', 'v10_0256000.jpg', 'v10_0256500.jpg', 'v10_0257000.jpg', 'v10_0257500.jpg', 'v10_0316250.jpg', 'v10_0316750.jpg', 'v10_0317250.jpg', 'v10_0317750.jpg', 'v10_0318250.jpg', 'v10_0318750.jpg', 'v10_0319250.jpg', 'v10_0319750.jpg', 'v10_0320250.jpg', 'v10_0320750.jpg', 'v10_0321250.jpg', 'v10_0321750.jpg', 'v10_0322250.jpg', 'v10_0322750.jpg', 'v10_0323250.jpg', 'v10_0323750.jpg', 'v10_0324250.jpg', 'v10_0324750.jpg', 'v10_0325250.jpg', 'v10_0325750.jpg', 'v10_0326250.jpg', 'v10_0326750.jpg', 'v10_0327250.jpg', 'v10_0327750.jpg', 'v10_0328250.jpg', 'v10_0328750.jpg', 'v10_0329250.jpg', 'v10_0329750.jpg', 'v10_0330250.jpg', 'v10_0330750.jpg', 'v10_0331250.jpg', 'v10_0331750.jpg', 'v10_0332250.jpg', 'v10_0332750.jpg', 'v10_0333250.jpg']\n",
      "['v01_0275500.jpg', 'v01_0275750.jpg', 'v01_0276002.jpg', 'v01_0276250.jpg', 'v01_0276500.jpg', 'v01_0276752.jpg', 'v01_0277000.jpg', 'v01_0277250.jpg', 'v01_0277502.jpg', 'v01_0277750.jpg', 'v01_0278000.jpg', 'v01_0278252.jpg', 'v01_0278500.jpg', 'v01_0278750.jpg', 'v01_0279002.jpg', 'v01_0279250.jpg', 'v01_0279500.jpg', 'v01_0279752.jpg', 'v01_0280000.jpg', 'v01_0280250.jpg', 'v01_0280502.jpg', 'v01_0280750.jpg', 'v01_0281000.jpg', 'v01_0281252.jpg', 'v01_0281500.jpg', 'v01_0281750.jpg', 'v01_0282002.jpg', 'v01_0282250.jpg', 'v01_0282500.jpg', 'v01_0282752.jpg', 'v01_0283000.jpg', 'v01_0283250.jpg', 'v01_0283502.jpg', 'v01_0283750.jpg', 'v01_0284000.jpg', 'v01_0284252.jpg', 'v01_0284500.jpg', 'v01_0284750.jpg', 'v01_0285002.jpg', 'v01_0285250.jpg', 'v01_0285500.jpg', 'v01_0285752.jpg', 'v01_0286000.jpg', 'v01_0286250.jpg', 'v01_0286502.jpg', 'v01_0286750.jpg', 'v01_0287252.jpg', 'v01_0287500.jpg', 'v01_0287750.jpg', 'v02_0265751.jpg', 'v02_0266250.jpg', 'v02_0266500.jpg', 'v02_0266750.jpg', 'v02_0267000.jpg', 'v02_0267250.jpg', 'v02_0267500.jpg', 'v02_0267750.jpg', 'v02_0268000.jpg', 'v02_0268250.jpg', 'v02_0268500.jpg', 'v02_0268750.jpg', 'v02_0269000.jpg', 'v02_0269250.jpg', 'v02_0269500.jpg', 'v02_0270000.jpg', 'v02_0270250.jpg', 'v02_0270500.jpg', 'v02_0270750.jpg', 'v02_0271000.jpg', 'v02_0271250.jpg', 'v02_0271500.jpg', 'v02_0271750.jpg', 'v02_0272000.jpg', 'v02_0272250.jpg', 'v03_0518751.jpg', 'v03_0519001.jpg', 'v03_0519251.jpg', 'v03_0519501.jpg', 'v03_0519751.jpg', 'v03_0520001.jpg', 'v03_0520250.jpg', 'v03_0520500.jpg', 'v03_0520750.jpg', 'v03_0524750.jpg', 'v03_0525000.jpg', 'v03_0525250.jpg', 'v03_0525500.jpg', 'v03_0525751.jpg', 'v03_0526001.jpg', 'v03_0526251.jpg', 'v03_0528501.jpg', 'v03_0528751.jpg', 'v03_0529000.jpg', 'v03_0529250.jpg', 'v03_0530000.jpg', 'v03_0530250.jpg', 'v03_0530500.jpg', 'v03_0531500.jpg', 'v03_0531750.jpg', 'v03_0532000.jpg', 'v03_0532250.jpg', 'v03_0532500.jpg', 'v03_0532750.jpg', 'v03_0533000.jpg', 'v03_0533250.jpg', 'v03_0533500.jpg', 'v03_0533750.jpg', 'v03_0534000.jpg', 'v03_0534250.jpg', 'v03_0534500.jpg', 'v03_0534750.jpg', 'v03_0535000.jpg', 'v03_0535250.jpg', 'v03_0535500.jpg', 'v03_0535750.jpg', 'v03_0536000.jpg', 'v03_0536250.jpg', 'v03_0536500.jpg', 'v03_0536750.jpg', 'v03_0537000.jpg', 'v03_0537250.jpg', 'v03_0537500.jpg', 'v03_0537750.jpg', 'v03_0538000.jpg', 'v03_0538250.jpg', 'v03_0538500.jpg', 'v03_0538750.jpg', 'v03_0539000.jpg', 'v03_0539250.jpg', 'v03_0539500.jpg', 'v03_0539750.jpg', 'v03_0540000.jpg', 'v03_0540250.jpg', 'v03_0540500.jpg', 'v03_0541750.jpg', 'v03_0542000.jpg', 'v03_0542250.jpg', 'v03_0542500.jpg', 'v03_0542750.jpg', 'v03_0544001.jpg', 'v03_0544251.jpg', 'v03_0544501.jpg', 'v03_0544751.jpg', 'v03_0545000.jpg', 'v03_0545250.jpg', 'v03_0545501.jpg', 'v03_0545751.jpg', 'v03_0546001.jpg', 'v03_0546251.jpg', 'v03_0546501.jpg', 'v03_0546750.jpg', 'v03_0547000.jpg', 'v03_0547250.jpg', 'v03_0547500.jpg', 'v03_0547750.jpg', 'v03_0548500.jpg', 'v03_0548750.jpg', 'v03_0550750.jpg', 'v03_0551000.jpg', 'v03_0551250.jpg', 'v03_0551500.jpg', 'v03_0551752.jpg', 'v03_0552002.jpg', 'v03_0552252.jpg', 'v03_0552502.jpg', 'v03_0552752.jpg', 'v03_0553002.jpg', 'v03_0553252.jpg', 'v03_0553502.jpg', 'v03_0553752.jpg', 'v03_0554002.jpg', 'v03_0554252.jpg', 'v03_0554502.jpg', 'v03_0554752.jpg', 'v03_0555002.jpg', 'v03_0555250.jpg', 'v03_0555500.jpg', 'v03_0555750.jpg', 'v03_0556000.jpg', 'v03_0556250.jpg', 'v03_0562251.jpg', 'v03_0562501.jpg', 'v03_0562751.jpg', 'v03_0563001.jpg', 'v03_0563251.jpg', 'v03_0563501.jpg', 'v03_0563750.jpg', 'v03_0564000.jpg', 'v03_0564250.jpg', 'v03_0564500.jpg', 'v03_0564750.jpg', 'v03_0565000.jpg', 'v03_0565250.jpg', 'v03_0565500.jpg', 'v03_0565750.jpg', 'v03_0566000.jpg', 'v03_0566250.jpg', 'v03_0566500.jpg', 'v03_0566750.jpg', 'v03_0567000.jpg', 'v03_0567250.jpg', 'v04_0153001.jpg', 'v04_0153251.jpg', 'v04_0153501.jpg', 'v04_0153751.jpg', 'v04_0154001.jpg', 'v04_0154251.jpg', 'v04_0154501.jpg', 'v04_0154751.jpg', 'v04_0155001.jpg', 'v04_0155250.jpg', 'v04_0155501.jpg', 'v04_0155750.jpg', 'v04_0156000.jpg', 'v04_0156250.jpg', 'v04_0156500.jpg', 'v04_0156750.jpg', 'v04_0157000.jpg', 'v04_0157250.jpg', 'v04_0157500.jpg', 'v04_0157750.jpg', 'v04_0158000.jpg', 'v04_0158250.jpg', 'v04_0158500.jpg', 'v05_0320001.jpg', 'v05_0320251.jpg', 'v05_0320500.jpg', 'v05_0320750.jpg', 'v05_0321000.jpg', 'v05_0321250.jpg', 'v05_0321500.jpg', 'v05_0321750.jpg', 'v05_0322000.jpg', 'v05_0322250.jpg', 'v05_0322500.jpg', 'v05_0322750.jpg', 'v05_0323000.jpg', 'v05_0323250.jpg', 'v05_0323500.jpg', 'v05_0323750.jpg', 'v05_0324000.jpg', 'v05_0324250.jpg', 'v05_0324500.jpg', 'v06_0345001.jpg', 'v06_0345251.jpg', 'v06_0345501.jpg', 'v06_0345751.jpg', 'v06_0346001.jpg', 'v06_0346251.jpg', 'v06_0346501.jpg', 'v06_0346751.jpg', 'v06_0347001.jpg', 'v06_0347251.jpg', 'v06_0347501.jpg', 'v06_0347751.jpg', 'v06_0348001.jpg', 'v06_0348251.jpg', 'v06_0348501.jpg', 'v06_0348751.jpg', 'v06_0349001.jpg', 'v06_0349251.jpg', 'v07_0194000.jpg', 'v07_0194250.jpg', 'v07_0194500.jpg', 'v07_0194750.jpg', 'v07_0195000.jpg', 'v07_0195250.jpg', 'v07_0195500.jpg', 'v07_0195750.jpg', 'v07_0196000.jpg', 'v07_0196250.jpg', 'v07_0196500.jpg', 'v07_0196750.jpg', 'v07_0197000.jpg', 'v07_0197250.jpg', 'v07_0197500.jpg', 'v07_0197750.jpg', 'v07_0198000.jpg', 'v07_0198250.jpg', 'v07_0198500.jpg', 'v07_0206000.jpg', 'v07_0206250.jpg', 'v07_0206500.jpg', 'v08_0134750.jpg', 'v08_0135000.jpg', 'v08_0135250.jpg', 'v08_0135500.jpg', 'v08_0135750.jpg', 'v08_0136000.jpg', 'v08_0136250.jpg', 'v08_0136500.jpg', 'v08_0136750.jpg', 'v08_0137000.jpg', 'v08_0137250.jpg', 'v08_0137500.jpg', 'v08_0137750.jpg', 'v08_0138000.jpg', 'v08_0138250.jpg', 'v08_0138500.jpg', 'v08_0138750.jpg', 'v08_0139000.jpg', 'v08_0139250.jpg', 'v08_0139500.jpg', 'v08_0139750.jpg', 'v08_0153001.jpg', 'v08_0153251.jpg', 'v08_0153501.jpg', 'v08_0153751.jpg', 'v08_0154000.jpg', 'v08_0154250.jpg', 'v08_0154500.jpg', 'v08_0154750.jpg', 'v08_0155000.jpg', 'v08_0155250.jpg', 'v08_0155500.jpg', 'v08_0155750.jpg', 'v08_0156000.jpg', 'v08_0156250.jpg', 'v08_0156500.jpg', 'v08_0156750.jpg', 'v08_0157000.jpg', 'v09_0136250.jpg', 'v09_0136500.jpg', 'v09_0136750.jpg', 'v09_0137000.jpg', 'v09_0137250.jpg', 'v09_0137500.jpg', 'v09_0137750.jpg', 'v09_0138000.jpg', 'v09_0138250.jpg', 'v09_0138500.jpg', 'v09_0138750.jpg', 'v09_0139000.jpg', 'v09_0139250.jpg', 'v09_0139500.jpg', 'v10_0339250.jpg', 'v10_0339500.jpg', 'v10_0339750.jpg', 'v10_0340000.jpg', 'v10_0340750.jpg', 'v10_0341000.jpg', 'v10_0341250.jpg', 'v10_0341500.jpg', 'v10_0341750.jpg', 'v10_0342000.jpg', 'v10_0342250.jpg', 'v10_0342500.jpg', 'v10_0342750.jpg', 'v10_0343000.jpg', 'v10_0343250.jpg', 'v10_0343500.jpg', 'v10_0343750.jpg', 'v10_0344000.jpg', 'v10_0344250.jpg', 'v10_0344500.jpg', 'v10_0344750.jpg', 'v10_0345000.jpg', 'v10_0345250.jpg', 'v10_0345500.jpg', 'v10_0345750.jpg', 'v10_0346000.jpg', 'v10_0346250.jpg', 'v10_0346500.jpg', 'v10_0346750.jpg', 'v10_0347000.jpg', 'v10_0347250.jpg', 'v10_0347500.jpg', 'v10_0347750.jpg', 'v10_0348000.jpg', 'v10_0348250.jpg', 'v10_0348500.jpg', 'v10_0348750.jpg', 'v10_0349000.jpg', 'v10_0349250.jpg', 'v10_0349500.jpg', 'v10_0349750.jpg', 'v10_0350000.jpg', 'v10_0350250.jpg', 'v10_0350500.jpg', 'v10_0350750.jpg', 'v10_0351000.jpg', 'v10_0351250.jpg', 'v10_0351500.jpg', 'v10_0351750.jpg', 'v10_0352000.jpg', 'v10_0352250.jpg', 'v10_0352500.jpg', 'v10_0352750.jpg']\n",
      "['v01_0171250.jpg', 'v01_0180000.jpg', 'v01_0313250.jpg', 'v01_0320750.jpg', 'v01_0334250.jpg', 'v01_0343000.jpg', 'v01_0353251.jpg', 'v01_0423000.jpg', 'v01_0429250.jpg', 'v01_0444750.jpg', 'v01_0512000.jpg', 'v02_0099500.jpg', 'v02_0105750.jpg', 'v02_0112000.jpg', 'v02_0150500.jpg', 'v02_0156750.jpg', 'v02_0163000.jpg', 'v02_0169250.jpg', 'v02_0175500.jpg', 'v02_0209250.jpg', 'v02_0215750.jpg', 'v02_0223250.jpg', 'v02_0278500.jpg', 'v02_0284750.jpg', 'v02_0291000.jpg', 'v02_0297250.jpg', 'v02_0303500.jpg', 'v02_0309750.jpg', 'v02_0316000.jpg', 'v02_0322250.jpg', 'v02_0328500.jpg', 'v02_0334750.jpg', 'v02_0341000.jpg', 'v02_0350750.jpg', 'v02_0357000.jpg', 'v02_0363250.jpg', 'v02_0369500.jpg', 'v02_0377000.jpg', 'v02_0383750.jpg', 'v02_0391750.jpg', 'v02_0398000.jpg', 'v03_0065500.jpg', 'v03_0071750.jpg', 'v03_0078000.jpg', 'v03_0088000.jpg', 'v03_0101500.jpg', 'v03_0107750.jpg', 'v03_0124500.jpg', 'v03_0134000.jpg', 'v03_0140250.jpg', 'v03_0146500.jpg', 'v03_0152750.jpg', 'v03_0159000.jpg', 'v03_0165250.jpg', 'v03_0172750.jpg', 'v03_0179000.jpg', 'v03_0185250.jpg', 'v03_0191750.jpg', 'v03_0198750.jpg', 'v03_0206000.jpg', 'v03_0212250.jpg', 'v03_0218500.jpg', 'v03_0224750.jpg', 'v03_0231000.jpg', 'v03_0237250.jpg', 'v03_0245500.jpg', 'v03_0252500.jpg', 'v03_0259500.jpg', 'v03_0266250.jpg', 'v03_0280750.jpg', 'v03_0326750.jpg', 'v03_0333500.jpg', 'v03_0361250.jpg', 'v03_0368500.jpg', 'v03_0377500.jpg', 'v03_0389250.jpg', 'v03_0402250.jpg', 'v03_0417250.jpg', 'v03_0574500.jpg', 'v03_0580750.jpg', 'v03_0587000.jpg', 'v03_0594500.jpg', 'v03_0603750.jpg', 'v03_0610000.jpg', 'v03_0616250.jpg', 'v03_0622500.jpg', 'v03_0628750.jpg', 'v03_0648250.jpg', 'v03_0657500.jpg', 'v03_0663750.jpg', 'v03_0671500.jpg', 'v03_0694500.jpg', 'v03_0701750.jpg', 'v03_0714000.jpg', 'v03_0720250.jpg', 'v03_0726500.jpg', 'v03_0732750.jpg', 'v03_0758500.jpg', 'v03_0769000.jpg', 'v03_0775250.jpg', 'v03_0795750.jpg', 'v03_0802250.jpg', 'v03_0808500.jpg', 'v03_0815000.jpg', 'v03_0823000.jpg', 'v03_0840250.jpg', 'v03_0846500.jpg', 'v03_0853000.jpg', 'v03_0862250.jpg', 'v03_0868500.jpg', 'v03_0874750.jpg', 'v03_0881500.jpg', 'v03_0888000.jpg', 'v03_0894250.jpg', 'v03_0900500.jpg', 'v03_0906750.jpg', 'v03_0914500.jpg', 'v03_0920750.jpg', 'v03_0940000.jpg', 'v03_0951000.jpg', 'v03_0979000.jpg', 'v03_1014250.jpg', 'v03_1025500.jpg', 'v03_1038750.jpg', 'v03_1046000.jpg', 'v03_1054000.jpg', 'v04_0102500.jpg', 'v04_0126250.jpg', 'v04_0163500.jpg', 'v04_0169750.jpg', 'v04_0176500.jpg', 'v04_0182750.jpg', 'v04_0190000.jpg', 'v04_0196250.jpg', 'v04_0211750.jpg', 'v05_0077750.jpg', 'v05_0088500.jpg', 'v05_0094750.jpg', 'v05_0109750.jpg', 'v05_0119500.jpg', 'v05_0125750.jpg', 'v05_0132000.jpg', 'v05_0138500.jpg', 'v05_0144750.jpg', 'v05_0151250.jpg', 'v05_0157500.jpg', 'v05_0166000.jpg', 'v05_0173500.jpg', 'v05_0179750.jpg', 'v05_0188250.jpg', 'v05_0194750.jpg', 'v05_0201750.jpg', 'v05_0208250.jpg', 'v05_0216000.jpg', 'v05_0225500.jpg', 'v05_0233250.jpg', 'v05_0243750.jpg', 'v05_0253250.jpg', 'v05_0265000.jpg', 'v05_0274750.jpg', 'v05_0283750.jpg', 'v05_0292750.jpg', 'v05_0299500.jpg', 'v05_0328500.jpg', 'v05_0335000.jpg', 'v05_0342000.jpg', 'v05_0348250.jpg', 'v05_0355250.jpg', 'v05_0369000.jpg', 'v05_0377500.jpg', 'v05_0383750.jpg', 'v05_0390000.jpg', 'v05_0396250.jpg', 'v05_0402500.jpg', 'v05_0408750.jpg', 'v05_0415000.jpg', 'v05_0430500.jpg', 'v05_0441000.jpg', 'v05_0447250.jpg', 'v05_0453500.jpg', 'v05_0459750.jpg', 'v05_0466000.jpg', 'v05_0472250.jpg', 'v05_0479250.jpg', 'v05_0485750.jpg', 'v05_0495750.jpg', 'v05_0503250.jpg', 'v05_0510000.jpg', 'v05_0517500.jpg', 'v05_0528500.jpg', 'v05_0536250.jpg', 'v06_0097250.jpg', 'v06_0266250.jpg', 'v06_0273500.jpg', 'v06_0280750.jpg', 'v06_0287000.jpg', 'v06_0293250.jpg', 'v06_0299500.jpg', 'v06_0310000.jpg', 'v06_0321750.jpg', 'v06_0361500.jpg', 'v06_0414000.jpg', 'v06_0540000.jpg', 'v06_0551000.jpg', 'v07_0067500.jpg', 'v07_0073750.jpg', 'v07_0081750.jpg', 'v07_0088000.jpg', 'v07_0110000.jpg', 'v07_0119000.jpg', 'v07_0172500.jpg', 'v07_0210750.jpg', 'v07_0217000.jpg', 'v07_0232000.jpg', 'v07_0238250.jpg', 'v07_0246000.jpg', 'v07_0257250.jpg', 'v08_0036250.jpg', 'v08_0094750.jpg', 'v08_0108750.jpg', 'v08_0115000.jpg', 'v08_0121250.jpg', 'v08_0256250.jpg', 'v08_0263750.jpg', 'v08_0274500.jpg', 'v08_0287750.jpg', 'v08_0314250.jpg', 'v08_0329750.jpg', 'v09_0046750.jpg', 'v09_0071750.jpg', 'v09_0079250.jpg', 'v09_0115500.jpg', 'v09_0121750.jpg', 'v09_0147250.jpg', 'v09_0194500.jpg', 'v09_0202000.jpg', 'v09_0208250.jpg', 'v09_0214500.jpg', 'v09_0220750.jpg', 'v09_0227000.jpg', 'v09_0233250.jpg', 'v09_0239500.jpg', 'v09_0245750.jpg', 'v09_0252000.jpg', 'v09_0272000.jpg', 'v09_0278250.jpg', 'v09_0284500.jpg', 'v09_0290750.jpg', 'v09_0297000.jpg', 'v09_0303250.jpg', 'v09_0309500.jpg', 'v09_0315750.jpg', 'v09_0325750.jpg', 'v09_0334250.jpg', 'v09_0341750.jpg', 'v09_0348000.jpg', 'v09_0354250.jpg', 'v09_0360500.jpg', 'v09_0366750.jpg', 'v09_0379250.jpg', 'v09_0386750.jpg', 'v09_0393000.jpg', 'v09_0400250.jpg', 'v09_0406500.jpg', 'v09_0412750.jpg', 'v09_0423250.jpg', 'v10_0071250.jpg', 'v10_0078250.jpg', 'v10_0085250.jpg', 'v10_0110500.jpg', 'v10_0120000.jpg', 'v10_0126250.jpg', 'v10_0134500.jpg', 'v10_0143750.jpg', 'v10_0150000.jpg', 'v10_0175750.jpg', 'v10_0182250.jpg', 'v10_0279750.jpg', 'v10_0294750.jpg', 'v10_0302500.jpg', 'v10_0309750.jpg', 'v10_0363000.jpg', 'v10_0369250.jpg', 'v10_0375750.jpg', 'v10_0382750.jpg', 'v10_0389000.jpg', 'v10_0395250.jpg', 'v10_0401500.jpg', 'v10_0407750.jpg', 'v10_0414000.jpg', 'v10_0426000.jpg', 'v10_0437500.jpg', 'v10_0450500.jpg', 'v10_0456750.jpg', 'v10_0463000.jpg', 'v10_0475750.jpg', 'v10_0482000.jpg', 'v10_0492500.jpg', 'v10_0501000.jpg', 'v10_0512250.jpg', 'v10_0518500.jpg', 'v10_0528250.jpg', 'v10_0547750.jpg', 'v10_0554000.jpg', 'v10_0562250.jpg', 'v10_0575250.jpg', 'v10_0583750.jpg', 'v10_0596500.jpg']\n",
      "['v02_0074250.jpg', 'v02_0074500.jpg', 'v02_0074750.jpg', 'v02_0075000.jpg', 'v02_0075250.jpg', 'v02_0075500.jpg', 'v02_0075750.jpg', 'v02_0077000.jpg', 'v02_0077250.jpg', 'v02_0078500.jpg', 'v02_0079250.jpg', 'v02_0080000.jpg', 'v02_0081000.jpg', 'v02_0119250.jpg', 'v02_0119500.jpg', 'v02_0119750.jpg', 'v02_0120000.jpg', 'v02_0121500.jpg', 'v02_0121750.jpg', 'v02_0122750.jpg', 'v02_0123500.jpg', 'v02_0124250.jpg', 'v02_0124750.jpg', 'v02_0125250.jpg', 'v02_0125500.jpg', 'v02_0126000.jpg', 'v02_0126250.jpg', 'v02_0126500.jpg', 'v02_0126750.jpg', 'v02_0127000.jpg', 'v02_0127250.jpg', 'v02_0127500.jpg', 'v02_0127750.jpg', 'v02_0128000.jpg', 'v02_0128250.jpg', 'v02_0128500.jpg', 'v02_0128750.jpg', 'v02_0129000.jpg', 'v02_0195750.jpg', 'v02_0196000.jpg', 'v02_0196250.jpg', 'v02_0196500.jpg', 'v02_0196750.jpg', 'v02_0197000.jpg', 'v02_0197250.jpg', 'v02_0197500.jpg', 'v02_0197750.jpg', 'v02_0198000.jpg', 'v02_0432250.jpg', 'v02_0432500.jpg', 'v02_0432750.jpg', 'v02_0433000.jpg', 'v02_0434000.jpg', 'v02_0450750.jpg', 'v02_0451000.jpg', 'v02_0451250.jpg', 'v02_0451750.jpg', 'v02_0452000.jpg', 'v02_0452250.jpg', 'v02_0452500.jpg', 'v02_0452750.jpg', 'v06_0389750.jpg', 'v06_0390000.jpg', 'v06_0390250.jpg', 'v06_0390500.jpg', 'v06_0390750.jpg', 'v06_0391000.jpg', 'v06_0391250.jpg', 'v06_0391500.jpg', 'v06_0391750.jpg', 'v06_0392000.jpg', 'v06_0392250.jpg', 'v06_0392500.jpg', 'v06_0392750.jpg', 'v06_0393000.jpg', 'v06_0393250.jpg', 'v06_0393500.jpg', 'v06_0393750.jpg', 'v06_0394000.jpg', 'v06_0394250.jpg', 'v06_0394500.jpg', 'v06_0394750.jpg', 'v06_0395000.jpg', 'v06_0395250.jpg', 'v06_0395500.jpg', 'v06_0424250.jpg', 'v06_0424500.jpg', 'v06_0424750.jpg', 'v06_0425000.jpg', 'v06_0425250.jpg', 'v06_0425500.jpg', 'v06_0425750.jpg', 'v06_0511500.jpg', 'v06_0512000.jpg', 'v06_0512750.jpg', 'v06_0513250.jpg', 'v06_0513750.jpg', 'v06_0521250.jpg', 'v06_0521750.jpg', 'v06_0557250.jpg', 'v06_0557500.jpg', 'v06_0557750.jpg', 'v06_0558000.jpg', 'v06_0558250.jpg', 'v06_0558500.jpg', 'v06_0558750.jpg', 'v06_0559000.jpg', 'v06_0559250.jpg', 'v06_0559500.jpg', 'v06_0559750.jpg', 'v06_0560000.jpg', 'v06_0560250.jpg', 'v06_0560500.jpg', 'v06_0560750.jpg', 'v06_0561000.jpg', 'v06_0561250.jpg', 'v06_0561500.jpg', 'v06_0561750.jpg', 'v06_0562000.jpg', 'v06_0562250.jpg', 'v06_0562500.jpg', 'v06_0562750.jpg', 'v06_0563250.jpg', 'v06_0563750.jpg', 'v06_0564000.jpg', 'v06_0564750.jpg', 'v06_0565250.jpg', 'v06_0565750.jpg', 'v06_0567500.jpg', 'v06_0569000.jpg', 'v06_0569500.jpg', 'v06_0570250.jpg', 'v06_0570500.jpg', 'v06_0571500.jpg', 'v06_0573000.jpg', 'v06_0575500.jpg', 'v06_0577000.jpg', 'v06_0577250.jpg', 'v06_0577750.jpg', 'v06_0579000.jpg', 'v06_0580500.jpg', 'v06_0580750.jpg', 'v06_0584500.jpg', 'v06_0593000.jpg', 'v06_0594000.jpg', 'v06_0594250.jpg', 'v06_0594500.jpg', 'v06_0595500.jpg', 'v06_0596500.jpg', 'v06_0596750.jpg', 'v06_0597000.jpg', 'v06_0600000.jpg', 'v06_0600500.jpg', 'v06_0628500.jpg', 'v06_0692000.jpg', 'v06_0692500.jpg', 'v06_0694250.jpg', 'v06_0694500.jpg', 'v06_0696250.jpg', 'v06_0696750.jpg', 'v06_0697500.jpg', 'v06_0698250.jpg', 'v06_0699750.jpg', 'v06_0700000.jpg', 'v06_0723250.jpg', 'v06_0723750.jpg', 'v06_0724500.jpg', 'v06_0725750.jpg', 'v06_0726250.jpg', 'v06_0726500.jpg', 'v06_0726750.jpg', 'v06_0727000.jpg', 'v06_0727750.jpg', 'v06_0729000.jpg', 'v06_0729500.jpg', 'v06_0732000.jpg', 'v06_0734750.jpg', 'v06_0735000.jpg', 'v06_0735250.jpg', 'v06_0737500.jpg', 'v06_0737750.jpg', 'v06_0742250.jpg', 'v06_0745250.jpg', 'v07_0149500.jpg', 'v07_0150250.jpg', 'v07_0151750.jpg', 'v07_0152250.jpg', 'v07_0152500.jpg', 'v07_0152750.jpg', 'v07_0153000.jpg', 'v07_0153250.jpg', 'v07_0153500.jpg', 'v07_0153750.jpg', 'v07_0154000.jpg', 'v07_0154250.jpg', 'v07_0154500.jpg', 'v07_0154750.jpg', 'v07_0155000.jpg', 'v07_0155250.jpg', 'v07_0155500.jpg', 'v07_0156500.jpg', 'v07_0156750.jpg', 'v07_0157000.jpg', 'v07_0157250.jpg', 'v07_0159750.jpg', 'v07_0160000.jpg', 'v07_0160250.jpg', 'v07_0160500.jpg', 'v07_0301000.jpg', 'v07_0313000.jpg', 'v07_0313500.jpg', 'v07_0314250.jpg', 'v07_0314500.jpg', 'v07_0314750.jpg', 'v07_0315000.jpg', 'v07_0315250.jpg', 'v07_0317250.jpg', 'v08_0173750.jpg', 'v08_0175000.jpg', 'v08_0175750.jpg', 'v08_0176000.jpg', 'v08_0176250.jpg', 'v08_0177250.jpg', 'v08_0177500.jpg', 'v08_0177750.jpg', 'v08_0178500.jpg', 'v08_0179250.jpg', 'v08_0179500.jpg', 'v08_0180750.jpg', 'v08_0181750.jpg', 'v08_0182750.jpg', 'v08_0183750.jpg', 'v08_0184000.jpg', 'v08_0184250.jpg', 'v08_0184500.jpg', 'v08_0184750.jpg', 'v08_0185000.jpg', 'v08_0185250.jpg', 'v08_0185500.jpg', 'v08_0185750.jpg', 'v08_0186000.jpg', 'v08_0186250.jpg', 'v08_0186500.jpg', 'v08_0187250.jpg', 'v08_0187500.jpg', 'v08_0187750.jpg', 'v08_0188000.jpg', 'v08_0188250.jpg', 'v08_0188500.jpg', 'v08_0188750.jpg', 'v08_0189000.jpg', 'v08_0189250.jpg', 'v08_0189500.jpg', 'v08_0189750.jpg', 'v08_0190000.jpg', 'v08_0190250.jpg', 'v08_0191000.jpg', 'v08_0191250.jpg', 'v08_0191500.jpg', 'v08_0191750.jpg', 'v08_0192000.jpg', 'v08_0192250.jpg', 'v08_0192500.jpg', 'v08_0192750.jpg', 'v08_0193000.jpg', 'v08_0193750.jpg', 'v08_0194000.jpg', 'v08_0194250.jpg', 'v08_0194500.jpg', 'v08_0194750.jpg', 'v08_0195250.jpg', 'v08_0195500.jpg', 'v08_0195750.jpg', 'v08_0196000.jpg', 'v08_0196250.jpg', 'v08_0196500.jpg', 'v08_0196750.jpg', 'v08_0197000.jpg', 'v08_0197250.jpg', 'v08_0197500.jpg', 'v08_0197750.jpg', 'v08_0198000.jpg', 'v08_0198250.jpg', 'v08_0213000.jpg', 'v08_0213250.jpg', 'v08_0213500.jpg', 'v08_0213750.jpg', 'v08_0214000.jpg', 'v08_0214250.jpg', 'v08_0214500.jpg', 'v08_0214750.jpg', 'v08_0215000.jpg', 'v08_0215250.jpg', 'v08_0215500.jpg', 'v08_0215750.jpg', 'v08_0216000.jpg', 'v08_0217000.jpg', 'v08_0217250.jpg', 'v08_0217500.jpg', 'v08_0217750.jpg', 'v08_0219500.jpg', 'v08_0220750.jpg', 'v08_0221000.jpg', 'v08_0222000.jpg', 'v08_0222250.jpg', 'v08_0223500.jpg', 'v08_0223750.jpg', 'v08_0224000.jpg', 'v08_0224250.jpg', 'v08_0224500.jpg', 'v08_0224750.jpg', 'v08_0225250.jpg', 'v08_0225500.jpg', 'v08_0225750.jpg', 'v08_0226000.jpg', 'v08_0226250.jpg', 'v08_0226500.jpg', 'v08_0226750.jpg', 'v08_0227250.jpg', 'v08_0227500.jpg', 'v08_0227750.jpg', 'v08_0228000.jpg', 'v08_0237250.jpg', 'v08_0237500.jpg', 'v08_0237750.jpg', 'v08_0238250.jpg', 'v08_0238500.jpg', 'v08_0238750.jpg', 'v08_0239000.jpg', 'v08_0239250.jpg', 'v08_0239500.jpg', 'v08_0239750.jpg', 'v08_0240000.jpg', 'v08_0240250.jpg', 'v08_0240500.jpg', 'v08_0240750.jpg', 'v08_0241000.jpg', 'v08_0241250.jpg', 'v08_0241500.jpg', 'v08_0241750.jpg', 'v08_0242000.jpg', 'v08_0242250.jpg', 'v08_0242500.jpg', 'v08_0242750.jpg', 'v08_0243000.jpg', 'v08_0243250.jpg', 'v08_0243500.jpg', 'v08_0243750.jpg', 'v08_0244000.jpg', 'v08_0244250.jpg', 'v08_0244500.jpg', 'v08_0385500.jpg', 'v08_0386000.jpg', 'v08_0386250.jpg', 'v08_0386500.jpg', 'v08_0386750.jpg', 'v08_0387000.jpg', 'v08_0387250.jpg', 'v08_0387500.jpg', 'v08_0387750.jpg', 'v08_0388000.jpg', 'v08_0388250.jpg', 'v08_0388500.jpg', 'v08_0388750.jpg', 'v08_0389000.jpg', 'v08_0389250.jpg', 'v08_0389500.jpg', 'v08_0389750.jpg', 'v08_0390000.jpg', 'v08_0390250.jpg', 'v08_0391250.jpg', 'v08_0391500.jpg', 'v08_0392750.jpg', 'v08_0393500.jpg', 'v08_0393750.jpg', 'v08_0394000.jpg', 'v08_0395000.jpg', 'v08_0395250.jpg', 'v08_0395500.jpg', 'v10_0161750.jpg', 'v10_0162000.jpg', 'v10_0162250.jpg', 'v10_0162500.jpg', 'v10_0162750.jpg', 'v10_0163000.jpg', 'v10_0163250.jpg', 'v10_0163500.jpg', 'v10_0163750.jpg', 'v10_0164000.jpg', 'v10_0164250.jpg', 'v10_0164500.jpg', 'v10_0164750.jpg', 'v10_0165000.jpg', 'v10_0165250.jpg', 'v10_0188500.jpg', 'v10_0188750.jpg', 'v10_0189000.jpg', 'v10_0189250.jpg', 'v10_0189500.jpg', 'v10_0189750.jpg', 'v10_0190000.jpg', 'v10_0190250.jpg', 'v10_0209250.jpg', 'v10_0210000.jpg', 'v10_0224750.jpg', 'v10_0225000.jpg', 'v10_0225250.jpg', 'v10_0225500.jpg', 'v10_0225750.jpg', 'v10_0226000.jpg', 'v10_0226250.jpg', 'v10_0226500.jpg', 'v10_0227500.jpg', 'v10_0227750.jpg', 'v10_0228000.jpg', 'v10_0228250.jpg', 'v10_0228500.jpg', 'v10_0228750.jpg', 'v10_0229000.jpg', 'v10_0229250.jpg', 'v10_0229500.jpg', 'v10_0229750.jpg', 'v10_0230000.jpg', 'v10_0230250.jpg', 'v10_0230500.jpg', 'v10_0230750.jpg', 'v10_0231000.jpg', 'v10_0231250.jpg', 'v10_0231500.jpg', 'v10_0231750.jpg', 'v10_0232000.jpg', 'v10_0232250.jpg', 'v10_0232500.jpg', 'v10_0232750.jpg', 'v10_0233000.jpg', 'v10_0233250.jpg', 'v10_0233500.jpg', 'v10_0233750.jpg', 'v10_0234000.jpg', 'v10_0234250.jpg', 'v10_0234500.jpg', 'v10_0234750.jpg', 'v10_0235000.jpg', 'v10_0235250.jpg', 'v10_0260750.jpg', 'v10_0261000.jpg', 'v10_0261250.jpg', 'v10_0261500.jpg', 'v10_0261750.jpg', 'v10_0262000.jpg', 'v10_0262250.jpg', 'v10_0262500.jpg', 'v10_0262750.jpg', 'v10_0263000.jpg', 'v10_0263250.jpg', 'v10_0263500.jpg', 'v10_0263750.jpg', 'v10_0264000.jpg', 'v10_0264250.jpg', 'v10_0264500.jpg', 'v10_0264750.jpg', 'v10_0265000.jpg', 'v10_0265250.jpg', 'v10_0265500.jpg', 'v10_0266000.jpg', 'v10_0266250.jpg', 'v10_0266500.jpg', 'v10_0266750.jpg', 'v10_0267000.jpg', 'v10_0267250.jpg', 'v10_0267500.jpg', 'v10_0267750.jpg', 'v10_0641250.jpg', 'v10_0641500.jpg', 'v10_0641750.jpg', 'v10_0642000.jpg', 'v10_0642250.jpg', 'v10_0642500.jpg', 'v10_0642750.jpg', 'v10_0643750.jpg', 'v10_0644500.jpg', 'v10_0644750.jpg', 'v10_0645500.jpg', 'v10_0645750.jpg', 'v10_0646000.jpg']\n"
     ]
    }
   ],
   "source": [
    "# print(graspList)\n",
    "# print(spec_bag_list)\n",
    "# print(bipolar_list)\n",
    "# print(clipper_list)\n",
    "# print(scissors_list)\n",
    "# print(hook_list)\n",
    "# print(irrigator_list)"
   ]
  },
  {
   "attachments": {},
   "cell_type": "markdown",
   "metadata": {},
   "source": [
    "The outline for a for loop used to create the augmented images.\n",
    "Once the augmented images were created, the lines used to save images were emitted so that the process could remain consistent for future use."
   ]
  },
  {
   "cell_type": "code",
   "execution_count": 65,
   "metadata": {},
   "outputs": [
    {
     "name": "stdout",
     "output_type": "stream",
     "text": [
      "Grasper        1422\n",
      "Irrigator       485\n",
      "SpecimenBag     476\n",
      "Bipolar         450\n",
      "Clipper         400\n",
      "Scissors        388\n",
      "Hook            308\n",
      "Name: class, dtype: int64\n",
      "Grasper        1422\n",
      "Irrigator       970\n",
      "SpecimenBag     952\n",
      "Bipolar         900\n",
      "Clipper         800\n",
      "Scissors        776\n",
      "Hook            616\n",
      "Name: class, dtype: int64\n"
     ]
    }
   ],
   "source": [
    "'''Skip if reduced in use'''\n",
    "\n",
    "os.chdir(cropped_folder)\n",
    "print(class_df[\"class\"].value_counts())\n",
    "class_df_copy = class_df.copy()\n",
    "for index, row in class_df_copy.iterrows():\n",
    "    if row[\"class\"] != \"Grasper\":\n",
    "        cropped_img = cv2.imread(row[\"Cropped File\"])\n",
    "        flipHori = cv2.flip(cropped_img, 1)\n",
    "        flipHoriFile = row[\"Cropped File\"][:-4] + \"Hor.jpg\"\n",
    "        flipVert = cv2.flip(cropped_img, 0)\n",
    "        flipVertFile = row[\"Cropped File\"][:-4] + \"Ver.jpg\"\n",
    "        rotate = random.randint(0, 1)  \n",
    "        flip = random.randint(0, 1)  \n",
    "        if rotate == 0:\n",
    "            rotate_img = cv2.rotate(cropped_img, cv2.ROTATE_90_CLOCKWISE)\n",
    "        if rotate == 1:\n",
    "            rotate_img = cv2.rotate(cropped_img, cv2.ROTATE_90_COUNTERCLOCKWISE)\n",
    "        rotateFile = row[\"Cropped File\"][:-4] + \"Rot.jpg\"\n",
    "        if os.path.exists(flipHoriFile):\n",
    "            new_row = {'filename': row[\"filename\"], 'class':row[\"class\"],\n",
    "                'Cropped File':flipHoriFile}\n",
    "            class_df_copy = class_df_copy.append(new_row, ignore_index=True)\n",
    "\n",
    "        if (os.path.exists(flipVertFile)):\n",
    "            new_row = {'filename': row[\"filename\"],  'class':row[\"class\"],\n",
    "                'Cropped File':flipVertFile}\n",
    "            class_df_copy = class_df_copy.append(new_row, ignore_index=True)\n",
    "\n",
    "        if (os.path.exists(rotateFile)):\n",
    "            new_row = {'filename': row[\"filename\"], 'class':row[\"class\"],\n",
    "                'Cropped File':rotateFile}\n",
    "            class_df_copy = class_df_copy.append(new_row, ignore_index=True)\n",
    "\n",
    "\n",
    "class_df = class_df_copy\n",
    "class_df\n",
    "print(class_df[\"class\"].value_counts())"
   ]
  },
  {
   "attachments": {},
   "cell_type": "markdown",
   "metadata": {},
   "source": [
    "Function used to find negative samples within an image"
   ]
  },
  {
   "cell_type": "code",
   "execution_count": 66,
   "metadata": {},
   "outputs": [],
   "source": [
    "def findNeg(box_list, im_width, im_height):\n",
    "    found = False\n",
    "    while found == False:\n",
    "        inbox = False\n",
    "        randx = random.randint(0, im_width-50)   \n",
    "        randy = random.randint(0, im_height-50) \n",
    "        for box in box_list:\n",
    "            if ((randx >= box[0] and randx <= box[1] and randy >= box[2] and randy <= box[3]) \n",
    "            or (randx + 50 >= box[0] and randx + 50 <= box[1] and randy + 50 >= box[2] and randy + 50 <= box[3])):\n",
    "                inbox = True\n",
    "        if inbox == False:\n",
    "            box_list.append([randx, randx + 50, randy, randy + 50])\n",
    "            return(randx, randy, box_list)     "
   ]
  },
  {
   "attachments": {},
   "cell_type": "markdown",
   "metadata": {},
   "source": [
    "For loop used to create negative samples for all original images.\n",
    "NOTE: This will not run properly unless the correct directories are present"
   ]
  },
  {
   "cell_type": "code",
   "execution_count": null,
   "metadata": {},
   "outputs": [],
   "source": [
    "'''Creates two negative (no tool presence) images per original image'''\n",
    "'''DONT TOUCH'''\n",
    "\n",
    "NEG_PATH = os.path.join(rootdir_folder,'NegativeImages')\n",
    "if not os.path.exists(NEG_PATH):\n",
    "    os.mkdir(NEG_PATH)\n",
    "filename = \"\"\n",
    "box_list = []\n",
    "\n",
    "for index, row in class_df.iterrows():\n",
    "    if filename == row[\"filename\"] or index == 0:\n",
    "        box_list.append([row[\"xmin\"],row[\"xmax\"],row[\"ymin\"],row[\"ymax\"]])\n",
    "\n",
    "\n",
    "    else:\n",
    "        xneg1, yneg1, box_list = findNeg(box_list, row[\"img_width\"], row[\"img_height\"])\n",
    "        xneg2, yneg2, box_list = findNeg(box_list, row[\"img_width\"], row[\"img_height\"])\n",
    "        os.chdir(raw_folder)\n",
    "        img = Image.open(filename)\n",
    "        img_crop1 = img.crop((xneg1, yneg1, xneg1 + 50, yneg1 + 50))\n",
    "        img_crop2 = img.crop((xneg2, yneg2, xneg2 + 50, yneg2 + 50))\n",
    "        os.chdir(neg_folder)\n",
    "        newfile1 = filename[:-4] + \"neg1.jpg\"\n",
    "        newfile2 = filename[:-4] + \"neg2.jpg\"\n",
    "        # img_crop1.save(newfile1)\n",
    "        # img_crop2.save(newfile2)\n",
    "        box_list = [[row[\"xmin\"], row[\"xmax\"], row[\"ymin\"], row[\"ymax\"]]]    \n",
    "\n",
    "    filename = row[\"filename\"]\n",
    "    if index == 3928:\n",
    "        xneg1, yneg1, box_list = findNeg(box_list, row[\"img_width\"], row[\"img_height\"])\n",
    "        xneg2, yneg2, box_list = findNeg(box_list, row[\"img_width\"], row[\"img_height\"])\n",
    "        os.chdir(raw_folder)\n",
    "        img = Image.open(filename)\n",
    "        img_crop1 = img.crop((xneg1, yneg1, xneg1 + 50, yneg1 + 50))\n",
    "        img_crop2 = img.crop((xneg2, yneg2, xneg2 + 50, yneg2 + 50))\n",
    "        os.chdir(neg_folder)\n",
    "        newfile1 = filename[:-4] + \"neg1.jpg\"\n",
    "        newfile2 = filename[:-4] + \"neg2.jpg\"\n",
    "        # img_crop1.save(newfile1)\n",
    "        # img_crop2.save(newfile2)\n",
    "\n",
    "        "
   ]
  },
  {
   "attachments": {},
   "cell_type": "markdown",
   "metadata": {},
   "source": [
    "Function designed to randomly reduce the size of a list. NOTE: This function does not provide reproducability so was used exclusively for one time use or when reproducability is not a factor. "
   ]
  },
  {
   "cell_type": "code",
   "execution_count": 68,
   "metadata": {},
   "outputs": [],
   "source": [
    "def getReduced(full_list, value):\n",
    "    reduced_list = []\n",
    "    while len(reduced_list) < value:\n",
    "        randInt = random.randint(0,len(full_list)-1)\n",
    "        if(full_list[randInt] not in reduced_list):\n",
    "            reduced_list.append(full_list[randInt])\n",
    "    give_list = reduced_list.copy()\n",
    "    return give_list"
   ]
  },
  {
   "attachments": {},
   "cell_type": "markdown",
   "metadata": {},
   "source": [
    "getReduced applied to appropriate lists to solve class imbalance"
   ]
  },
  {
   "cell_type": "code",
   "execution_count": 71,
   "metadata": {},
   "outputs": [],
   "source": [
    "# red_spec = getReduced(spec_bag_list,9)\n",
    "# red_bipo = getReduced(bipolar_list,35)\n",
    "# red_clip = getReduced(clipper_list,85)\n",
    "# red_scis = getReduced(scissors_list,97)\n",
    "# red_hook = getReduced(hook_list,177)\n",
    "# graspList = getReduced(graspList, 485)\n",
    "# print(red_hook)\n",
    "\n",
    "\n"
   ]
  },
  {
   "attachments": {},
   "cell_type": "markdown",
   "metadata": {},
   "source": [
    "Varifies the instances of each class"
   ]
  },
  {
   "cell_type": "code",
   "execution_count": 70,
   "metadata": {},
   "outputs": [
    {
     "name": "stdout",
     "output_type": "stream",
     "text": [
      "476\n",
      "450\n",
      "400\n",
      "388\n",
      "308\n",
      "485\n"
     ]
    }
   ],
   "source": [
    "print(len(spec_bag_list))\n",
    "print(len(bipolar_list))\n",
    "print(len(clipper_list))\n",
    "print(len(scissors_list))\n",
    "print(len(hook_list))\n",
    "print(len(graspList))"
   ]
  },
  {
   "attachments": {},
   "cell_type": "markdown",
   "metadata": {},
   "source": [
    "Creates the reduced data frame, used for the majority of model creation"
   ]
  },
  {
   "cell_type": "code",
   "execution_count": null,
   "metadata": {},
   "outputs": [],
   "source": [
    "red_class_df = class_df.copy()\n",
    "reduced_df = pd.DataFrame()\n",
    "for index, row in red_class_df.iterrows():\n",
    "    if row[\"class\"] == \"Grasper\":\n",
    "        if row[\"Cropped File\"] in  graspList:\n",
    "            reduced_df = reduced_df.append(row, ignore_index=True)\n",
    "    if row[\"class\"] == \"SpecimenBag\":\n",
    "        if row[\"Cropped File\"] in  spec_bag_list:\n",
    "            reduced_df = reduced_df.append(row, ignore_index=True)\n",
    "    if row[\"class\"] == \"Bipolar\":\n",
    "        if row[\"Cropped File\"] in  bipolar_list:\n",
    "            reduced_df = reduced_df.append(row, ignore_index=True)\n",
    "    if row[\"class\"] == \"Clipper\":\n",
    "        if row[\"Cropped File\"] in  clipper_list:\n",
    "            reduced_df = reduced_df.append(row, ignore_index=True)\n",
    "    if row[\"class\"] == \"Scissors\":\n",
    "        if row[\"Cropped File\"] in  scissors_list:\n",
    "            reduced_df = reduced_df.append(row, ignore_index=True)\n",
    "    if row[\"class\"] == \"Hook\":\n",
    "        if row[\"Cropped File\"] in  hook_list:\n",
    "            reduced_df = reduced_df.append(row, ignore_index=True)\n",
    "    if row[\"class\"] == \"Irrigator\":\n",
    "        if row[\"Cropped File\"] in  irrigator_list:\n",
    "            reduced_df = reduced_df.append(row, ignore_index=True)\n",
    "\n",
    "print(reduced_df[\"class\"].value_counts())\n",
    "reduced_df"
   ]
  },
  {
   "attachments": {},
   "cell_type": "markdown",
   "metadata": {},
   "source": [
    "Adds negative samples to data frame"
   ]
  },
  {
   "cell_type": "code",
   "execution_count": 15,
   "metadata": {},
   "outputs": [],
   "source": [
    "negList = os.listdir(neg_folder)\n",
    "# negList = getReduced(negList,3000)\n",
    "for file in (negList):\n",
    "    new_row1 = {'filename': file[:-8] + \".jpg\", 'img_width':50, 'img_height':50, 'class':'Negative',\n",
    "                'Cropped File':file}\n",
    "    reduced_df = reduced_df.append(new_row1, ignore_index=True)\n",
    "    "
   ]
  },
  {
   "attachments": {},
   "cell_type": "markdown",
   "metadata": {},
   "source": [
    "Adds hard negatives to data frame"
   ]
  },
  {
   "cell_type": "code",
   "execution_count": null,
   "metadata": {},
   "outputs": [],
   "source": [
    "\n",
    "hnm_list = os.listdir(hnm_folder)\n",
    "hnm_list = getReduced(hnm_list, 4000)\n",
    "for file in (hnm_list):\n",
    "    new_row1 = {'filename': file[:-9] + \".jpg\", 'class':'Negative',\n",
    "                'Cropped File':file}\n",
    "    reduced_df = reduced_df.append(new_row1, ignore_index=True)"
   ]
  },
  {
   "attachments": {},
   "cell_type": "markdown",
   "metadata": {},
   "source": [
    "Varifies the class count for the data frame"
   ]
  },
  {
   "cell_type": "code",
   "execution_count": 73,
   "metadata": {},
   "outputs": [
    {
     "name": "stdout",
     "output_type": "stream",
     "text": [
      "Grasper        485\n",
      "Irrigator      485\n",
      "SpecimenBag    476\n",
      "Bipolar        450\n",
      "Clipper        400\n",
      "Scissors       388\n",
      "Hook           308\n",
      "Name: class, dtype: int64\n"
     ]
    },
    {
     "data": {
      "text/html": [
       "<div>\n",
       "<style scoped>\n",
       "    .dataframe tbody tr th:only-of-type {\n",
       "        vertical-align: middle;\n",
       "    }\n",
       "\n",
       "    .dataframe tbody tr th {\n",
       "        vertical-align: top;\n",
       "    }\n",
       "\n",
       "    .dataframe thead th {\n",
       "        text-align: right;\n",
       "    }\n",
       "</style>\n",
       "<table border=\"1\" class=\"dataframe\">\n",
       "  <thead>\n",
       "    <tr style=\"text-align: right;\">\n",
       "      <th></th>\n",
       "      <th>filename</th>\n",
       "      <th>img_width</th>\n",
       "      <th>img_height</th>\n",
       "      <th>class</th>\n",
       "      <th>xmin</th>\n",
       "      <th>ymin</th>\n",
       "      <th>xmax</th>\n",
       "      <th>ymax</th>\n",
       "      <th>Enc. Values</th>\n",
       "      <th>Cropped File</th>\n",
       "    </tr>\n",
       "  </thead>\n",
       "  <tbody>\n",
       "    <tr>\n",
       "      <th>0</th>\n",
       "      <td>v01_002075.jpg</td>\n",
       "      <td>596.0</td>\n",
       "      <td>334.0</td>\n",
       "      <td>Grasper</td>\n",
       "      <td>201.0</td>\n",
       "      <td>171.0</td>\n",
       "      <td>256.0</td>\n",
       "      <td>191.0</td>\n",
       "      <td>[0.0, 0.0, 1.0, 0.0, 0.0, 0.0, 0.0]</td>\n",
       "      <td>v01_0020750.jpg</td>\n",
       "    </tr>\n",
       "    <tr>\n",
       "      <th>1</th>\n",
       "      <td>v01_004225.jpg</td>\n",
       "      <td>596.0</td>\n",
       "      <td>334.0</td>\n",
       "      <td>Grasper</td>\n",
       "      <td>344.0</td>\n",
       "      <td>7.0</td>\n",
       "      <td>432.0</td>\n",
       "      <td>100.0</td>\n",
       "      <td>[0.0, 0.0, 1.0, 0.0, 0.0, 0.0, 0.0]</td>\n",
       "      <td>v01_0042250.jpg</td>\n",
       "    </tr>\n",
       "    <tr>\n",
       "      <th>2</th>\n",
       "      <td>v01_004800.jpg</td>\n",
       "      <td>596.0</td>\n",
       "      <td>334.0</td>\n",
       "      <td>Grasper</td>\n",
       "      <td>215.0</td>\n",
       "      <td>189.0</td>\n",
       "      <td>367.0</td>\n",
       "      <td>250.0</td>\n",
       "      <td>[0.0, 0.0, 1.0, 0.0, 0.0, 0.0, 0.0]</td>\n",
       "      <td>v01_0048000.jpg</td>\n",
       "    </tr>\n",
       "    <tr>\n",
       "      <th>3</th>\n",
       "      <td>v01_004800.jpg</td>\n",
       "      <td>596.0</td>\n",
       "      <td>334.0</td>\n",
       "      <td>Grasper</td>\n",
       "      <td>261.0</td>\n",
       "      <td>88.0</td>\n",
       "      <td>333.0</td>\n",
       "      <td>142.0</td>\n",
       "      <td>[0.0, 0.0, 1.0, 0.0, 0.0, 0.0, 0.0]</td>\n",
       "      <td>v01_0048001.jpg</td>\n",
       "    </tr>\n",
       "    <tr>\n",
       "      <th>4</th>\n",
       "      <td>v01_017125.jpg</td>\n",
       "      <td>596.0</td>\n",
       "      <td>334.0</td>\n",
       "      <td>Hook</td>\n",
       "      <td>190.0</td>\n",
       "      <td>129.0</td>\n",
       "      <td>258.0</td>\n",
       "      <td>187.0</td>\n",
       "      <td>[0.0, 0.0, 0.0, 1.0, 0.0, 0.0, 0.0]</td>\n",
       "      <td>v01_0171250.jpg</td>\n",
       "    </tr>\n",
       "    <tr>\n",
       "      <th>...</th>\n",
       "      <td>...</td>\n",
       "      <td>...</td>\n",
       "      <td>...</td>\n",
       "      <td>...</td>\n",
       "      <td>...</td>\n",
       "      <td>...</td>\n",
       "      <td>...</td>\n",
       "      <td>...</td>\n",
       "      <td>...</td>\n",
       "      <td>...</td>\n",
       "    </tr>\n",
       "    <tr>\n",
       "      <th>2987</th>\n",
       "      <td>v10_065025.jpg</td>\n",
       "      <td>578.0</td>\n",
       "      <td>324.0</td>\n",
       "      <td>Grasper</td>\n",
       "      <td>125.0</td>\n",
       "      <td>70.0</td>\n",
       "      <td>329.0</td>\n",
       "      <td>137.0</td>\n",
       "      <td>[0.0, 0.0, 1.0, 0.0, 0.0, 0.0, 0.0]</td>\n",
       "      <td>v10_0650251.jpg</td>\n",
       "    </tr>\n",
       "    <tr>\n",
       "      <th>2988</th>\n",
       "      <td>v10_065125.jpg</td>\n",
       "      <td>578.0</td>\n",
       "      <td>324.0</td>\n",
       "      <td>SpecimenBag</td>\n",
       "      <td>327.0</td>\n",
       "      <td>197.0</td>\n",
       "      <td>444.0</td>\n",
       "      <td>294.0</td>\n",
       "      <td>[0.0, 0.0, 0.0, 0.0, 0.0, 0.0, 1.0]</td>\n",
       "      <td>v10_0651250.jpg</td>\n",
       "    </tr>\n",
       "    <tr>\n",
       "      <th>2989</th>\n",
       "      <td>v10_065150.jpg</td>\n",
       "      <td>578.0</td>\n",
       "      <td>324.0</td>\n",
       "      <td>SpecimenBag</td>\n",
       "      <td>125.0</td>\n",
       "      <td>134.0</td>\n",
       "      <td>348.0</td>\n",
       "      <td>303.0</td>\n",
       "      <td>[0.0, 0.0, 0.0, 0.0, 0.0, 0.0, 1.0]</td>\n",
       "      <td>v10_0651500.jpg</td>\n",
       "    </tr>\n",
       "    <tr>\n",
       "      <th>2990</th>\n",
       "      <td>v10_066100.jpg</td>\n",
       "      <td>578.0</td>\n",
       "      <td>324.0</td>\n",
       "      <td>SpecimenBag</td>\n",
       "      <td>106.0</td>\n",
       "      <td>111.0</td>\n",
       "      <td>341.0</td>\n",
       "      <td>216.0</td>\n",
       "      <td>[0.0, 0.0, 0.0, 0.0, 0.0, 0.0, 1.0]</td>\n",
       "      <td>v10_0661000.jpg</td>\n",
       "    </tr>\n",
       "    <tr>\n",
       "      <th>2991</th>\n",
       "      <td>v10_066125.jpg</td>\n",
       "      <td>578.0</td>\n",
       "      <td>324.0</td>\n",
       "      <td>SpecimenBag</td>\n",
       "      <td>126.0</td>\n",
       "      <td>176.0</td>\n",
       "      <td>387.0</td>\n",
       "      <td>285.0</td>\n",
       "      <td>[0.0, 0.0, 0.0, 0.0, 0.0, 0.0, 1.0]</td>\n",
       "      <td>v10_0661250.jpg</td>\n",
       "    </tr>\n",
       "  </tbody>\n",
       "</table>\n",
       "<p>2992 rows × 10 columns</p>\n",
       "</div>"
      ],
      "text/plain": [
       "            filename  img_width  img_height        class   xmin   ymin   xmax  \\\n",
       "0     v01_002075.jpg      596.0       334.0      Grasper  201.0  171.0  256.0   \n",
       "1     v01_004225.jpg      596.0       334.0      Grasper  344.0    7.0  432.0   \n",
       "2     v01_004800.jpg      596.0       334.0      Grasper  215.0  189.0  367.0   \n",
       "3     v01_004800.jpg      596.0       334.0      Grasper  261.0   88.0  333.0   \n",
       "4     v01_017125.jpg      596.0       334.0         Hook  190.0  129.0  258.0   \n",
       "...              ...        ...         ...          ...    ...    ...    ...   \n",
       "2987  v10_065025.jpg      578.0       324.0      Grasper  125.0   70.0  329.0   \n",
       "2988  v10_065125.jpg      578.0       324.0  SpecimenBag  327.0  197.0  444.0   \n",
       "2989  v10_065150.jpg      578.0       324.0  SpecimenBag  125.0  134.0  348.0   \n",
       "2990  v10_066100.jpg      578.0       324.0  SpecimenBag  106.0  111.0  341.0   \n",
       "2991  v10_066125.jpg      578.0       324.0  SpecimenBag  126.0  176.0  387.0   \n",
       "\n",
       "       ymax                          Enc. Values     Cropped File  \n",
       "0     191.0  [0.0, 0.0, 1.0, 0.0, 0.0, 0.0, 0.0]  v01_0020750.jpg  \n",
       "1     100.0  [0.0, 0.0, 1.0, 0.0, 0.0, 0.0, 0.0]  v01_0042250.jpg  \n",
       "2     250.0  [0.0, 0.0, 1.0, 0.0, 0.0, 0.0, 0.0]  v01_0048000.jpg  \n",
       "3     142.0  [0.0, 0.0, 1.0, 0.0, 0.0, 0.0, 0.0]  v01_0048001.jpg  \n",
       "4     187.0  [0.0, 0.0, 0.0, 1.0, 0.0, 0.0, 0.0]  v01_0171250.jpg  \n",
       "...     ...                                  ...              ...  \n",
       "2987  137.0  [0.0, 0.0, 1.0, 0.0, 0.0, 0.0, 0.0]  v10_0650251.jpg  \n",
       "2988  294.0  [0.0, 0.0, 0.0, 0.0, 0.0, 0.0, 1.0]  v10_0651250.jpg  \n",
       "2989  303.0  [0.0, 0.0, 0.0, 0.0, 0.0, 0.0, 1.0]  v10_0651500.jpg  \n",
       "2990  216.0  [0.0, 0.0, 0.0, 0.0, 0.0, 0.0, 1.0]  v10_0661000.jpg  \n",
       "2991  285.0  [0.0, 0.0, 0.0, 0.0, 0.0, 0.0, 1.0]  v10_0661250.jpg  \n",
       "\n",
       "[2992 rows x 10 columns]"
      ]
     },
     "execution_count": 73,
     "metadata": {},
     "output_type": "execute_result"
    }
   ],
   "source": [
    "print(reduced_df[\"class\"].value_counts())\n",
    "reduced_df"
   ]
  },
  {
   "attachments": {},
   "cell_type": "markdown",
   "metadata": {},
   "source": [
    "Emits multi-class label with only one instance"
   ]
  },
  {
   "cell_type": "code",
   "execution_count": 74,
   "metadata": {},
   "outputs": [
    {
     "name": "stdout",
     "output_type": "stream",
     "text": [
      "[0.0, 0.0, 0.0, 0.0, 1.0, 0.0, 0.0]    385\n",
      "[0.0, 0.0, 0.0, 1.0, 0.0, 0.0, 0.0]    307\n",
      "[0.0, 1.0, 0.0, 0.0, 0.0, 0.0, 0.0]    299\n",
      "[0.0, 0.0, 0.0, 0.0, 0.0, 1.0, 0.0]    264\n",
      "[1.0, 0.0, 0.0, 0.0, 0.0, 0.0, 0.0]    245\n",
      "[0.0, 0.0, 1.0, 0.0, 0.0, 0.0, 0.0]    221\n",
      "[1.0, 0.0, 1.0, 0.0, 0.0, 0.0, 0.0]    205\n",
      "[0.0, 0.0, 1.0, 0.0, 0.0, 0.0, 1.0]    185\n",
      "[0.0, 0.0, 0.0, 0.0, 0.0, 0.0, 1.0]    175\n",
      "[0.0, 1.0, 1.0, 0.0, 0.0, 0.0, 0.0]    101\n",
      "[0.0, 0.0, 1.0, 0.0, 1.0, 0.0, 0.0]    100\n",
      "[0.0, 0.0, 2.0, 0.0, 0.0, 0.0, 1.0]     96\n",
      "[0.0, 0.0, 2.0, 0.0, 0.0, 0.0, 0.0]     79\n",
      "[0.0, 0.0, 2.0, 0.0, 0.0, 1.0, 0.0]     63\n",
      "[0.0, 0.0, 1.0, 0.0, 0.0, 1.0, 0.0]     61\n",
      "[0.0, 0.0, 3.0, 0.0, 0.0, 0.0, 1.0]     20\n",
      "[0.0, 0.0, 3.0, 0.0, 0.0, 0.0, 0.0]      4\n",
      "Name: Multi_label, dtype: int64\n"
     ]
    }
   ],
   "source": [
    "original_df = original_df[original_df.Filename !=  \"v01_035325.jpg\"]\n",
    "print(original_df[\"Multi_label\"].value_counts())"
   ]
  },
  {
   "attachments": {},
   "cell_type": "markdown",
   "metadata": {},
   "source": [
    "Train test split for the filenames assosiated with multi-labels"
   ]
  },
  {
   "cell_type": "code",
   "execution_count": 75,
   "metadata": {},
   "outputs": [
    {
     "name": "stdout",
     "output_type": "stream",
     "text": [
      "(2248,)\n",
      "(2248,)\n",
      "(562,)\n",
      "(562,)\n"
     ]
    }
   ],
   "source": [
    "'''Train-test split on original images.'''\n",
    "\n",
    "X_train, X_test, y_train, y_test = train_test_split((np.asarray(original_df[\"Filename\"])), (np.asarray(original_df[\"Multi_label\"])), test_size = 0.2,random_state=22, shuffle=True, stratify=(np.asarray(original_df[\"Multi_label\"])))\n",
    "print(X_train.shape)\n",
    "print(y_train.shape)\n",
    "print(X_test.shape)\n",
    "print(y_test.shape)"
   ]
  },
  {
   "attachments": {},
   "cell_type": "markdown",
   "metadata": {},
   "source": [
    "Creates temporary data frames to show the successful splitting of multi-label classes"
   ]
  },
  {
   "cell_type": "code",
   "execution_count": 76,
   "metadata": {},
   "outputs": [
    {
     "name": "stdout",
     "output_type": "stream",
     "text": [
      "[0.0, 0.0, 0.0, 0.0, 1.0, 0.0, 0.0]    308\n",
      "[0.0, 0.0, 0.0, 1.0, 0.0, 0.0, 0.0]    246\n",
      "[0.0, 1.0, 0.0, 0.0, 0.0, 0.0, 0.0]    239\n",
      "[0.0, 0.0, 0.0, 0.0, 0.0, 1.0, 0.0]    211\n",
      "[1.0, 0.0, 0.0, 0.0, 0.0, 0.0, 0.0]    196\n",
      "[0.0, 0.0, 1.0, 0.0, 0.0, 0.0, 0.0]    177\n",
      "[1.0, 0.0, 1.0, 0.0, 0.0, 0.0, 0.0]    164\n",
      "[0.0, 0.0, 1.0, 0.0, 0.0, 0.0, 1.0]    148\n",
      "[0.0, 0.0, 0.0, 0.0, 0.0, 0.0, 1.0]    140\n",
      "[0.0, 1.0, 1.0, 0.0, 0.0, 0.0, 0.0]     81\n",
      "[0.0, 0.0, 1.0, 0.0, 1.0, 0.0, 0.0]     80\n",
      "[0.0, 0.0, 2.0, 0.0, 0.0, 0.0, 1.0]     77\n",
      "[0.0, 0.0, 2.0, 0.0, 0.0, 0.0, 0.0]     63\n",
      "[0.0, 0.0, 2.0, 0.0, 0.0, 1.0, 0.0]     50\n",
      "[0.0, 0.0, 1.0, 0.0, 0.0, 1.0, 0.0]     49\n",
      "[0.0, 0.0, 3.0, 0.0, 0.0, 0.0, 1.0]     16\n",
      "[0.0, 0.0, 3.0, 0.0, 0.0, 0.0, 0.0]      3\n",
      "Name: Multi-label, dtype: int64\n",
      "[0.0, 0.0, 0.0, 0.0, 1.0, 0.0, 0.0]    77\n",
      "[0.0, 0.0, 0.0, 1.0, 0.0, 0.0, 0.0]    61\n",
      "[0.0, 1.0, 0.0, 0.0, 0.0, 0.0, 0.0]    60\n",
      "[0.0, 0.0, 0.0, 0.0, 0.0, 1.0, 0.0]    53\n",
      "[1.0, 0.0, 0.0, 0.0, 0.0, 0.0, 0.0]    49\n",
      "[0.0, 0.0, 1.0, 0.0, 0.0, 0.0, 0.0]    44\n",
      "[1.0, 0.0, 1.0, 0.0, 0.0, 0.0, 0.0]    41\n",
      "[0.0, 0.0, 1.0, 0.0, 0.0, 0.0, 1.0]    37\n",
      "[0.0, 0.0, 0.0, 0.0, 0.0, 0.0, 1.0]    35\n",
      "[0.0, 1.0, 1.0, 0.0, 0.0, 0.0, 0.0]    20\n",
      "[0.0, 0.0, 1.0, 0.0, 1.0, 0.0, 0.0]    20\n",
      "[0.0, 0.0, 2.0, 0.0, 0.0, 0.0, 1.0]    19\n",
      "[0.0, 0.0, 2.0, 0.0, 0.0, 0.0, 0.0]    16\n",
      "[0.0, 0.0, 2.0, 0.0, 0.0, 1.0, 0.0]    13\n",
      "[0.0, 0.0, 1.0, 0.0, 0.0, 1.0, 0.0]    12\n",
      "[0.0, 0.0, 3.0, 0.0, 0.0, 0.0, 1.0]     4\n",
      "[0.0, 0.0, 3.0, 0.0, 0.0, 0.0, 0.0]     1\n",
      "Name: Multi-label, dtype: int64\n"
     ]
    }
   ],
   "source": [
    "'''Shows split of multi-label data between train and test data'''\n",
    "\n",
    "class_train_df = pd.DataFrame(columns = ['Filename', 'Multi-label'])\n",
    "class_train_df[\"Filename\"] = X_train\n",
    "class_train_df[\"Multi-label\"] = y_train\n",
    "class_test_df = pd.DataFrame(columns = ['Filename', 'Multi-label'])\n",
    "class_test_df[\"Filename\"] = X_test\n",
    "class_test_df[\"Multi-label\"] = y_test\n",
    "print(class_train_df[\"Multi-label\"].value_counts())\n",
    "print(class_test_df[\"Multi-label\"].value_counts())"
   ]
  },
  {
   "attachments": {},
   "cell_type": "markdown",
   "metadata": {},
   "source": [
    "Extracts train and test files from reduced data frame (data to input into models)"
   ]
  },
  {
   "cell_type": "code",
   "execution_count": 31,
   "metadata": {},
   "outputs": [
    {
     "name": "stdout",
     "output_type": "stream",
     "text": [
      "Negative       8496\n",
      "Irrigator       388\n",
      "SpecimenBag     381\n",
      "Grasper         380\n",
      "Bipolar         360\n",
      "Clipper         320\n",
      "Scissors        310\n",
      "Hook            246\n",
      "Name: class, dtype: int64\n",
      "Negative       1126\n",
      "Grasper         105\n",
      "Irrigator        97\n",
      "SpecimenBag      95\n",
      "Bipolar          90\n",
      "Clipper          80\n",
      "Scissors         78\n",
      "Hook             62\n",
      "Name: class, dtype: int64\n"
     ]
    }
   ],
   "source": [
    "'''Extracts rows for train dataset and validates that classes are correctly represented.'''\n",
    "\n",
    "train_df = reduced_df.copy()\n",
    "test_df = reduced_df.copy()\n",
    "rows = []\n",
    "for index, row in train_df.iterrows():\n",
    "    if row[\"filename\"] not in X_train:\n",
    "        train_df.drop(index, inplace=True) \n",
    "    else:\n",
    "        test_df.drop(index, inplace=True)\n",
    "train_df = train_df.reset_index()\n",
    "test_df = test_df.reset_index()\n",
    "print(train_df[\"class\"].value_counts())\n",
    "print(test_df[\"class\"].value_counts()) "
   ]
  },
  {
   "attachments": {},
   "cell_type": "markdown",
   "metadata": {},
   "source": [
    "HOG transformation function created to keep consistency with parameters"
   ]
  },
  {
   "cell_type": "code",
   "execution_count": 32,
   "metadata": {},
   "outputs": [],
   "source": [
    "'''Function to find HOG feature descriptors'''\n",
    "\n",
    "def hogTransform(img):\n",
    "    hog_img= hog(\n",
    "    img, pixels_per_cell=(5,5), \n",
    "    cells_per_block=(2, 2), \n",
    "    orientations=9, \n",
    "    block_norm='L2-Hys', \n",
    "    transform_sqrt=True)\n",
    "    return (hog_img)\n"
   ]
  },
  {
   "attachments": {},
   "cell_type": "markdown",
   "metadata": {},
   "source": [
    "All images in the training set are read in and feature descriptors are calculated\n",
    "Feature descriptors are added to train_df"
   ]
  },
  {
   "cell_type": "code",
   "execution_count": null,
   "metadata": {},
   "outputs": [],
   "source": [
    "'''Images are read in, grey-scaled, resized and hog-transformed.'''\n",
    "'''A 1D feature descriptor is added to the dataframe for each image.'''\n",
    "\n",
    "data = []\n",
    "os.chdir(cropped_folder)\n",
    "for index, row in train_df.iterrows():\n",
    "    if row[\"Cropped File\"].endswith(\"neg1.jpg\") or row[\"Cropped File\"].endswith(\"neg2.jpg\"):\n",
    "        os.chdir(neg_folder)\n",
    "    elif row[\"Cropped File\"][-9:-6] == \"HNM\":\n",
    "        os.chdir(hnm_folder)\n",
    "    else:\n",
    "        os.chdir(cropped_folder)\n",
    "    img = cv2.imread(row[\"Cropped File\"], 0)\n",
    "    img = resize(img, (50,50))\n",
    "    hog_img = hogTransform(img)\n",
    "    data.append(hog_img)\n",
    "\n",
    "train_df[\"Data\"] = data\n",
    "print(train_df)"
   ]
  },
  {
   "attachments": {},
   "cell_type": "markdown",
   "metadata": {},
   "source": [
    "SVM is imported for use \n",
    "Data is put in the required format for the classifer"
   ]
  },
  {
   "cell_type": "code",
   "execution_count": 34,
   "metadata": {},
   "outputs": [],
   "source": [
    "'''SVM is imported.'''\n",
    "'''Data is formatted correctly for model training. This includes the use of OneHotEncoder to represent the classes.'''\n",
    "\n",
    "from sklearn import svm\n",
    "\n",
    "enc.fit(train_df['class'].values.reshape(-1,1))\n",
    "\n",
    "X_data = list(np.asarray(train_df['Data']))\n",
    "Y_data = np.asarray(enc.transform(train_df['class'].values.reshape(-1,1)).toarray())\n",
    "Y_train = np.argmax(Y_data, axis=1)"
   ]
  },
  {
   "attachments": {},
   "cell_type": "markdown",
   "metadata": {},
   "source": [
    "Model is trained on the training set"
   ]
  },
  {
   "cell_type": "code",
   "execution_count": null,
   "metadata": {},
   "outputs": [],
   "source": [
    "'''SVM model is trained.'''\n",
    "\n",
    "clf = svm.SVC(probability=True, C=10, gamma = 0.01)\n",
    "clf.fit(X_data, Y_train)"
   ]
  },
  {
   "attachments": {},
   "cell_type": "markdown",
   "metadata": {},
   "source": [
    "Pickle is imported\n",
    "Models can be saved using the lines below"
   ]
  },
  {
   "cell_type": "code",
   "execution_count": 286,
   "metadata": {},
   "outputs": [],
   "source": [
    "import pickle\n",
    "os.chdir(model_folder)\n",
    "pickle.dump(clf, open('SVMProto.pkl', 'wb'))"
   ]
  },
  {
   "attachments": {},
   "cell_type": "markdown",
   "metadata": {},
   "source": [
    "Models can be loaded in with the following command"
   ]
  },
  {
   "cell_type": "code",
   "execution_count": 63,
   "metadata": {},
   "outputs": [],
   "source": [
    "clf = pickle.load(open('bigSVM.pkl', 'rb'))"
   ]
  },
  {
   "attachments": {},
   "cell_type": "markdown",
   "metadata": {},
   "source": [
    "The set up to find the best parameters for the SVM model"
   ]
  },
  {
   "cell_type": "code",
   "execution_count": null,
   "metadata": {},
   "outputs": [
    {
     "name": "stdout",
     "output_type": "stream",
     "text": [
      "Fitting 5 folds for each of 48 candidates, totalling 240 fits\n",
      "SVC(C=10, gamma=0.01, probability=True)\n"
     ]
    }
   ],
   "source": [
    "param_grid = {'C': [0.1,1, 10, 100], 'gamma': [1,0.1,0.01,0.001],'kernel': ['rbf', 'poly', 'sigmoid']}\n",
    "\n",
    "grid = GridSearchCV(svm.SVC(probability=True),param_grid,refit=True,verbose=2, n_jobs=-1)\n",
    "grid.fit(X_data, Y_train)\n",
    "\n",
    "print(grid.best_estimator_)"
   ]
  },
  {
   "attachments": {},
   "cell_type": "markdown",
   "metadata": {},
   "source": [
    "Images in the test set are read in and feature descriptors are calculated"
   ]
  },
  {
   "cell_type": "code",
   "execution_count": null,
   "metadata": {},
   "outputs": [],
   "source": [
    "'''Test images are processed (same as training data).'''\n",
    "\n",
    "test_data = []\n",
    "os.chdir(cropped_folder)\n",
    "for index, row in test_df.iterrows():\n",
    "    if row[\"Cropped File\"].endswith(\"neg1.jpg\") or row[\"Cropped File\"].endswith(\"neg2.jpg\"):\n",
    "        os.chdir(neg_folder)\n",
    "    else:\n",
    "        os.chdir(cropped_folder)\n",
    "    img = cv2.imread(row[\"Cropped File\"], 0)\n",
    "    img = resize(img, (50,50))\n",
    "    hog_img = hogTransform(img)\n",
    "    test_data.append(hog_img)\n",
    "\n",
    "test_df[\"Data\"] = test_data\n",
    "test_df"
   ]
  },
  {
   "attachments": {},
   "cell_type": "markdown",
   "metadata": {},
   "source": [
    "Further varification of the train test split before a model is tested"
   ]
  },
  {
   "cell_type": "code",
   "execution_count": 228,
   "metadata": {},
   "outputs": [
    {
     "name": "stdout",
     "output_type": "stream",
     "text": [
      "Negative       1126\n",
      "Irrigator        97\n",
      "SpecimenBag      95\n",
      "Bipolar          90\n",
      "Grasper          89\n",
      "Clipper          80\n",
      "Scissors         78\n",
      "Hook             62\n",
      "Name: class, dtype: int64\n",
      "Negative       4496\n",
      "Grasper         396\n",
      "Irrigator       388\n",
      "SpecimenBag     381\n",
      "Bipolar         360\n",
      "Clipper         320\n",
      "Scissors        310\n",
      "Hook            246\n",
      "Name: class, dtype: int64\n"
     ]
    }
   ],
   "source": [
    "print(test_df[\"class\"].value_counts())\n",
    "print(train_df[\"class\"].value_counts())"
   ]
  },
  {
   "attachments": {},
   "cell_type": "markdown",
   "metadata": {},
   "source": [
    "Test data is correctly formatted for the model "
   ]
  },
  {
   "cell_type": "code",
   "execution_count": 65,
   "metadata": {},
   "outputs": [],
   "source": [
    "'''Test data is correctly formatted.'''\n",
    "'''Model predicts targets for test data and root mean squared error is calculated.'''\n",
    "\n",
    "enc.fit(test_df['class'].values.reshape(-1,1))\n",
    "\n",
    "X_data_test = list(np.asarray(test_df['Data']))\n",
    "Y_data_test = np.asarray(enc.transform(test_df['class'].values.reshape(-1,1)).toarray())\n",
    "\n",
    "targets = np.argmax(Y_data_test, axis=1)"
   ]
  },
  {
   "attachments": {},
   "cell_type": "markdown",
   "metadata": {},
   "source": [
    "Model predicts labels for test data"
   ]
  },
  {
   "cell_type": "code",
   "execution_count": 76,
   "metadata": {},
   "outputs": [
    {
     "name": "stdout",
     "output_type": "stream",
     "text": [
      "1.3394340322248552\n"
     ]
    }
   ],
   "source": [
    "svm_predicted = clf.predict(X_data_test)\n",
    "\n",
    "test_SVM_mse = mean_squared_error(targets, svm_predicted)\n",
    "test_SVM_rsme=np.sqrt(test_SVM_mse)\n",
    "print(test_SVM_rsme)"
   ]
  },
  {
   "attachments": {},
   "cell_type": "markdown",
   "metadata": {},
   "source": [
    "Confusion matrix and classification report is displayed"
   ]
  },
  {
   "cell_type": "code",
   "execution_count": 77,
   "metadata": {},
   "outputs": [
    {
     "name": "stdout",
     "output_type": "stream",
     "text": [
      "prediction   0   1   2   3   4     5   6\n",
      "label                                   \n",
      "0           56   2   2   2   6    11   7\n",
      "1            3  60   0   4   3     1   4\n",
      "2            6   3  60   1   0    17   8\n",
      "3            1   2   2  45   4     2   3\n",
      "4            5   4   2   1  76     4   2\n",
      "5            3   3   3   0   1  1112   4\n",
      "6            9   8   1   1   5     6  46\n",
      "              precision    recall  f1-score   support\n",
      "\n",
      "           0       0.64      0.62      0.63        90\n",
      "           1       0.70      0.75      0.72        80\n",
      "           2       0.83      0.62      0.71        96\n",
      "           3       0.78      0.73      0.75        62\n",
      "           4       0.76      0.78      0.77        97\n",
      "           5       0.96      0.99      0.97      1126\n",
      "           6       0.59      0.59      0.59        78\n",
      "           7       0.79      0.71      0.74        95\n",
      "\n",
      "    accuracy                           0.88      1724\n",
      "   macro avg       0.76      0.72      0.74      1724\n",
      "weighted avg       0.88      0.88      0.88      1724\n",
      "\n"
     ]
    }
   ],
   "source": [
    "'''Confusion matrix for multi-class classifier is presented along with the classification report for the model.'''\n",
    "\n",
    "label_names = [0,1,2,3,4,5,6]\n",
    "\n",
    "cmx_SVM = confusion_matrix(targets, svm_predicted, labels=label_names)\n",
    "df_SVM = pd.DataFrame(cmx_SVM, columns=label_names, index=label_names)\n",
    "df_SVM.columns.name = 'prediction'\n",
    "df_SVM.index.name = 'label'\n",
    "print(df_SVM)\n",
    "print(classification_report(targets, svm_predicted))"
   ]
  },
  {
   "attachments": {},
   "cell_type": "markdown",
   "metadata": {},
   "source": [
    "Sliding window function\n",
    "The image (2D array), window dimensions and step increment dimensions are given.\n",
    "The function returns a list of tuples containing: the coordinates of the window and the cropped image (the image at each window)."
   ]
  },
  {
   "cell_type": "code",
   "execution_count": 36,
   "metadata": {},
   "outputs": [],
   "source": [
    "def slidingWindow(image, window_width, window_height, x_step_size, y_step_size):\n",
    "    img_list = []\n",
    "    img_width =  image.shape[1]\n",
    "    img_height = image.shape[0]\n",
    "    ip_row = math.ceil((img_width - window_width) / x_step_size) + 1 #Iterations per row (Plus one accounts for range starting from 0, not 1)\n",
    "    ip_column = math.ceil((img_height - window_height) / y_step_size) + 1 #Iterations per column (Plus one accounts for range starting from 0, not 1)\n",
    "    for y in range(ip_column):\n",
    "        for x in range(ip_row):\n",
    "            x_win_pos = x*x_step_size\n",
    "            y_win_pos = y*y_step_size\n",
    "            if (x_win_pos + window_width > img_width):\n",
    "                x_win_pos = img_width - window_width\n",
    "            if (y_win_pos + window_height > img_height):\n",
    "                y_win_pos = img_height - window_height\n",
    "            img_crop = image[ y_win_pos:(y_win_pos + window_height),x_win_pos : (x_win_pos + window_width)]\n",
    "            img_list.append(((x_win_pos, y_win_pos, x_win_pos + window_width, y_win_pos + window_height), img_crop))\n",
    "    return(img_list)"
   ]
  },
  {
   "cell_type": "code",
   "execution_count": null,
   "metadata": {},
   "outputs": [],
   "source": [
    "cv2.destroyAllWindows()"
   ]
  },
  {
   "attachments": {},
   "cell_type": "markdown",
   "metadata": {},
   "source": [
    "Image pyramid \n",
    "An image, scale factor and iterations are given.\n",
    "The function returns a list of images in descending order of size."
   ]
  },
  {
   "cell_type": "code",
   "execution_count": 37,
   "metadata": {},
   "outputs": [],
   "source": [
    "def imagePyramid(image, scale_factor, iterations):\n",
    "    imgpyr_list = []\n",
    "    for i in range(iterations):\n",
    "        div_val = pow(scale_factor,i)\n",
    "        new_image = resize(image, (image.shape[0]//div_val,image.shape[1]//div_val))\n",
    "        imgpyr_list.append((div_val,new_image))\n",
    "    return(imgpyr_list)    "
   ]
  },
  {
   "attachments": {},
   "cell_type": "markdown",
   "metadata": {},
   "source": [
    "Function to predict boxes on a given image\n",
    "Implements both sliding window and image pyramid\n",
    "returns a list of tuples containing: the box for the source image, class and probability for each box"
   ]
  },
  {
   "cell_type": "code",
   "execution_count": 53,
   "metadata": {},
   "outputs": [],
   "source": [
    "def findBoxes(filename, window_width, window_height):\n",
    "    os.chdir(raw_folder)\n",
    "    image = cv2.imread(filename, 0)\n",
    "    pred_boxes = []\n",
    "    for pyr_tpl in imagePyramid(image,1.4,6):\n",
    "        pyr_img = pyr_tpl[1]\n",
    "        pyr_scale = pyr_tpl[0]\n",
    "        print(pyr_scale)\n",
    "        for window_tpl in slidingWindow(pyr_img,window_width,window_height,10,10):\n",
    "            prob = 0\n",
    "            win_img = window_tpl[1]\n",
    "            win_box = window_tpl[0]\n",
    "            img = resize(win_img, (50,50))\n",
    "            hog_img = hogTransform(img)\n",
    "            prob_list = clf.predict_proba((hog_img).reshape(1, -1))[0]\n",
    "            for index in range(len(prob_list)):\n",
    "                if prob < prob_list[index]:\n",
    "                    class_type = index\n",
    "                    prob = prob_list[index]\n",
    "            if prob >0.85 and class_type!=5 and class_type != 7:\n",
    "                print((prob,class_type)) \n",
    "\n",
    "                pred_boxes.append(((math.ceil(win_box[0]*pyr_scale), math.ceil(win_box[1]*pyr_scale), math.ceil(win_box[2]*pyr_scale), math.ceil(win_box[3]*pyr_scale)),class_type,prob))\n",
    "            \n",
    "    return(pred_boxes)"
   ]
  },
  {
   "attachments": {},
   "cell_type": "markdown",
   "metadata": {},
   "source": [
    "function to calculate the intersection over union for two boxes"
   ]
  },
  {
   "cell_type": "code",
   "execution_count": 41,
   "metadata": {},
   "outputs": [],
   "source": [
    "def IoU (box1, box2):\n",
    "    #Calculates area of given boxes\n",
    "    box1Area = (box1[2] - box1[0] + 1) * (box1[3] - box1[1] + 1)\n",
    "    box2Area = (box2[2] - box2[0] + 1) * (box2[3] - box2[1] + 1)\n",
    "\n",
    "    #Calculates corners of intersecting box\n",
    "    xtopL = max(box1[0], box2[0])\n",
    "    ytopL = max(box1[1], box2[1])\n",
    "    xbotR = min(box1[2], box2[2])\n",
    "    ybotR = min(box1[3], box2[3])\n",
    "\n",
    "    #Calculates area of intersecting box (gives 0 if intersecting box doesn't exist)\n",
    "    interArea = max(0, xbotR - xtopL + 1) * max(0, ybotR - ytopL + 1)\n",
    "\n",
    "    #Calculates intersection over union\n",
    "    iou = interArea / float(box1Area + box2Area - interArea)\n",
    "    \n",
    "    return iou"
   ]
  },
  {
   "attachments": {},
   "cell_type": "markdown",
   "metadata": {},
   "source": [
    "Non maximum suppression function for a list of boxes"
   ]
  },
  {
   "cell_type": "code",
   "execution_count": 42,
   "metadata": {},
   "outputs": [],
   "source": [
    "def nms(boxes):\n",
    "    box_list = boxes.copy()\n",
    "    box_list.sort(key = lambda i:i[2], reverse = True)\n",
    "    new_list = []\n",
    "    while len(box_list) != 0:\n",
    "        new_box = box_list[0]\n",
    "        new_list.append(box_list[0])\n",
    "        box_list.remove(box_list[0])\n",
    "        box_list_copy = box_list.copy()\n",
    "        for box in box_list:\n",
    "            if (IoU(new_box[0],box[0])) > 0:\n",
    "                box_list_copy.remove(box)\n",
    "        box_list = box_list_copy\n",
    "    return new_list "
   ]
  },
  {
   "attachments": {},
   "cell_type": "markdown",
   "metadata": {},
   "source": [
    "function to draw in final predicted boxes"
   ]
  },
  {
   "cell_type": "code",
   "execution_count": 27,
   "metadata": {},
   "outputs": [],
   "source": [
    "def drawBox(image, box,colour, name):\n",
    "    if name == \"0\":\n",
    "        class_name = \"Bipolar\"\n",
    "        colour = (203,131,21)\n",
    "    elif name == \"1\":\n",
    "        class_name = \"Clipper\"\n",
    "        colour = (203,21,40)\n",
    "    elif name == \"2\":\n",
    "        class_name = \"Grasper\"\n",
    "        colour = (214,235,25)\n",
    "    elif name == \"3\":\n",
    "        class_name = \"Hook\"\n",
    "        colour = (25,235,228)\n",
    "    elif name == \"4\":\n",
    "        class_name = \"Irrigator\"\n",
    "        colour = (25,116,235)\n",
    "    elif name == \"6\":\n",
    "        class_name = \"Scissors\"\n",
    "        colour = (102,25,235)\n",
    "    elif name == \"7\":\n",
    "        class_name = \"Specimen Bag\"\n",
    "        colour = (235,25,235)\n",
    "    else:\n",
    "        class_name = name\n",
    "    clone = image.copy()\n",
    "    clone = cv2.rectangle(clone, (box[0], box[1]), (box[2], box[3]), colour, 2)\n",
    "    clone = cv2.putText(clone, class_name, (box[0], box[1]-10), cv2.FONT_HERSHEY_PLAIN, 1, (255,255,255), 2)\n",
    "    return clone\n",
    "    "
   ]
  },
  {
   "attachments": {},
   "cell_type": "markdown",
   "metadata": {},
   "source": [
    "Function to save images for the hard negative mining process"
   ]
  },
  {
   "cell_type": "code",
   "execution_count": 28,
   "metadata": {},
   "outputs": [],
   "source": [
    "def saveImg(filename, box, index,folder):\n",
    "    os.chdir(raw_folder)\n",
    "    if index < 10:\n",
    "        str_index = \"0\" + str(index)\n",
    "    elif index > 99:\n",
    "        print(\"EXCEEDED RANGE\")    \n",
    "    else:\n",
    "        str_index = str(index)    \n",
    "    img = Image.open(filename)\n",
    "    img_crop = img.crop((box[0], box[1], box[2], box[3]))\n",
    "    \n",
    "    newfile = filename[:-4] + \"HNM\" + str_index + \".jpg\"\n",
    "    os.chdir(folder)\n",
    "    img_crop.save(newfile)\n",
    "    "
   ]
  },
  {
   "attachments": {},
   "cell_type": "markdown",
   "metadata": {},
   "source": [
    "function to find truth boxes for a given source image "
   ]
  },
  {
   "cell_type": "code",
   "execution_count": 43,
   "metadata": {},
   "outputs": [],
   "source": [
    "def findTruths(filename):\n",
    "    truth_boxes = []\n",
    "    for index, row in class_df.iterrows():\n",
    "        if row[\"filename\"] == filename and row[\"class\"] != \"Negative\" and not pd.isnull(row[\"xmin\"]):\n",
    "            truth_boxes.append(((int(row[\"xmin\"]),int(row[\"ymin\"]),int(row[\"xmax\"]),int(row[\"ymax\"])),row[\"class\"]))\n",
    "    return truth_boxes"
   ]
  },
  {
   "attachments": {},
   "cell_type": "markdown",
   "metadata": {},
   "source": [
    "Example truth box finding"
   ]
  },
  {
   "cell_type": "code",
   "execution_count": 45,
   "metadata": {},
   "outputs": [
    {
     "name": "stdout",
     "output_type": "stream",
     "text": [
      "[((287, 207, 520, 422), 'Scissors')]\n"
     ]
    }
   ],
   "source": [
    "os.chdir(raw_folder)\n",
    "test_image = \"v02_027150.jpg\"\n",
    "truth_boxes = findTruths(test_image)\n",
    "print(truth_boxes)"
   ]
  },
  {
   "attachments": {},
   "cell_type": "markdown",
   "metadata": {},
   "source": [
    "Shows filenames for test set"
   ]
  },
  {
   "cell_type": "code",
   "execution_count": null,
   "metadata": {},
   "outputs": [],
   "source": [
    "test_imgs = []\n",
    "\n",
    "for index, row in test_df.iterrows():\n",
    "    test_imgs.append(row[\"filename\"])\n",
    "\n",
    "\n",
    "test_imgs = list(dict.fromkeys(test_imgs)) \n",
    "print(test_imgs)    "
   ]
  },
  {
   "attachments": {},
   "cell_type": "markdown",
   "metadata": {},
   "source": [
    "Shows filenames for training set"
   ]
  },
  {
   "cell_type": "code",
   "execution_count": null,
   "metadata": {},
   "outputs": [],
   "source": [
    "train_imgs = []\n",
    "\n",
    "for index, row in train_df.iterrows():\n",
    "    train_imgs.append(row[\"filename\"])\n",
    "train_imgs = list(dict.fromkeys(train_imgs))    \n",
    "print(train_imgs)    "
   ]
  },
  {
   "attachments": {},
   "cell_type": "markdown",
   "metadata": {},
   "source": [
    "Hard negative mining process"
   ]
  },
  {
   "cell_type": "code",
   "execution_count": null,
   "metadata": {},
   "outputs": [],
   "source": [
    "counter = 0\n",
    "os.chdir(raw_folder)\n",
    "for hnm_image in X_test:\n",
    "    counter = counter + 1\n",
    "    print(\"IMAGE:\" + str(counter) + \"/\" + str(len(X_test)))\n",
    "    index = 0\n",
    "    truth_boxes = findTruths(hnm_image)\n",
    "    pred_boxes_sqr = findBoxes(hnm_image, 50, 50)\n",
    "    pred_boxes_rect = findBoxes(hnm_image, 50, 25)\n",
    "    concat_boxes = pred_boxes_rect + pred_boxes_sqr\n",
    "\n",
    "    \n",
    "    final_boxes = nms(concat_boxes)\n",
    "    image = cv2.imread(hnm_image)\n",
    "    clone2 = image.copy()\n",
    "    truth_boxes = findTruths(hnm_image)\n",
    "\n",
    "    for box_tup in final_boxes:\n",
    "        clone2 = drawBox(clone2, box_tup[0], (0,150,0), str(box_tup[1]))\n",
    "    for truth_tup in truth_boxes:\n",
    "        print(truth_tup[0])\n",
    "        clone2 = drawBox(clone2, truth_tup[0], (0,0,0), truth_tup[1])    \n",
    "    cv2.imshow(\"Box Img\", clone2)\n",
    "    cv2.waitKey(0)\n",
    "    #cv2.imwrite(\"PRED\"+hnm_image, clone2)\n",
    "    cv2.waitKey(0) "
   ]
  },
  {
   "attachments": {},
   "cell_type": "markdown",
   "metadata": {},
   "source": [
    "Box predictions for a given test image"
   ]
  },
  {
   "cell_type": "code",
   "execution_count": null,
   "metadata": {},
   "outputs": [],
   "source": [
    "import pickle\n",
    "os.chdir(model_folder)\n",
    "clf = pickle.load(open('reducedSVMv2.pkl', 'rb'))\n",
    "\n",
    "test_image = \"v02_027150.jpg\"\n",
    "truth_boxes = findTruths(test_image)\n",
    "\n",
    "pred_boxes_sqr = findBoxes(test_image, 50, 50)\n",
    "pred_boxes = findBoxes(test_image, 50, 25)\n",
    "\n",
    "concat_boxes = pred_boxes + pred_boxes_sqr"
   ]
  },
  {
   "attachments": {},
   "cell_type": "markdown",
   "metadata": {},
   "source": [
    "Total box predictions from test"
   ]
  },
  {
   "cell_type": "code",
   "execution_count": null,
   "metadata": {},
   "outputs": [
    {
     "name": "stdout",
     "output_type": "stream",
     "text": [
      "[((330, 10, 50, 25), 2, 0.93654776059604), ((360, 100, 50, 25), 2, 0.977850000722603), ((370, 100, 50, 25), 2, 0.9677474000509877), ((280, 130, 50, 25), 4, 0.9548428908865284), ((280, 140, 50, 25), 4, 0.9258880849374127), ((360, 220, 50, 25), 4, 0.9105308563982726), ((165, 264, 138, 69), 4, 0.9254022939107489)]\n"
     ]
    }
   ],
   "source": [
    "print(concat_boxes)"
   ]
  },
  {
   "attachments": {},
   "cell_type": "markdown",
   "metadata": {},
   "source": [
    "Creates image for test "
   ]
  },
  {
   "cell_type": "code",
   "execution_count": null,
   "metadata": {},
   "outputs": [],
   "source": [
    "final_boxes = nms(concat_boxes)\n",
    "image = cv2.imread(test_image)\n",
    "clone2 = image.copy()\n",
    "for box_tup in final_boxes:\n",
    "    clone2 = drawBox(clone2, box_tup[0], (0,150,0), str(box_tup[1]))\n",
    "for truth_tup in truth_boxes:\n",
    "    print(truth_tup[0])\n",
    "    clone2 = drawBox(clone2, truth_tup[0], (0,0,0), truth_tup[1])    \n",
    "cv2.imshow(\"Box Img\", clone2)\n",
    "cv2.waitKey(0)"
   ]
  },
  {
   "attachments": {},
   "cell_type": "markdown",
   "metadata": {},
   "source": [
    "Saves final image if required"
   ]
  },
  {
   "cell_type": "code",
   "execution_count": 429,
   "metadata": {},
   "outputs": [
    {
     "data": {
      "text/plain": [
       "-1"
      ]
     },
     "execution_count": 429,
     "metadata": {},
     "output_type": "execute_result"
    }
   ],
   "source": [
    "os.chdir(raw_folder)\n",
    "cv2.imwrite(\"PREDv02_027150.jpg\", clone2)\n",
    "cv2.waitKey(0)"
   ]
  }
 ],
 "metadata": {
  "kernelspec": {
   "display_name": "base",
   "language": "python",
   "name": "python3"
  },
  "language_info": {
   "codemirror_mode": {
    "name": "ipython",
    "version": 3
   },
   "file_extension": ".py",
   "mimetype": "text/x-python",
   "name": "python",
   "nbconvert_exporter": "python",
   "pygments_lexer": "ipython3",
   "version": "3.10.9"
  },
  "orig_nbformat": 4
 },
 "nbformat": 4,
 "nbformat_minor": 2
}
